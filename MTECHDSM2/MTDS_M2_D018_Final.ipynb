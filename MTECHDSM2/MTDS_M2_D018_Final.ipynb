{
  "nbformat": 4,
  "nbformat_minor": 0,
  "metadata": {
    "colab": {
      "name": "MTDS-M2-D018-Final.ipynb",
      "provenance": [],
      "toc_visible": true
    },
    "kernelspec": {
      "name": "python3",
      "display_name": "Python 3"
    }
  },
  "cells": [
    {
      "cell_type": "markdown",
      "metadata": {
        "id": "zKmFmyaGunc7"
      },
      "source": [
        "# TASK #2: MOUNT DRIVE AND IMPORT LIBRARIES/DATASETS"
      ]
    },
    {
      "cell_type": "markdown",
      "metadata": {
        "id": "G4OdH814kOII"
      },
      "source": [
        "- In this case study, we want to classify images of traffic signs using deep Convolutional Neural Networks (CNNs).\n",
        "- The dataset consists of 43 different classes of images. \n",
        "- Classes are as listed below: \n",
        "  - 0 = Speed limit (20km/h) \n",
        "  - 1 = Speed limit (30km/h)\n",
        "  - 2 = Speed limit (50km/h) \n",
        "  - 3 = Speed limit (60km/h)\n",
        "  - 4 = Speed limit (70km/h) \n",
        "  - 5 = Speed limit (80km/h)\n",
        "  - 6 = End of speed limit (80km/h)\n",
        "  - 7 = Speed limit (100km/h)\n",
        "  - 8 = Speed limit (120km/h)\n",
        "  - 9 = No passing\n",
        "  - 10 = No passing for vehicles over 3.5 metric tons\n",
        "  - 11 = Right-of-way at the next intersection\n",
        "  - 12 = Priority road\n",
        "  - 13 = Yield\n",
        "  - 14 = Stop\n",
        "  - 15 = No vehicles\n",
        "  - 16 = Vehicles over 3.5 metric tons prohibited\n",
        "  - 17 = No entry\n",
        "  - 18 = General caution\n",
        "  - 19 = Dangerous curve to the left\n",
        "  - 20 = Dangerous curve to the right\n",
        "  - 21 = Double curve\n",
        "  - 22 = Bumpy road\n",
        "  - 23 = Slippery road\n",
        "  - 24 = Road narrows on the right\n",
        "  - 25 = Road work\n",
        "  - 26 = Traffic signals\n",
        "  - 27 = Pedestrians\n",
        "  - 28 = Children crossing \n",
        "  - 29 = Bicycles crossing\n",
        "  - 30 = Beware of ice/snow\n",
        "  - 31 = Wild animals crossing\n",
        "  - 32 = End of all speed and passing limits\n",
        "  - 33 = Turn right ahead\n",
        "  - 34 = Turn left ahead\n",
        "  - 35 = Ahead only\n",
        "  - 36 = Go straight or right\n",
        "  - 37 = Go straight or left\n",
        "  - 38 = Keep right\n",
        "  - 39 = Keep left\n",
        "  - 40 = Roundabout mandatory\n",
        "  - 41 = End of no passing\n",
        "  - 42 = End of no passing by vehicles over 3.5 metric tons\n",
        "\n",
        "- Citation\n",
        "J. Stallkamp, M. Schlipsing, J. Salmen, and C. Igel. The German Traffic Sign Recognition Benchmark: A multi-class classification competition. In Proceedings of the IEEE International Joint Conference on Neural Networks, pages 1453–1460. 2011. \n",
        "@inproceedings{Stallkamp-IJCNN-2011, author = {Johannes Stallkamp and Marc Schlipsing and Jan Salmen and Christian Igel}, booktitle = {IEEE International Joint Conference on Neural Networks}, title = {The {G}erman {T}raffic {S}ign {R}ecognition {B}enchmark: A multi-class classification competition}, year = {2011}, pages = {1453--1460} }"
      ]
    },
    {
      "cell_type": "code",
      "metadata": {
        "id": "AhbU2fAZh0oe"
      },
      "source": [
        "import matplotlib.pyplot as plt\n",
        "import numpy as np\n",
        "import tensorflow as tf\n",
        "import pandas as pd\n",
        "import seaborn as sns\n",
        "import pickle\n",
        "import random"
      ],
      "execution_count": null,
      "outputs": []
    },
    {
      "cell_type": "code",
      "metadata": {
        "id": "GKpz8CSLh5iQ"
      },
      "source": [
        "!wget --load-cookies /tmp/cookies.txt \"https://docs.google.com/uc?export=download&confirm=$(wget --quiet --save-cookies /tmp/cookies.txt --keep-session-cookies --no-check-certificate 'https://docs.google.com/uc?export=download&id=1tQ2HkQdxCUpAo4twbqN6mu7FYD7Ry5tq' -O- | sed -rn 's/.*confirm=([0-9A-Za-z_]+).*/\\1\\n/p')&id=1tQ2HkQdxCUpAo4twbqN6mu7FYD7Ry5tq\" -O train.p && rm -rf /tmp/cookies.txt\n",
        "!wget --no-check-certificate 'https://docs.google.com/uc?export=download&id=1zJxB1YzBYuImaHBSxWGN-ZXPDRYN_CTX' -O valid.p\n",
        "!wget --no-check-certificate 'https://docs.google.com/uc?export=download&id=1jZhZpEZkYFaaPPAwfd1cB8e-FK0aoeC0' -O test.p"
      ],
      "execution_count": null,
      "outputs": []
    },
    {
      "cell_type": "code",
      "metadata": {
        "id": "gUh_5xdjh0or"
      },
      "source": [
        "with open(\"/content/train.p\", mode='rb') as training_data:\n",
        "    train = pickle.load(training_data)\n",
        "with open(\"/content/valid.p\", mode='rb') as validation_data:\n",
        "    valid = pickle.load(validation_data)\n",
        "with open(\"/content/test.p\", mode='rb') as testing_data:\n",
        "    test = pickle.load(testing_data)"
      ],
      "execution_count": null,
      "outputs": []
    },
    {
      "cell_type": "code",
      "metadata": {
        "id": "-uEFeTF3rPl0"
      },
      "source": [
        "X_train, y_train = train['features'], train['labels']\n",
        "X_validation, y_validation = valid['features'], valid['labels']\n",
        "X_test, y_test = test['features'], test['labels']"
      ],
      "execution_count": null,
      "outputs": []
    },
    {
      "cell_type": "code",
      "metadata": {
        "id": "LTLHnPTGrRkc"
      },
      "source": [
        "X_train.shape"
      ],
      "execution_count": null,
      "outputs": []
    },
    {
      "cell_type": "code",
      "metadata": {
        "id": "1jLck0QwrSNz"
      },
      "source": [
        "y_train.shape"
      ],
      "execution_count": null,
      "outputs": []
    },
    {
      "cell_type": "code",
      "metadata": {
        "id": "kat4JHlkU72s"
      },
      "source": [
        "X_validation.shape"
      ],
      "execution_count": null,
      "outputs": []
    },
    {
      "cell_type": "code",
      "metadata": {
        "id": "hNn3RQWuU9f9"
      },
      "source": [
        "y_validation.shape"
      ],
      "execution_count": null,
      "outputs": []
    },
    {
      "cell_type": "code",
      "metadata": {
        "id": "zk9-1qu8VA6A"
      },
      "source": [
        "X_test.shape"
      ],
      "execution_count": null,
      "outputs": []
    },
    {
      "cell_type": "code",
      "metadata": {
        "id": "oqO02g_xVDbf"
      },
      "source": [
        "y_test.shape"
      ],
      "execution_count": null,
      "outputs": []
    },
    {
      "cell_type": "markdown",
      "metadata": {
        "id": "LlszUhNNyrl_"
      },
      "source": [
        "# TASK #3: PERFROM IMAGES VISUALIZATION\n"
      ]
    },
    {
      "cell_type": "code",
      "metadata": {
        "id": "ronVvCdJsYc5"
      },
      "source": [
        "i = np.random.randint(1, len(X_train))\n",
        "plt.imshow(X_train[i])\n",
        "y_train[i]"
      ],
      "execution_count": null,
      "outputs": []
    },
    {
      "cell_type": "code",
      "metadata": {
        "id": "ZUUvpXsmlwbb"
      },
      "source": [
        "# Let's view more images in a grid format\n",
        "# Define the dimensions of the plot grid \n",
        "W_grid = 5\n",
        "L_grid = 5\n",
        "\n",
        "# fig, axes = plt.subplots(L_grid, W_grid)\n",
        "# subplot return the figure object and axes object\n",
        "# we can use the axes object to plot specific figures at various locations\n",
        "\n",
        "fig, axes = plt.subplots(L_grid, W_grid, figsize = (10,10))\n",
        "\n",
        "axes = axes.ravel() # flaten the 15 x 15 matrix into 225 array\n",
        "\n",
        "n_training = len(X_train) # get the length of the training dataset\n",
        "\n",
        "# Select a random number from 0 to n_training\n",
        "for i in np.arange(0, W_grid * L_grid): # create evenly spaces variables \n",
        "\n",
        "    # Select a random number\n",
        "    index = np.random.randint(0, n_training)\n",
        "    # read and display an image with the selected index    \n",
        "    axes[i].imshow( X_train[index])\n",
        "    axes[i].set_title(y_train[index], fontsize = 15)\n",
        "    axes[i].axis('off')\n",
        "\n",
        "plt.subplots_adjust(hspace=0.4)\n",
        "\n",
        "        "
      ],
      "execution_count": null,
      "outputs": []
    },
    {
      "cell_type": "markdown",
      "metadata": {
        "id": "Y0GmpAjG3GiH"
      },
      "source": [
        "# TASK #4: CONVERT IMAGES TO GRAYSCALE AND PERFORM NORMALIZATION"
      ]
    },
    {
      "cell_type": "code",
      "metadata": {
        "id": "YI1QcjORsq2G"
      },
      "source": [
        "from sklearn.utils import shuffle\n",
        "X_train, y_train = shuffle(X_train, y_train)"
      ],
      "execution_count": null,
      "outputs": []
    },
    {
      "cell_type": "markdown",
      "metadata": {
        "id": "O39M8bHRjJYz"
      },
      "source": [
        "#Since its an RGB image, so it means that you have add r with g with b and then divide it by 3 to get your desired grayscale image. Its done in this way. If you have an color image like the image shown above and you want to convert it into grayscale using average method."
      ]
    },
    {
      "cell_type": "code",
      "metadata": {
        "id": "u2-GkZo0riel"
      },
      "source": [
        "X_train_gray = np.sum(X_train/3, axis = 3, keepdims = True)\n",
        "X_test_gray = np.sum(X_test/3, axis = 3, keepdims = True)\n",
        "X_validation_gray = np.sum(X_validation/3, axis = 3, keepdims = True)"
      ],
      "execution_count": null,
      "outputs": []
    },
    {
      "cell_type": "code",
      "metadata": {
        "id": "a2thgGKwricb"
      },
      "source": [
        "X_train_gray.shape\n"
      ],
      "execution_count": null,
      "outputs": []
    },
    {
      "cell_type": "code",
      "metadata": {
        "id": "4yZu7n28riaV"
      },
      "source": [
        "X_test_gray.shape\n"
      ],
      "execution_count": null,
      "outputs": []
    },
    {
      "cell_type": "code",
      "metadata": {
        "id": "Nar_imirriYX"
      },
      "source": [
        "X_validation_gray.shape"
      ],
      "execution_count": null,
      "outputs": []
    },
    {
      "cell_type": "code",
      "metadata": {
        "id": "-xRVL8FpriWI"
      },
      "source": [
        "X_train_gray_norm = (X_train_gray - 128)/128\n",
        "X_test_gray_norm = (X_test_gray - 128)/128\n",
        "X_validation_gray_norm = (X_validation_gray - 128)/128"
      ],
      "execution_count": null,
      "outputs": []
    },
    {
      "cell_type": "code",
      "metadata": {
        "id": "__hg6A5yrq2c"
      },
      "source": [
        "i = random.randint(1, len(X_train_gray))\n",
        "plt.imshow(X_train_gray[i].squeeze(), cmap = 'gray')\n",
        "plt.figure()\n",
        "plt.imshow(X_train[i])\n",
        "plt.figure()\n",
        "plt.imshow(X_train_gray_norm[i].squeeze(), cmap = 'gray')"
      ],
      "execution_count": null,
      "outputs": []
    },
    {
      "cell_type": "markdown",
      "metadata": {
        "id": "U3j4yBByVols"
      },
      "source": [
        "#Building the model"
      ]
    },
    {
      "cell_type": "markdown",
      "metadata": {
        "id": "rKxOS1MfVq3J"
      },
      "source": [
        "#Use this space for coding"
      ]
    },
    {
      "cell_type": "code",
      "metadata": {
        "id": "zyX8nViQVtr_"
      },
      "source": [
        "from keras.utils import to_categorical\n",
        "y_train_new = to_categorical(y_train, 43)\n",
        "y_valid_new = to_categorical(y_validation, 43)\n",
        "y_test_new = to_categorical(y_test, 43)"
      ],
      "execution_count": null,
      "outputs": []
    },
    {
      "cell_type": "code",
      "metadata": {
        "id": "bBkFONjuVt6D"
      },
      "source": [
        "print(y_train_new.shape)\n",
        "print(y_valid_new.shape)\n",
        "print(y_test_new.shape)"
      ],
      "execution_count": null,
      "outputs": []
    },
    {
      "cell_type": "code",
      "metadata": {
        "id": "EGsjy0wcVuGz"
      },
      "source": [
        "from keras.preprocessing.image import ImageDataGenerator\n",
        " \n",
        "datagen = ImageDataGenerator(width_shift_range=0.1,\n",
        "                            height_shift_range=0.1,\n",
        "                            zoom_range=0.2,\n",
        "                            shear_range=0.1,\n",
        "                            rotation_range=10.)\n",
        " \n",
        "datagen.fit(X_train)\n",
        "batches = datagen.flow(X_train_gray, y_train, batch_size = 15)\n",
        "X_batch, y_batch = next(batches)\n",
        " \n",
        "fig, axs = plt.subplots(1, 15, figsize=(20, 5))\n",
        "fig.tight_layout()\n",
        " \n",
        "for i in range(15):\n",
        "    axs[i].imshow(X_batch[i].reshape(32, 32))\n",
        "    axs[i].axis(\"off\")\n",
        " \n",
        "print(X_batch.shape)"
      ],
      "execution_count": null,
      "outputs": []
    },
    {
      "cell_type": "code",
      "metadata": {
        "id": "6k64m0ehVuQt"
      },
      "source": [
        "from keras.optimizers import Adam\n",
        "from keras.models import Sequential\n",
        "from keras.layers import *\n",
        "def modified_model():\n",
        "  model = Sequential()\n",
        "  model.add(Conv2D(60, (5, 5), input_shape=(32, 32, 1), activation='relu'))\n",
        "  model.add(Conv2D(60, (5, 5), activation='relu'))\n",
        "  model.add(MaxPooling2D(pool_size=(2, 2)))\n",
        "  \n",
        "  model.add(Conv2D(30, (3, 3), activation='relu'))\n",
        "  model.add(Conv2D(30, (3, 3), activation='relu'))\n",
        "  model.add(MaxPooling2D(pool_size=(2, 2)))\n",
        "  \n",
        "  model.add(Flatten())\n",
        "  model.add(Dense(500, activation='relu'))\n",
        "  model.add(Dropout(0.5))\n",
        "  model.add(Dense(43, activation='softmax'))\n",
        "  \n",
        "  model.compile(Adam(lr = 0.001), loss='categorical_crossentropy', metrics=['accuracy'])\n",
        "  return model"
      ],
      "execution_count": null,
      "outputs": []
    },
    {
      "cell_type": "code",
      "metadata": {
        "id": "CAobtsm09CdB"
      },
      "source": [
        "CNN =  modified_model()\n",
        "print(CNN.summary())"
      ],
      "execution_count": null,
      "outputs": []
    },
    {
      "cell_type": "code",
      "metadata": {
        "id": "kqGphyg-9FBc"
      },
      "source": [
        "from keras.callbacks import ModelCheckpoint, EarlyStopping\n",
        "#Early stopping and checkpoint\n",
        "filepath=\"weights.{epoch:02d}-{val_loss:.2f}.hdf5\"\n",
        "\n",
        "earlystopping = EarlyStopping(monitor='val_loss', verbose=1, patience=5, mode=\"min\")\n",
        "checkpoint = ModelCheckpoint(filepath, monitor='val_accuracy', verbose=1, save_best_only=True, mode=\"max\")"
      ],
      "execution_count": null,
      "outputs": []
    },
    {
      "cell_type": "code",
      "metadata": {
        "id": "OUfRzYGC9wBz"
      },
      "source": [
        "history = CNN.fit_generator(datagen.flow(X_train_gray_norm, y_train_new, batch_size=64),\n",
        "                            epochs=10,\n",
        "                            validation_data=(X_validation_gray_norm, y_valid_new), shuffle = 1, callbacks=[earlystopping, checkpoint])"
      ],
      "execution_count": null,
      "outputs": []
    },
    {
      "cell_type": "markdown",
      "metadata": {
        "id": "3KegbU2XQuy9"
      },
      "source": [
        "The validation accuracy was found to be 0.98594"
      ]
    },
    {
      "cell_type": "markdown",
      "metadata": {
        "id": "-wRQqOeB5Zh5"
      },
      "source": [
        "# TASK #8: ASSESS TRAINED CNN MODEL PERFORMANCE "
      ]
    },
    {
      "cell_type": "markdown",
      "metadata": {
        "id": "7ZNyctYAV4SK"
      },
      "source": [
        "#Marks will be given on basis of next code cells results"
      ]
    },
    {
      "cell_type": "code",
      "metadata": {
        "id": "_RpB2PAd9SE9"
      },
      "source": [
        "score = CNN.evaluate(X_test_gray_norm, y_test_new)\n",
        "print('Test Accuracy: {}'.format(score[1]))"
      ],
      "execution_count": null,
      "outputs": []
    },
    {
      "cell_type": "markdown",
      "metadata": {
        "id": "Aeq_zupHWCrL"
      },
      "source": [
        "#Attach a screen shot of your results as proof below this cell"
      ]
    },
    {
      "cell_type": "markdown",
      "metadata": {
        "id": "VKNu2T9aQKS7"
      },
      "source": [
        "The following is the result\n",
        "![DL_M2.JPG](data:image/jpeg;base64,/9j/4AAQSkZJRgABAQEAYABgAAD/4RDyRXhpZgAATU0AKgAAAAgABAE7AAIAAAANAAAISodpAAQAAAABAAAIWJydAAEAAAAaAAAQ0OocAAcAAAgMAAAAPgAAAAAc6gAAAAgAAAAAAAAAAAAAAAAAAAAAAAAAAAAAAAAAAAAAAAAAAAAAAAAAAAAAAAAAAAAAAAAAAAAAAAAAAAAAAAAAAAAAAAAAAAAAAAAAAAAAAAAAAAAAAAAAAAAAAAAAAAAAAAAAAAAAAAAAAAAAAAAAAAAAAAAAAAAAAAAAAAAAAAAAAAAAAAAAAAAAAAAAAAAAAAAAAAAAAAAAAAAAAAAAAAAAAAAAAAAAAAAAAAAAAAAAAAAAAAAAAAAAAAAAAAAAAAAAAAAAAAAAAAAAAAAAAAAAAAAAAAAAAAAAAAAAAAAAAAAAAAAAAAAAAAAAAAAAAAAAAAAAAAAAAAAAAAAAAAAAAAAAAAAAAAAAAAAAAAAAAAAAAAAAAAAAAAAAAAAAAAAAAAAAAAAAAAAAAAAAAAAAAAAAAAAAAAAAAAAAAAAAAAAAAAAAAAAAAAAAAAAAAAAAAAAAAAAAAAAAAAAAAAAAAAAAAAAAAAAAAAAAAAAAAAAAAAAAAAAAAAAAAAAAAAAAAAAAAAAAAAAAAAAAAAAAAAAAAAAAAAAAAAAAAAAAAAAAAAAAAAAAAAAAAAAAAAAAAAAAAAAAAAAAAAAAAAAAAAAAAAAAAAAAAAAAAAAAAAAAAAAAAAAAAAAAAAAAAAAAAAAAAAAAAAAAAAAAAAAAAAAAAAAAAAAAAAAAAAAAAAAAAAAAAAAAAAAAAAAAAAAAAAAAAAAAAAAAAAAAAAAAAAAAAAAAAAAAAAAAAAAAAAAAAAAAAAAAAAAAAAAAAAAAAAAAAAAAAAAAAAAAAAAAAAAAAAAAAAAAAAAAAAAAAAAAAAAAAAAAAAAAAAAAAAAAAAAAAAAAAAAAAAAAAAAAAAAAAAAAAAAAAAAAAAAAAAAAAAAAAAAAAAAAAAAAAAAAAAAAAAAAAAAAAAAAAAAAAAAAAAAAAAAAAAAAAAAAAAAAAAAAAAAAAAAAAAAAAAAAAAAAAAAAAAAAAAAAAAAAAAAAAAAAAAAAAAAAAAAAAAAAAAAAAAAAAAAAAAAAAAAAAAAAAAAAAAAAAAAAAAAAAAAAAAAAAAAAAAAAAAAAAAAAAAAAAAAAAAAAAAAAAAAAAAAAAAAAAAAAAAAAAAAAAAAAAAAAAAAAAAAAAAAAAAAAAAAAAAAAAAAAAAAAAAAAAAAAAAAAAAAAAAAAAAAAAAAAAAAAAAAAAAAAAAAAAAAAAAAAAAAAAAAAAAAAAAAAAAAAAAAAAAAAAAAAAAAAAAAAAAAAAAAAAAAAAAAAAAAAAAAAAAAAAAAAAAAAAAAAAAAAAAAAAAAAAAAAAAAAAAAAAAAAAAAAAAAAAAAAAAAAAAAAAAAAAAAAAAAAAAAAAAAAAAAAAAAAAAAAAAAAAAAAAAAAAAAAAAAAAAAAAAAAAAAAAAAAAAAAAAAAAAAAAAAAAAAAAAAAAAAAAAAAAAAAAAAAAAAAAAAAAAAAAAAAAAAAAAAAAAAAAAAAAAAAAAAAAAAAAAAAAAAAAAAAAAAAAAAAAAAAAAAAAAAAAAAAAAAAAAAAAAAAAAAAAAAAAAAAAAAAAAAAAAAAAAAAAAAAAAAAAAAAAAAAAAAAAAAAAAAAAAAAAAAAAAAAAAAAAAAAAAAAAAAAAAAAAAAAAAAAAAAAAAAAAAAAAAAAAAAAAAAAAAAAAAAAAAAAAAAAAAAAAAAAAAAAAAAAAAAAAAAAAAAAAAAAAAAAAAAAAAAAAAAAAAAAAAAAAAAAAAAAAAAAAAAAAAAAAAAAAAAAAAAAAAAAAAAAAAAAAAAAAAAAAAAAAAAAAAAAAAAAAAAAAAAAAAAAAAAAAAAAAAAAAAAAAAAAAAAAAAAAAAAAAAAAAAAAAAAAAAAAAAAAAAAAAAAAAAAAAAAAAAAAAAAAAAAAAAAAAAAAAAAAAAAAAAAAAAAAAAAAAAAAAAAAAAAAAAAAAAAAAAAAAAAAAAAAAAAAAAAAAAAAAAAAAAAAAAAAAAAAAAAAAAAAAAAAAAAAAAAAAAAAAAAAAAAAAAAAAAAAAAAAAAAAAAAAAAAAAAAAAAAAAAAAAAAAAAAAAAAAAAAAAAAAAAAAAAAAAAAAAAAAAAAAAAAAAAAAAAAAAAAAAAAAAAAAAAAAAAAAAAAAAAAAAAAAAAAAAAAAAAAAAAAAAAAAAAAAAAAAAAAAAAAAAAAAAAAAAAAAAAAAAAAAAAAAAAAAAAAAAAAAAAAAAAAAAAAAAAAAAAAAAAAAAAAAAAAAAAAAAAAAAAAAAAAAAAAAAAAAAAAAAAAAAAAAAAAAAAAAAAAAAAAAAAAAAAAAAAAAAAAAAAAAAAAAAAAAAAAAAAAAAAAAAAAAAAAAAAAAAAAAAAAAAAAAAAAAAAAAAAAAAAAAAAAAAAAAAAAAAAAAAAAAAAAAAAAAAAAAAAAAAAAAAAAAAAAAAAAAAAAAAAAAAAAAAAAAAAAAAAAAAAAAAAAAAAAAAAAAAAAAAAAAAAAAAAAAAAAAAAAAAAAAAAAAAAAAAAAAAAAAAAAAAAAAAAAAAAAAAAAAAAAAAAAAAAAAAAAAAAAAAAAAAAAAAAAAAAAAAAAAAAAAAAAAAAAAAAAAAAAAAAAAAAAAAAAAAAAAAAAAAAAAAAAAAAAAAAAAAAAAAAAAAAAAAAAAAAAAAAAAAAAAAAAAAAAAAAAAAAAAAAAAAAAAAAAAAAAAAAAAAAAAAAAAAAAAAAAAAAAAAAAAAAAAAAAAAAAAAAAAAAAAAAAAAAAAAAAAAAAAAAAAAEFhZnJlZW4gS2F6aQAAAAWQAwACAAAAFAAAEKaQBAACAAAAFAAAELqSkQACAAAAAzAyAACSkgACAAAAAzAyAADqHAAHAAAIDAAACJoAAAAAHOoAAAAIAAAAAAAAAAAAAAAAAAAAAAAAAAAAAAAAAAAAAAAAAAAAAAAAAAAAAAAAAAAAAAAAAAAAAAAAAAAAAAAAAAAAAAAAAAAAAAAAAAAAAAAAAAAAAAAAAAAAAAAAAAAAAAAAAAAAAAAAAAAAAAAAAAAAAAAAAAAAAAAAAAAAAAAAAAAAAAAAAAAAAAAAAAAAAAAAAAAAAAAAAAAAAAAAAAAAAAAAAAAAAAAAAAAAAAAAAAAAAAAAAAAAAAAAAAAAAAAAAAAAAAAAAAAAAAAAAAAAAAAAAAAAAAAAAAAAAAAAAAAAAAAAAAAAAAAAAAAAAAAAAAAAAAAAAAAAAAAAAAAAAAAAAAAAAAAAAAAAAAAAAAAAAAAAAAAAAAAAAAAAAAAAAAAAAAAAAAAAAAAAAAAAAAAAAAAAAAAAAAAAAAAAAAAAAAAAAAAAAAAAAAAAAAAAAAAAAAAAAAAAAAAAAAAAAAAAAAAAAAAAAAAAAAAAAAAAAAAAAAAAAAAAAAAAAAAAAAAAAAAAAAAAAAAAAAAAAAAAAAAAAAAAAAAAAAAAAAAAAAAAAAAAAAAAAAAAAAAAAAAAAAAAAAAAAAAAAAAAAAAAAAAAAAAAAAAAAAAAAAAAAAAAAAAAAAAAAAAAAAAAAAAAAAAAAAAAAAAAAAAAAAAAAAAAAAAAAAAAAAAAAAAAAAAAAAAAAAAAAAAAAAAAAAAAAAAAAAAAAAAAAAAAAAAAAAAAAAAAAAAAAAAAAAAAAAAAAAAAAAAAAAAAAAAAAAAAAAAAAAAAAAAAAAAAAAAAAAAAAAAAAAAAAAAAAAAAAAAAAAAAAAAAAAAAAAAAAAAAAAAAAAAAAAAAAAAAAAAAAAAAAAAAAAAAAAAAAAAAAAAAAAAAAAAAAAAAAAAAAAAAAAAAAAAAAAAAAAAAAAAAAAAAAAAAAAAAAAAAAAAAAAAAAAAAAAAAAAAAAAAAAAAAAAAAAAAAAAAAAAAAAAAAAAAAAAAAAAAAAAAAAAAAAAAAAAAAAAAAAAAAAAAAAAAAAAAAAAAAAAAAAAAAAAAAAAAAAAAAAAAAAAAAAAAAAAAAAAAAAAAAAAAAAAAAAAAAAAAAAAAAAAAAAAAAAAAAAAAAAAAAAAAAAAAAAAAAAAAAAAAAAAAAAAAAAAAAAAAAAAAAAAAAAAAAAAAAAAAAAAAAAAAAAAAAAAAAAAAAAAAAAAAAAAAAAAAAAAAAAAAAAAAAAAAAAAAAAAAAAAAAAAAAAAAAAAAAAAAAAAAAAAAAAAAAAAAAAAAAAAAAAAAAAAAAAAAAAAAAAAAAAAAAAAAAAAAAAAAAAAAAAAAAAAAAAAAAAAAAAAAAAAAAAAAAAAAAAAAAAAAAAAAAAAAAAAAAAAAAAAAAAAAAAAAAAAAAAAAAAAAAAAAAAAAAAAAAAAAAAAAAAAAAAAAAAAAAAAAAAAAAAAAAAAAAAAAAAAAAAAAAAAAAAAAAAAAAAAAAAAAAAAAAAAAAAAAAAAAAAAAAAAAAAAAAAAAAAAAAAAAAAAAAAAAAAAAAAAAAAAAAAAAAAAAAAAAAAAAAAAAAAAAAAAAAAAAAAAAAAAAAAAAAAAAAAAAAAAAAAAAAAAAAAAAAAAAAAAAAAAAAAAAAAAAAAAAAAAAAAAAAAAAAAAAAAAAAAAAAAAAAAAAAAAAAAAAAAAAAAAAAAAAAAAAAAAAAAAAAAAAAAAAAAAAAAAAAAAAAAAAAAAAAAAAAAAAAAAAAAAAAAAAAAAAAAAAAAAAAAAAAAAAAAAAAAAAAAAAAAAAAAAAAAAAAAAAAAAAAAAAAAAAAAAAAAAAAAAAAAAAAAAAAAAAAAAAAAAAAAAAAAAAAAAAAAAAAAAAAAAAAAAAAAAAAAAAAAAAAAAAAAAAAAAAAAAAAAAAAAAAAAAAAAAAAAAAAAAAAAAAAAAAAAAAAAAAAAAAAAAAAAAAAAAAAAAAAAAAAAAAAAAAAAAAAAAAAAAAAAAAAAAAAAAAAAAAAAAAAAAAAAAAAAAAAAAAAAAAAAAAAAAAAAAAAAAAAAAAAAAAAAAAAAAAAAAAAAAAAAAAAAAAAAAAAAAAAAAAAAAAAAAAAAAAAAAAAAAAAAAAAAAAAAAAAAAAAAAAAAAAAAAAAAAAAAAAAAAAAAAAAAAAAAAAAAAAAAAAAAAAAAAAAAAAAAAAAAAAAAAAAAAAAAAAAAAAAAAAAAAAAAAAAAAAAAAAAAAAAAAAAAAAAAAAAAAAAAAAAAAAAAAAAAAAAAAAAAAAAAAAAAAAAAAAAAAAAAAAAAAAAAAAAAAAAAAAAAAAAAAAAAAAAAAAAAAAAAAAAAAAAAAAAAAAAAAAAAAAAAAAAAAAAAAAAAAAAAAAAAAAAAAAAAAAAAAAAAAAAAAAAAAAAAAAAAAAAAAAAAAAAAAAAAAAAAAAAAAAAAAAAAAAAAAAAAAAAAAAAAAAAAAAAAAAAAAAAAAAAAAAAAAAAAAAAAAAAAAAAAAAAAAAAAAAAAAAAAAAAAAAAAAAAAAAAAAAAAAAAAAAAAAAAAAAAAAAAAAAAAAAAAAAAAAAAAAAAAAAAAAAAAAAAAAAAAAAAAAAAAAAAAAAAAAAAAAAAAAAAAAAAAAAAAAAAAAAAAAAAAAAAAAAAAAAAAAAAAAAAAAAAAAAAAAAAAAAAAAAAAAAAAAAAAAAAAAAAAAAAAAAAAAAAAAAAAAAAAAAAAAAAAAAAAAAAAAAAAAAAAAAAAAAAAAAAAAAAAAAAAAAyMDIwOjA5OjI5IDE1OjE1OjQwADIwMjA6MDk6MjkgMTU6MTU6NDAAAABBAGEAZgByAGUAZQBuACAASwBhAHoAaQAAAP/hCx9odHRwOi8vbnMuYWRvYmUuY29tL3hhcC8xLjAvADw/eHBhY2tldCBiZWdpbj0n77u/JyBpZD0nVzVNME1wQ2VoaUh6cmVTek5UY3prYzlkJz8+DQo8eDp4bXBtZXRhIHhtbG5zOng9ImFkb2JlOm5zOm1ldGEvIj48cmRmOlJERiB4bWxuczpyZGY9Imh0dHA6Ly93d3cudzMub3JnLzE5OTkvMDIvMjItcmRmLXN5bnRheC1ucyMiPjxyZGY6RGVzY3JpcHRpb24gcmRmOmFib3V0PSJ1dWlkOmZhZjViZGQ1LWJhM2QtMTFkYS1hZDMxLWQzM2Q3NTE4MmYxYiIgeG1sbnM6ZGM9Imh0dHA6Ly9wdXJsLm9yZy9kYy9lbGVtZW50cy8xLjEvIi8+PHJkZjpEZXNjcmlwdGlvbiByZGY6YWJvdXQ9InV1aWQ6ZmFmNWJkZDUtYmEzZC0xMWRhLWFkMzEtZDMzZDc1MTgyZjFiIiB4bWxuczp4bXA9Imh0dHA6Ly9ucy5hZG9iZS5jb20veGFwLzEuMC8iPjx4bXA6Q3JlYXRlRGF0ZT4yMDIwLTA5LTI5VDE1OjE1OjQwLjAxODwveG1wOkNyZWF0ZURhdGU+PC9yZGY6RGVzY3JpcHRpb24+PHJkZjpEZXNjcmlwdGlvbiByZGY6YWJvdXQ9InV1aWQ6ZmFmNWJkZDUtYmEzZC0xMWRhLWFkMzEtZDMzZDc1MTgyZjFiIiB4bWxuczpkYz0iaHR0cDovL3B1cmwub3JnL2RjL2VsZW1lbnRzLzEuMS8iPjxkYzpjcmVhdG9yPjxyZGY6U2VxIHhtbG5zOnJkZj0iaHR0cDovL3d3dy53My5vcmcvMTk5OS8wMi8yMi1yZGYtc3ludGF4LW5zIyI+PHJkZjpsaT5BYWZyZWVuIEthemk8L3JkZjpsaT48L3JkZjpTZXE+DQoJCQk8L2RjOmNyZWF0b3I+PC9yZGY6RGVzY3JpcHRpb24+PC9yZGY6UkRGPjwveDp4bXBtZXRhPg0KICAgICAgICAgICAgICAgICAgICAgICAgICAgICAgICAgICAgICAgICAgICAgICAgICAgICAgICAgICAgICAgICAgICAgICAgICAgICAgICAgICAgICAgICAgICAgICAgICAgIAogICAgICAgICAgICAgICAgICAgICAgICAgICAgICAgICAgICAgICAgICAgICAgICAgICAgICAgICAgICAgICAgICAgICAgICAgICAgICAgICAgICAgICAgICAgICAgICAgICAgCiAgICAgICAgICAgICAgICAgICAgICAgICAgICAgICAgICAgICAgICAgICAgICAgICAgICAgICAgICAgICAgICAgICAgICAgICAgICAgICAgICAgICAgICAgICAgICAgICAgICAKICAgICAgICAgICAgICAgICAgICAgICAgICAgICAgICAgICAgICAgICAgICAgICAgICAgICAgICAgICAgICAgICAgICAgICAgICAgICAgICAgICAgICAgICAgICAgICAgICAgIAogICAgICAgICAgICAgICAgICAgICAgICAgICAgICAgICAgICAgICAgICAgICAgICAgICAgICAgICAgICAgICAgICAgICAgICAgICAgICAgICAgICAgICAgICAgICAgICAgICAgCiAgICAgICAgICAgICAgICAgICAgICAgICAgICAgICAgICAgICAgICAgICAgICAgICAgICAgICAgICAgICAgICAgICAgICAgICAgICAgICAgICAgICAgICAgICAgICAgICAgICAKICAgICAgICAgICAgICAgICAgICAgICAgICAgICAgICAgICAgICAgICAgICAgICAgICAgICAgICAgICAgICAgICAgICAgICAgICAgICAgICAgICAgICAgICAgICAgICAgICAgIAogICAgICAgICAgICAgICAgICAgICAgICAgICAgICAgICAgICAgICAgICAgICAgICAgICAgICAgICAgICAgICAgICAgICAgICAgICAgICAgICAgICAgICAgICAgICAgICAgICAgCiAgICAgICAgICAgICAgICAgICAgICAgICAgICAgICAgICAgICAgICAgICAgICAgICAgICAgICAgICAgICAgICAgICAgICAgICAgICAgICAgICAgICAgICAgICAgICAgICAgICAKICAgICAgICAgICAgICAgICAgICAgICAgICAgICAgICAgICAgICAgICAgICAgICAgICAgICAgICAgICAgICAgICAgICAgICAgICAgICAgICAgICAgICAgICAgICAgICAgICAgIAogICAgICAgICAgICAgICAgICAgICAgICAgICAgICAgICAgICAgICAgICAgICAgICAgICAgICAgICAgICAgICAgICAgICAgICAgICAgICAgICAgICAgICAgICAgICAgICAgICAgCiAgICAgICAgICAgICAgICAgICAgICAgICAgICAgICAgICAgICAgICAgICAgICAgICAgICAgICAgICAgICAgICAgICAgICAgICAgICAgICAgICAgICAgICAgICAgICAgICAgICAKICAgICAgICAgICAgICAgICAgICAgICAgICAgICAgICAgICAgICAgICAgICAgICAgICAgICAgICAgICAgICAgICAgICAgICAgICAgICAgICAgICAgICAgICAgICAgICAgICAgIAogICAgICAgICAgICAgICAgICAgICAgICAgICAgICAgICAgICAgICAgICAgICAgICAgICAgICAgICAgICAgICAgICAgICAgICAgICAgICAgICAgICAgICAgICAgICAgICAgICAgCiAgICAgICAgICAgICAgICAgICAgICAgICAgICAgICAgICAgICAgICAgICAgICAgICAgICAgICAgICAgICAgICAgICAgICAgICAgICAgICAgICAgICAgICAgICAgICAgICAgICAKICAgICAgICAgICAgICAgICAgICAgICAgICAgICAgICAgICAgICAgICAgICAgICAgICAgICAgICAgICAgICAgICAgICAgICAgICAgICAgICAgICAgICAgICAgICAgICAgICAgIAogICAgICAgICAgICAgICAgICAgICAgICAgICAgICAgICAgICAgICAgICAgICAgICAgICAgICAgICAgICAgICAgICAgICAgICAgICAgICAgICAgICAgICAgICAgICAgICAgICAgCiAgICAgICAgICAgICAgICAgICAgICAgICAgICAgICAgICAgICAgICAgICAgICAgICAgICAgICAgICAgICAgICAgICAgICAgICAgICAgICAgICAgICAgICAgICAgICAgICAgICAKICAgICAgICAgICAgICAgICAgICAgICAgICAgICAgICAgICAgICAgICAgICAgICAgICAgICAgICAgICAgICAgICAgICAgICAgICAgICAgICAgICAgICAgICAgICAgICAgICAgIAogICAgICAgICAgICAgICAgICAgICAgICAgICAgICAgICAgICAgICAgICAgICAgICAgICAgICAgICAgICAgICAgICAgICAgICAgICAgICAgICAgICAgICAgICAgICAgICAgICAgCiAgICAgICAgICAgICAgICAgICAgICAgICAgICA8P3hwYWNrZXQgZW5kPSd3Jz8+/9sAQwAHBQUGBQQHBgUGCAcHCAoRCwoJCQoVDxAMERgVGhkYFRgXGx4nIRsdJR0XGCIuIiUoKSssKxogLzMvKjInKisq/9sAQwEHCAgKCQoUCwsUKhwYHCoqKioqKioqKioqKioqKioqKioqKioqKioqKioqKioqKioqKioqKioqKioqKioqKioq/8AAEQgAhANSAwEiAAIRAQMRAf/EAB8AAAEFAQEBAQEBAAAAAAAAAAABAgMEBQYHCAkKC//EALUQAAIBAwMCBAMFBQQEAAABfQECAwAEEQUSITFBBhNRYQcicRQygZGhCCNCscEVUtHwJDNicoIJChYXGBkaJSYnKCkqNDU2Nzg5OkNERUZHSElKU1RVVldYWVpjZGVmZ2hpanN0dXZ3eHl6g4SFhoeIiYqSk5SVlpeYmZqio6Slpqeoqaqys7S1tre4ubrCw8TFxsfIycrS09TV1tfY2drh4uPk5ebn6Onq8fLz9PX29/j5+v/EAB8BAAMBAQEBAQEBAQEAAAAAAAABAgMEBQYHCAkKC//EALURAAIBAgQEAwQHBQQEAAECdwABAgMRBAUhMQYSQVEHYXETIjKBCBRCkaGxwQkjM1LwFWJy0QoWJDThJfEXGBkaJicoKSo1Njc4OTpDREVGR0hJSlNUVVZXWFlaY2RlZmdoaWpzdHV2d3h5eoKDhIWGh4iJipKTlJWWl5iZmqKjpKWmp6ipqrKztLW2t7i5usLDxMXGx8jJytLT1NXW19jZ2uLj5OXm5+jp6vLz9PX29/j5+v/aAAwDAQACEQMRAD8A+jWfaxGKTzf9n9abJ/rDTaAJPN/2aPN/2ajooAk83/Zo83/ZqOigCTzf9mjzf9mo6KAJPN/2aPN/2ajooAk83/Zo83/ZqOigCTzf9mjzf9mo6KAJPN/2aPN/2ajooAk83/Zo83/ZqOigCTzf9mjzf9mo6KAJPN/2aPN/2ajooAk83/Zo83/ZqOigCTzf9mjzf9mo6KAJPN/2aPN/2ajooAk83/Zo83/ZqOigCTzf9mjzf9mo6KAJPN/2aPN/2ajooAk83/Zo83/ZqOigCTzf9mjzf9mo6KAJPN/2aPN/2ajooAk83/Zo83/ZqOigCTzf9mjzf9mo6KAJPN/2aPN/2ajooAk83/Zo83/ZqOigCTzf9mjzf9mo6KAJPN/2aPN/2ajooAk83/Zo83/ZqOigCTzf9mjzf9mo6KAJPN/2aPN/2ajooAk83/Zo83/ZqOigCTzf9mjzf9mo6KAJPN/2aPN/2ajooAk83/Zo83/ZqOigCTzf9mjzf9mo6KAJPN/2aPN/2ajooAk83/Zo83/ZqOigCTzf9mjzf9mo6KAJPN/2aPN/2ajooAk83/Zo83/ZqOigCTzf9mjzf9mo6KAJPN/2aPN/2ajooAk83/Zo83/ZqOigCTzf9mjzf9mo6KAJPN/2aPN/2ajooAk83/Zo83/ZqOigCTzf9mjzf9mo6KAJPN/2aPN/2ajooAk83/Zo83/ZqOigCTzf9mjzf9mo6KAJPN/2aPN/2ajooAk83/Zo83/ZqOigCTzf9mjzf9mo6KAJPN/2aPN/2ajooAk83/ZoqOigB0n+sNc74Xe/u7S7vbzU57kyXM8ccMkcQjgCSuo27EVjwBncx6dq6KT/AFhrmfCU7f2feWBhure6gurhibizlRCHmcqVZgFcYIPyk/hQBHomtahqV9qNhHquk6i9vECL2xt2EcMpLDy3TzWyRtzgOp9h1qfR7vXJfEF7Y6leafd21tCm6a0s3gZJW52fNK4OFwT0+8Kn0/R79NVOpaxf211drAYIfsto0CKpIY5DSOWOQO4A9Oc1Z0XS/wCx9OaOWb7TcSSPPcT7NplkY5J25OB0AGTgACgCn4clvBeaxZ32oT34tLtUilnSNXCmJGwfLVQeWPat2ue8MSm61DXLxYLqGGe8UxG5tpIGcCGNSQsig4yCM47V0NAGLa+JBfa/cabZaZeTxWspguL9WhEMUgQPtIMgkzhl6IRyOcc0lt4lF9rMllp2l311bQTNBPqKeUtvHIv3l+aQO2DwSqMM8ZyDihP4RuLvxnBrtzc6bH9nk3I9pprRXboFIEUlx5p3pzkrsAOB0xVvTtB1LSNUlGn6lajSJ7mS5ktJrJmmV5CWcJKJAAu8k4KMRkjPTAul/wCv6/p9x9bf1v8A8AjtPGlreahBEunahHZXUzW9rqbpH9nnkXPAw5cA7WwzIqtjgnK5i0rx5Yavd2kcNhqENvePLDDeTxKkTyx7i0f3t2cIx3bdpwcNnimWHg+8tLixt59YWfRtNnNxaWotSs275tqyS7yGVd5wAinhck4O7a0bSF0rQYdMeXz1jVlL7du4Ek9MnHX1qdf6/r1/AOv9f12KOl+LYNT1CG3OnX9pFdq72N1cogjvFXklNrll4+YB1UkcgcHG7JIkMTSSuqRoCzMxwFA6kmuN8J/Dy38KahHJbwaC0MEZihmh0RYb3HQb51fDHHBIRd3XiuykQSxNGxYBgVJVip59COQfcVT20DrqZWl+LPDuuXRtdF1/S9RuFUuYrS8jlcKOCcKSccjn3qXxBq40LQLvUfJM7Qp+7hDbfMckKq55xliBnt1qLS/DVjpF0bi0n1SRypQi71a6uUx/uSyMueOuM1Y1vSINe0S60y6eSOO4Tb5kRw8ZzkMp9QQCPpRLbQFvqYWq3/irRfC95eXM2j3N8TEtusVrLHHE7yKm1syEuBu+8CnTpzWbrHjrVI45v7FtrRpfs9g0UdwGO2We6eB0Yqw+7tx7HOc9K230HWtQ0eWy13WrW5YvC0clrp5hA2SK5LAyvknbjIKgZ6VTuvAfn69f6gmpGOK7ms5lt/JyIjBOZmAO7nexPbgknnpTj8avtoONuV3/AK1RpaL4gOsa1dQxKgtEsra5iODvzKZMhuccbBx2Oav6vqsWj2P2iSGe5dnWKG3t1DSTOxwFXJA/EkAAEkgAms/SfDLaTrus6hFe7k1EJ5UPlf8AHttLsecndl5GboMZxVTUfB9xrng200nxBqUGqX9tIsxvLnT4zFNIpON9vnaVIOCoIPcEHBCfl5f8H7iVpo/P/gFm28YWs32dLixvbOeS++wTQzKha1lKF18wq7LhhtwVLAl1Hriydf3217LZaZfXjWlybVYoVjBnYAFihZwoUZIJYrypHXGcyy8Fx23hS50lY9Hs5pJhPHLpWl/ZIklUq0bmLzG3EMqkncMgY4pNZ8E/2p4ZsNKW6tibWcXEovbQ3Fvdvhi3mw713AsxcDdwwU84of8AX4flr+A1/X4/noR67rdzqXw81XVtHur/AES806K4dozFC0iSwq2Y3DLIhXIByp5GMNzW82rR28+l2s4kabUMqjKBgFYy5zzxwD0rmo/Ad7ZeBb7w5pGqWFot/JOZpP7L/dpHKCGSOJJECYzwSTwOQTzWlc6BrNxZ6VINXsk1XTZGZbgae5gkVkZCDF527O09fM6jOMcU+n3f8EHqlbz+7SxYHif7Rpn2zS9H1HUT9pmtzBbiJXBikaNmJkkVMbl4+bJB6dcZGpeOrqOTw7LougX2oWuryEMy+SjD91I/lgSSoVkBQE5G3AYA5wKqXPwzkuNN0+1uNSs9R+yT3U0i6tpi3MMxnlMm8xB0USLkgN0wzfLzitKLwXNY+GNE07TNTjivNEl822uZrQNGx2uhDRKy8FZGGFZcHB6cUaXKdru3n/wC/f8Aid7EW0cehapeXs0BuHsrYQmS3QYBLs0gjzk4AViTg4BAJEWoa4+oWukReHblQ+s4kiuimfKgChnkCsPvYIUAjgsCQQCKz/EXgP8A4SG7stQuzot1qEFt9nm/tLRhd27jO7ckZkDRnOf4zwSDnAItanpcukjQtR0+zhl/skGCe3srbYPs7qFfyowTjayo20ZO1SBk4pdPO/6/8N+JJF4m8U6h4a1eKBrNLyDU0EGmCKNw32zP+rlYZARgd27A2hHzniuotRcLZwi9eOS5CASvChRGbHJVSSQM9ASfqa5rxB4Gt/FGpTXWr3TOsduI9OWOPabCXO4zqSTmTIXBwMBcdzmf/hLLXTAtlqiatdXkChJ57Tw/etFI+OWUpG64Psx+tC2s9/6/r7ge+n9f1/mQXXivVLfxq+jxeGdQurZbYSieF7YbiXxvG+dTsHTBXdkdMVa1Dxdb6dqMsD6ffzWts6Jd6hEqGC1Z8YDZcOcBlJKqwUMCSOcLd6de6hqdnrmhX8dk723lSx31g7+ZEWDj5N8bRuOevryuRWRqHw5tbrxZPrMdvoM/2uaOaddU0VbqZWVVU+VLvUoCFHBDYOSOuKIppJS8/wA/8ge7a/rT/M3F8SCfxJPpFlpl7dfZWRLq7jaERW7MocBg0gc/KVOVRhz1yDjOt/FmqS+Nb7R28M6gbW3WDbcK9thQ7SAyNmfJQhAQAu7hsjoKNW8H3Gr+K7XVp7nTIUtJo3hmg00rfKiHPl/afNPyMchhswVZh3zV+40bUI/FB1fS9Rt4I54oory3uLNpjIsbMR5bLIuxsOwyQ46ccHLVrJsJeRuVysfjy3m1yzsING1SSC+u5bS31ACAQSPGGL4zKHwNj/wc7TjIq1H410uWdYltdcDMwUFtAvlXJOOWMOAPcnFcF4T0/UNO8XW00VlcyzSXtwbm2utOvo1tEkdmeVJ5JfsxbOOYowX3EDAJNJfEkD+F/wBf1+p2unePLHU9Qht7fTtSWCW8msReyQqsIuIy4ZPvbjnyzhgpXtkNkC0fFPl6o1lcaNqcG9JHtZXWLbdlBkqgEhYMRyA6pnBq7oelf2NpZs/O87M802/bt/1krSYxk9N2PfFcfo3w6j8M6xb65cXVpO2nrMzS2mjkXl2HVgTNKGd5n5B+UDJz8pJGBhrbTyOqsvEtjqE+mRWazS/2laNeROqjakQ28vzwSXAA55z6Vf1C9j03Tbm+nDNFbRNM4QZJCgk49+K5bwpbDSNP1TWbuC9S2mmZrOBrWRp4rUMWVfKUF8l3kYLjcFKggEYFybXtO8TWlzotvHq9vJfQSQiW50S8hRMoRktJGqj8WGenelK9vd3t/X/BHG1/e2C28c2EiXct/ZX+mQW9p9uSW8iVfPgyQXRVZmBHHysqt8y8c0xvHNvbWeoTatpGqaW9jZNfmC5WIvPCudzIUkZSRwCpII3LkcipdS8IRaruS5u5EibS305vKUBhuZT5gJyARt6EGqd14N1HV7PUhr2tQXF3d6dJp0EttZGGOBH+8xQyMWYkLk7gMKAAOSa0v9/62/S/9WUdX73l+l/1/rd7fEGyjWQzaTq0J/cNbpJAoa6SaTy0ZF35A3YyH2suRkCrnhvxhaeJppYrayvrR44Unxdxqu9WZ142sejRuvocZGVIJvaxpH9q2Vtb+f5XkXUFxu2bt3lSK+3qOu3Ge2e9ZOl+GpPDX2i9gkm1GQWCWy28EaI7lJJZMqXcLk+bjBIHy9eeFe34/wDA/r8gV39y+++v4f0zqKo6pq0GkLaNdJKY7m6S2EiAERs5wpbJ4BbC8Z5YfWq/haLWYPDFlH4nuVudVCH7RKqquSSSMhQFyBgHHGQcetVvGkiHwvdWptr25nukMVsllbvI4mxmM5AKphgDvchQQMmh6MI6mjp+rQ6ldX8NvHMBY3H2d5HUBJH2Kx2HPIG7BPHII7VleM/Ed/4b0+1n07SJ9Raa7ggcxmIKgeVEIO+RDuYMQuMgHG7Apbe6t/B+hWNrqSX1xPIGeaSx06e63zMd8jkRI23LsSM468dKS7e28a6HPb6e99YywzRTRTXumTwbJY3WRDslVC67kGQD04yDzT2a8rX/AFCLW76k9x4lktbC0kl0LU/t127JFpimBpztySxYS+UqgDOS46gdSBUEnjS0Gm2Fxa2F7dXN/O9vFYR+UkwljDGRDvdUBXY2fm5xxkVV1/wZP4l0/TzrM+kXmo2MjsrXGk+baSBhghoHkJzjGCJAcj0JUrdeDpZfClrolvD4ZSCNi00EugF7RznIKQCYBDk5yWbJ9KT2YEniHxTqekHRvsnhy+ujfzqk0avb7osozeXzMo38dQSuAeeldFZzyXNnFNNazWkjrloJiheM+hKMy5+hIrBk8LXCeF9L06y1RlvdLeOWC8uojMGZQQd6bgSpVmGNwI454qa48SRaL5VprS391eCMNJNp2h3ckLE+mxZAv+6XJFG1/XT0t/w4b29But+LYtGvpLOPStS1K4jtvtbpZRoQsWWBYs7quQV+7ncc8A4OE1Dxhb2gjaz06/1WM2ovJXskQiCE/ddt7qTkBiFQMx2njpl1vZw63dXOsW0txFHeWP2MRXNnJA6YZzuKyBW/i6EDpnPNYOpfDG3u5rG4jGi3Vxb2ENjIdZ0Zb1GWLO1kHmIYydzZG4g8cZGSle2u/wDw/wDwPv8AuenNpt/w3/B+77+ltfFGmXTXO2byxDIERpCqi4zCJgY+fmGw59flbsM1Vl16UDRNXhLDStTEcUkEqAPE0oBifI9yEK8j5gQRg5p6p4HkvpruWz1KOxMtokNusVr8tu64BcDeAQVUKF4IGeTni7q+nyXlxpGjW9u/2O3liup5yuEVYSGjQHuxdV4HRVbOOM0rc3zX3a3/AA1/4JLvy/J/f0OhooopDCiiigAooooAKKKKACiiigAooooAKKKKACiiigAooooAKKKKACiiigAooooAKKKKACiiigAooooAKKKKACiiigAooooAKKKKACiiigAooooAKKKKACiiigAooooAKKKKACiiigAooooAdJ/rDTadJ/rDTaACiiigAooooAKK4W1tobnUnNnZzNqcesOxuzA+2KISEsBKRtwVyNqnkt06mtTSvDlvLcXF7dQyx3aalLNFK3DKu84C56IwzkDrmsoTcrWW/wDwP8/wKkkr/wBd/wDL8TdjvfM1Kaz+zXC+VGr+e0eInznhW7kY5HuKs1zOnPaQ+NL5rSwuIEuYEVpBp8saSSh5CxLbACcEfMTz6mqmi6GlqNDmOnsk8sUsd67xksylOFkJ7ZAAB4GMCmpOy/rqDSTZ1dtdQ3au1u+8RyNE3BGGU4I596r2urW97qt5Y2weR7Has8oA2K7Dd5ec/eClWIxwGX1rG8O6bp2mandwLpC214LiVo50sSqmJjlQJQu3GCBtz2xin+CHA0i9t5Wzd2+p3a3KnqHaZnXP1R0YexFVBuUU32/r+u4paP5mnb61b3CaiyxXAXT5mhlxCXLkKrEoq5LD5scDOQeKZpXiLT9ZmkjsPtZMZYOZrGaFQQcFdzoBuB7ZzWpXJCz1L/hE9fhsopY7ua8uWiBBVnUv1Xleq5wQR9R1pOTT+X46G0Ywku2qOtqOeeO2t5J522xxIXdsZwAMk8VxGiaZCml6yElms7a4tRE8On6Fc2PlnDDzERyxd8HBKj+Fc54qTSdIi1Dwxq2ltoliICv7lxpTWSzybOCYZOQVOPn6HtjFKUmouy1sW6MU9Xomulu3f+uux2kUqTQpLEdyOoZTjqD0ptzcw2dpNdXTiOGFDJI56KoGSfyrG8JQ6ZBpKppelHTXCoLhDYNbFnC8nlRv+oyPeneLEvbnS4bLTrcTyXVyiOGYogjB3tvYK20ELtzj+LFXJ22MlD3+V/5GrZXkGoWcd1asWikGVLIVP0IIBB9iMip64OW21UWt3ZanprCyXUluriCzLzrNbSBmdQdql8S5ZkAztOMHPN7UrWyl0CwXSdMli0ZLwNe2MVg8LSRYbI8kqGYb9hIC/MAeo4M82n9eX4efkaOik9/6/wA32/E66iuUnaxs4dFu9J0u4t9Ot7qQvDb6bJG0e6NxnyQgfBY9QvfPTms600aTVLbTE1Gwuo4W1i9nmgkUr8jNMVEgHBU7hx0bOOQeavcXsUldvT/h/wDL8TvKK4jX9Ji063sNKtdMiudOMk0oa606S/jt2JBWNYYyNo+ZtrE4UAjvUFvaMNJ8PDxRpt3eWEVm8cts1m9xsnyuwyRDex+UMAcMB3OSDUc+tilQTSae/kd9RXI60h0+SwvtCgMBvbb+zUQQ+X5e4boWKHBUId3y4BG48ccaNzpmm6fZ6FY/2dc3MVncxpa+QC32dlRgJHII+UDIJOeWHFXf+v68rfeZezVlrubtUdQ1RLCa1gFvNcz3TlY4oduQAMsxLEAADrznngGr1Yd2JF8ZacZ2V42imECou0xnC7ixyd2e2NuOfvZ4UnZEwSb1NB9REerR2MttOnmoWinO0xyEclRg7gQOeQB6E0k+qw2+tWemOkhmvIpZUZQNqiPbnJzn+MY4qprazPqWkLaSLFP9ocq7rvUDy23ArwTkdMEYODyAQdinqN2Vn5BVC61UW+ox2UNncXczJ5jiHYBEmcBmLsvU54GTweKJNV8vxBBpX2C+fzoHn+2LDm3TaQNjPnhznIGOQDWTFoaDx1cXR+3CL7JE6yfa5thfzHJX72CBx8nQZ6c1Lburdf8Ag/5EaWZ0tFcVb2J+3W//ABLp11tdQMk98YGAMW4k/vsbWUphQmTjIGBji9onhy32/briGWK+jv7iVJW4faZJAFGeiENnA4JOfekptq9v60/z/AbSX9ev+R09FeeaLoUtpPpk406aOWMWZZzGwKkrIJCc9DjaD7bR0xVnR4Li48R2txLpa23nLMt6q6dJHgEHCyTOcTcjqBjPcZAK53e1uv8AkNxSO0trqG7V2t33iORom4IwynBHPvVe01aC+1O9s7ZZHNkVSabA8sSEZ8sHOSwG0njA3DnOQMbw7punaZqd3AukLbXguJWjnSxKqYmOVAlC7cYIG3PbGKb4RdF8J3sMzSLcW95eLd+SjeYshmdiQACSSGDDGcgjGaqMm4pvsS9JW8zqaK8y8Kafe2mia7p/hvT4YJ2sMW2r/wBiSaXNPPtcIJVlAMrjhjIMLlj8o72IdP0w+C9UtvCPh+9sNUa2jW8LadJaXFyAfnX7Q6qJZCN43h25bO7nNWxf1+R6LRXllzo9rc6H4qTwfoV3pemXOkGDyI9PkszNc/PzHAyqdwUqC4X5sqMtt41vEXgyLSfDOoyeFbZkmu0t0vYRG0wuY0kzI7oGV5pGRnDfPuccZJo6XBaux2Gs6pDomh3uqXSSPBZQPPIsQBYqoJIGSBnjuRTLbVQ+kfb9StJ9KAzuhu2jLrzgf6t3U54wASeR34rzuPT1sfhb4ya3dEtpbKUpaQ6FcaVDAwhIYpFMxPzcElcLkHuTXo99LDBpoluIpJQgG0RQNMwbGAQqgnv1xRLSNw0sn6/hYa+qh9FGpaZa3GpK6B4obfYkkgPp5rIB68kdPwqtD4ltZfCkPiA290lpJGsroUDSRITyWCkj5RknBPAOM0zwjIT4WsoXhuIZYIVjkSeB4iGA7BgM/UcVW8HSwwfDrTpbplSGOz3SM/QKASSfbFKb5W7E03zwT7mtqWrW2l2C3tzvNruUPNGNyxq3G9vRBxk9hyeASL1cpo3l2Pwntv7XRo4ItLzLHN1WPZwrZ7hcD61seG4bu38K6VDqJJu47OFZ89d4QBs/jmqtq/L/AIP+X4jvt/Xb/M06KKKQwooooAKKKKACiiigAooooAKKKKACiiigAooooAKKKKACiiigAooooAKKKKACiiigAooooAKKKKACiiigAooooAKKKKACiiigAooooAKKKKACiiigAooooAKKKKACiiigAooooAKKKKACiiigAooooAKKKKAHSf6w02pHRi5IFN8tvT9aAG0U7y29P1o8tvT9aAG0U7y29P1o8tvT9aAK9taw2iutumwSSNK3JOWY5J596mp3lt6frR5ben60baANop3lt6frR5ben60ANqtHp9rFqM19FEEuZ0VJXBI3hc7cjoSMnnrjirflt6frR5ben60ANop3lt6frR5ben60ANop3lt6frR5ben60ANop3lt6frR5ben60ANop3lt6frR5ben60ANop3lt6frR5ben60ANop3lt6frR5ben60AUZNLtJdUj1CVHe4hXbHulconBGVTO0NgkbgM4JGcVcp3lt6frR5ben60Dbb3G1VvdOttQMJuVk3QP5kbxytGyn/eUg4PcdD3q55ben60eW3p+tAJtaopHTLU6quossjXKxmNS0zlEBxnCE7QTgcgZ96t07y29P1o8tvT9aAbb3G0U7y29P1o8tvT9aBDaKd5ben60eW3p+tADaKd5ben60eW3p+tADarRafawajcX0MWy4uVRZmDHD7c7SR0zzjOM4wM4Axb8tvT9aPLb0/WgBtFO8tvT9aPLb0/WgBtFO8tvT9aPLb0/WgCpqNhbarptzp9/H5trdRNDNHuK7kYYIyCCOD2pNN06DSrFLS1e4eJCSDc3Ulw/Jzy8jMx/E8Vc8tvT9aPLb0/WgCrf2MWpWMlpcNOkcmNzW9xJA4wc8PGQw6diKqx+H9Mj0KHRhbbtPgVFSGSRnyFIIDEkluQM5Jz3zWp5ben60eW3p+tAFW9sLXUI4472FZkjlWZUbON6nKkjvg4Iz3APYVYp3lt6frR5ben60ANop3lt6frR5ben60ANop3lt6frR5ben60ANop3lt6frR5ben60ANop3lt6frR5ben60ANop3lt6frR5ben60ANop3lt6frR5ben60ANop3lt6frR5ben60ANop3lt6frR5ben60ANop3lt6frR5ben60ANop3lt6frR5ben60ANop3lt6frR5ben60ANop3lt6frR5ben60ANop3lt6frR5ben60ANop3lt6frR5ben60ANop3lt6frR5ben60ANop3lt6frR5ben60ANop3lt6frR5ben60ANop3lt6frR5ben60ANop3lt6frR5ben60ANop3lt6frR5ben60ANop3lt6frR5ben60ANop3lt6frR5ben60ANop3lt6frR5ben60ANop3lt6frR5ben60ANop3lt6frR5ben60ANop3lt6frR5ben60ANop3lt6frR5ben60ANop3lt6frR5ben60ANop3lt6frR5ben60ANop3lt6frRQBPRRRQAUV534bbxv4o0UatD4qsrKOW4njS3OjiUoI5njHzeaM52Z6d66nw/qN2LGx07xJPbrr7W3nTwxcBsHBZfUDjOOmR60AbdFFFABRXIWmpX1t4wlsE1HUNQhNvM7RajaLbjzVK7FgcRJ5gwWyRvAAXkZ5oeGPFE95qulxtr41aXUIZDe2aRRgadMq79nyKGTHzLtlLMcA9mpXur/wBdf8geh31Fcb4I1Sa7EMer61q02qSWiyTWGpWC2qq3G8x/uIy4UnGQzAZGeoNaulyz6vqGq3qXM0VqGNla7GBA2ZDyhSCN28leQeIx6kVTVgejsbtFcBF4i1O1sPEH2W/u7/7HbxS28mq2PkXEZYsJHMQjjLRKAGB28kONxxw618QXclpr9rouuy+IPI04XVnfxQxSOJTvUxr5SCN8FAQApOSQc8Uh2O9orn/C19DdLdRrrepalPEVMkWp2i2s0IIOD5YhibaecMQQdpweDUvjSea18C63PbSyQzR2EzRyRsVZGCHBBHIPvTasEVzNI26Ky1a08N6Kmf7RnhU+lxfzEn/vuQj9B7VGPE9gdON79n1XyhL5W3+yLrzM4zny/L37f9rGO2c0iVqrmxRWQfE1iNNF95GqeSZPK2/2TdeZnGc+X5e/H+1jHvSN4osEsI7w2+q+VI5QKNHuzICPWMR7gPcjB9aBmxRWPL4nsIbKC6e31UxzlgippF0zjacHcgjLJ7bgM9s0s/iaxt7O3uZINUMdwCUEek3TuMHB3IsZZPbcBntQBr0Vj3Hiewtre3nkt9VZLhSyCPSLqRgAcfMqxkofZgCaW68TWNpDbySwaoy3CeYgi0m6kIH+0FjJQ+zYPtQBr0Vj3XiiwtBCZbfVW86MSr5Wj3cmAezbYztb/ZOCO4ovPE9hYyIk9vqrF41kBg0i6mAB6ZKRkA+oPI7igDYorIvvE1jp9wIJ4NUdyobNvpN1MuD/ALSRkZ9s5Hei78TWFlem1mg1RpBj5odJupU5GR86Rle/PPHegDXorJu/EtjZX5s5oNUaVSAWh0m6lj5/6aJGVPX1470SeJbGLUvsLQaoZvMEe5dJumiyf+mgj2Y98496NwNaiskeJbE6n9g8jVPO8zyt39k3XlZzjPm+Xs2/7Wce9CeJbF9T+wCDVBN5nl7jpN0Is5xnzTHsx/tZx70bhsa1FZMHiWxuNSFjHBqglLlN0mk3SR5H/TRowmOOucHtSW3iaxutQFnFBqiyliu6XSbqOPjP/LRowuOOuee1AGvRWRZeJrC/ufIgg1RX2lsz6RdQrgDJ+Z4wM+2cntRZeJrHUJnjgg1RGRDITPpN1CMD0LxgE+w5PYUAa9FY9p4nsL1pRDb6qvlRNK3naRdRZA6gb4xub0UZJ7Ci28UWF2k7xW+qqIIzI/m6Pdxkj0UNGCx/2VyfagDYorItvE1jdW9xNFBqipbqGcS6TdRsQf7qtGC59lBNJD4nsJ7S4uEt9VCW4UuJNIukc5OBtRowz++0HHU4oA2KKyIfE1jPYz3aQaoI7cqHV9JukkOTgbUMYZ/faDjvikj8T2EthNeLb6qIoWVWVtIulkJPTbGY9zD1IBA70AbFFY48UWB09rwW+reUsgiKnR7vzM4zny/L3Ef7WMds5pT4msRpovvI1TyTJ5W3+ybrzM4zny/L34/2sY96ANeisdvE9gunpem31XynkMYUaRdGQEDPMfl7wPcjHvTNQe21/wALXE0bajbxhHdT/pFjMGUHH9xwM/gfelJ8qb7DirtI26KzfDksk/hbSpZnaSSSyhZ3c5LEoCST3NSanrelaJGkms6nZ6ekh2o13cLEGPoCxGaqS5W0yIvmimi9RTUdJY1kjZXRgGVlOQQehBrmfG15eabp/wBs0/UtStrhI3MNvbWSzQSuBkecxiYxp2Lb0AGTkYzSem5S1OoorlPFZv49JGoab4hvbSeZI4LS2tUtmhmnc4Q5kidsEsMkHG0Zp+o+J7jR9a03RJPsMlxPCha61G8+yC4YtsKxARsJHzyU+XG5cdeDrYOlzqKKK8+1vxVc2Gsak8mti1ubC4jW20QRxsbyAhC0hBUyHO58MjBV2jOcNk3dg2Vz0GiuQ1LXdSm8WWEWmy+TpcN8tnctsVvtUpR2ZQSDhU2jJHJYkfwkGrL8Q7yO+mjGhKbeKaZPON6ASkVwIXbbs65dSBnn5gSAAWS12/rS/wCQPTf+r3/yO5ornLHxS994vutGWKwiFqxVklvit2wCg71t/L5Qlhht/T34qw9xLf8AjFLWCSRLXTIfNuNjkCSaQEIhx1CqGYg92jPamtbeYdzbormtI8VS6xr1/p8UOnxfY2kQwyX5F2CrbQzweX8qN1DbjkFTjnAi8Mav4jvbi/OtWenR2sF3NGZYb5neML0UL5KhgP7xYH2pXX4XB6ffY6qiuH0f4mWerXywx/2dItxBLPbLaamk8wCDdiaMKPKJXnguAQQSDjOnoniq71HULCDUNKWxj1Oza8s2F0JXKrs3LIoUBT+8UjBYEZyR0p7/ANev+TD+v6+86WikZgqlmIAAySe1UdL13SNbWRtF1Sy1ERECQ2lwkuzPTO0nHQ0AX6KjuIFubaSCQyKkilWMcjRsAfRlIIPuCCK5HRNXk0fwSZCLjUJxqdxZ2qT3DO8jG7eONWkfccAYyxyQB36UDtpc7KiuVn8X3en6bqz6rpUcN9pixO0UF0ZYWjkOFk8zywyqCG3EplQhOCMZlk8WPB4KfX3i0+5AbANhfme2xvCb2m8sYReSx2naFPXFAjpaKyLDV7u/8Ltqdtb2N7cGN3gh0+/E0M5GdqrMUUckYzjAPritK1klls4ZLmH7PM8atJDvDeWxHK5HBweM0wJaK5XxfrrafqOl6auozaaL0TSPPbQCadhGF/dxRlH3MS4P3W+VW47i34L1S+1Xw6smrJIl5BPLbymRVVm2OQGYKSoYjBIXgHIGOlJag9Dform/HN7q2m+G57zSLqO18hQ7yGMO5+ZQFUH5QDk5JzxwBk5D/GE89npourXUtWtJEDBI9NsVufNfGQHBicqvHXKjnk9KTdlcFq7HQ0V574i8TX8MFrK2ry2UUmki7SbSEgnWSY9d/mK+yH7uJPlTk7nHy1peJbvWbXwzFq8GtC2u0to/JsrWCOSO8um6ISwZmVjhQEKkDJ3HjFW/r7/8g3t/Xb/P8zsKKahYxqXXaxAyM9DVG+1/R9MvIbTUtVsbO5uMeTDcXKRvJk4G1Scnnjil1sHS5oUUVymt+OItE8RQafP/AGYUkmhhMbamq3hMjBQy2+07lBYZO4HAY44GTdpB0udXRWFBrmoahrdxbaVp1vLY2c4t7m7uLsxtvwGYRxiNt20MByy5OR2zRZa5f6pq06abp1u+mW1w1tNdzXZSRnXh9kYjYMAflyWXkHjABItQ2N2isCLxR5trDN9jx5urSabjzemyR039O+zOPfrVXTfFep6leIU8Puunfb5rF7kXG5w0bOvmCML/AKslACSwIJPBA3EWv9en+aG1bf8Arf8AyZ1NFcpY+OIbnxd/YkjaWWcyhBaams88Zj5ImiCjy+AejNyMVb0jXtV1qzOo2mk2w02aJpLN5L0iaf8Aubo/L2oG653kgEZGcgK+lxdbHQUVhaZ4lGrXGmJaWjFLyyN3MzPj7NyAEIxyxYsO33GrRsLm9uJLxb6w+xrDcGO3bzlk+0R4BEmB93JJG088e9P+v0AuUVkeKtXfQvC97qELQpJEqhJJziOMswUM3+yN2T7CsXwprN9N4ivNNuLy+1Gy+ypcWt7fWqQO53FXAVVTKfdKkqM5bBYYNC1dgeiudjRWL4t1K40rw3NdWkiwEPGklyy7hbRs6q82CCDsUlueOOeM1zMXjKa10/VksNUOviGW1jsr/wAlJN7Tv5eD5QRJAjAn5Mf3ScgmjcD0CiuCbxNf6do89mW1ibW3u4YFi1G2tmlj80EqyCDEbLhHxluCDuIArU0qe71PRbq0Or6tYXlpcbbua/gtftEK7QwAMamHBBB3Ybgkdeh3/rt/mH9f19x1NFYXg7ULzU/Dcdzfym43SyrBclAhuYQ5EcpAAHzIAeAAc5AANbtABRRRQAUUUUAFFFFABRRRQAUUUUAFFFFABRRRQAUUUUAeX+B/HGheHfCkel6xLe295BdXZkjGm3LgBrmRl+ZYyDlWB4Petjw54a0jXLvSfGKWVxYyCFpIbOVmzHI+QzNk8nHAHA5PXjHcUUAFFFI2dp2kA44JGaAMi08PGLVEv7/Vr7U5YQwt1uhEqwbuGKiONMnHGW3EDOMZOX2OhG1ujdXmqXupXIUpFLdeUPJU4yFWNFXsOSCe2ccVlaJfeJLjxLqNnqeoaVJa6c0ayeRp0kTy749wIYzsFwSOxzjtV3TfFdvqN9DAbC+tY7pXeyubhEEd2q8kptYsOPmAcKSOQODhaAEHhuWCWW7k1m8v9R+zvBbXV6kRFsGwThIljU5KqTnk7QMir9lpaadoMOl2c0sSwwCFJ12mQHGN/wAwILZ55BBPUGqGleJm1nTpL+w0XUHtfL8y2lL24F2M8bB5uQT1+fZ74PFR+EfEV/4g0yOfUNFurAspbznaHynIYjChZWYH6gd6fkGxYtPDrWpup5NY1C6v7iLyRfTCHzIUGSAirGI+CSeUOe+QAA+00H7Jb3WNTvZb+6ULJqMnlGYAZ2gDZ5YC5OAExkkkEkk6F5dw2FjPeXThIbeNpZGP8KqMk/kK57Q/FEx0W+ufFAhsp7BFmnESMAsTxiReMkkjLJx1KHAGcUdx/qamk6ImlzXFzJeXN/e3IVZbq6Kb2Vc7VwiqoA3N0UdSTk1H4ssbjUvBusWNjH5tzcWUsUUe4LuYoQBk4A59aZH4kCaRc6lq2lX+k29uof8A0sRM0gPTasTuc5wNpAOSBihPEbJYpc6lo+oacJLmK3SO4MLMxkYKG/dyMAAWGckH2NPW9hKXK+b+tCZbW28Q6KkWv6GBGTlrLUY4ZsEdCQrOnuOajHhHw2NOOnjw9pQsjL5xtvsUfll8Y37duN2OM9ah1Lxjp2lQ38t1FdFbC7hs5fKi3lnlCFSqg5YfvF7Z64Bp9p4l+12d48ej6it5ZzCGSwYReaWKhgQRJ5eCrA5LgdR14pef9dP+AFrWRIfCXhw6aNOPh/SzYiTzRbfYo/LD4xu24xnHGetI3hDw09hHYv4e0prSNzIlubKMxqx4LBduAT61B/wl1oNJ+1yWl4lx9qNmNPKoZzP/AM8xhimcfNndtC8kgA1Zi1//AEjT7e/0280+bUGkSNLgxNtZBu2sY3YZZQxGCeFOcUb/ANf15B/X9fiNl8I+G57KCzn8PaVJa2xYwQPZRlIixy21SuBk9cdaWfwl4curO3tLnw/pc1tagiCGSyjZIcnJ2qRhcnrimjxLC/h+XV7bT9QuoknaFYoIQ8suJfL3queVz82f7vNbNAGPceEfDd3b29vdeH9KmhtVKwRyWUbLCCckKCuFGfSluvCXhy9ht4r3QNLuI7VPLgSWyjcRJ/dUEfKPYVm+KPEdzpt+LOyvNO0/y7f7RLdajG0qEltscSIroSzEN0J+7gKSeNbw5q517w3Y6m0DWz3MQaSBs5ifoynIB4YEcgdKFqr/ANf1uGzsRXXhDw1eiEXvh3SrgQRiGLzbGN/LQdFXK8KPQcUXnhHw3qMiSah4f0q6eONYkaeyjcqg6KCV4A7Cs3Xdf1W31LUYdLk0+3i0myW8uDfIxNwG3napDqIwBGRvIbk9OOaWp+Ox9qijsLqGyhS1hu7m4nsJ7sRpICVDLEVEYwCTI7AD0PJBv/Xr/wAEHp/Xp/wDoL7wn4c1O4FxqWgaXeTBQgkuLKORgo6DJGcD0ou/CXhzUL03l/4f0u6ujjM81lG7nAwPmIzwAAPpWJrnjT7Jrj2Npe21pBaRxy3d1LYT3aqH5GfKKiJdoz5jtj2OCRo32talb+LdKsY7e3XTb2R4zKzFpJCImkyoBwqjAHOScnhQAWEIt3fhPw7f35vr7QNLubtiCbiazjeQkcA7iM8YH5USeFPDs2pf2jNoGlyX3mCX7U1nGZd46NvxnPHWsPU/FWo2dxqd8j6fDpek3cdrPbzo3nzbghLK4cBP9YNqlW3beo3caR1rU08dW2lTW1vFYXFtPLG24tK5jaIbjjhQfMPHJ4ByM4Aulv60uPuWh4T8OjU/7SGgaWL7zPO+1fY4/N35zu34zuzznOaE8J+HY9T/ALRTQNLW+8zzftQs4xLvzndvxnOe+c1laf4hub7xhd6ade0SP7PcNGNL8km8ZAoO7d53HXOfLxj86rQeK9Ul8VpYFrMFrx4H0r7LILqKBdwFyZN+3yzhSDsC/MF3FqF0t/X9f8OD63N6Dwp4dtdSGoW2gaXDehy4uY7ONZAx6tuAzk5PPvSW3hPw5Z6gL600DS4LwMWFxFZRrICc5O4DOTk/nWLp/inUpbrSru9awGn6vdSWsFoiMLiAqHILOXIc/uyGUIu0t1O05ZpXirVL7xPBZO1m4eaWO505LaRLnT0UMUkkcuQQxCgfIobeCpIHIvIGbtl4S8Oadc/aNP8AD+l2k+0r5sFlGjYIwRkDOCKLLwl4c0yZ5dN0DS7SR0MbPBZRxlkPVSQOQfSs3R9fvbnxVc6S+o6Tqywwu8r2EZiazkVwoilBkk5bLf3SNh4OeJdM1TWV8TSaNq8mnzyNZfa1ezhdPs537djhnbdnnDfLna3y+hvbz/4P/BB6X/rt/wAAuWnhHw3YNKbHw9pVsZomhlMNlGm9G6ocLyp7g8UW3hDw1ZpOln4e0q3W4jMUyxWUaiVD1VsLyPY1h2vjG4thrZu77Tdci0q0+0STaXGYgkgLDyWBkkG75c9RjuOhqn/wnWoWjaxa3Nzpd/dWelz3scllDIsUM0Q+e3kJdgzLuQnDKcHlVyMm/wDX9f16oaTbt5/1/X+Tt1Nt4S8OWdvcW9poGlwQ3ShLiOKyjVZlHQMAMMPY0kPhHw3bWlxa2/h7Sore6CieGOyjVJQpyu4BcNg8jPSseLxTPF4VvtWTWdF1/wAt44o302MxxROzBf3jedJwN6semADWlomrXz65qGi6vPZ3N3ZxRT+dZxNEpSTcArIzuVYFCfvchhwKdtRJ6XRPD4S8OW9jPZQeH9LitbkqZ4EsoxHLtORuUDBx2z0pI/CPhuKwmsYvD+lJaTsrS262UYjkI6Fl24JHbNbFFIDHHg/w0NPaxHh3SRZtIJWtxYx+WXAwG27cZxxnrSnwl4cOmjTj4f0s2Ik80W32KPyw+MbtuMZxxnrWvRQBjt4R8Nvp6WD+H9KazjkMqWxsozGrkYLBduAcd6S+sodF8Mz2fh7Q9yMrJHZ6ekMIBYHLYZkUDJyec/WtmilJcya7jTs7lDQbaWy8Oaba3KbJoLSKORcg7WCAEZHHUVfooqpPmbbIjFRSSCsvV9Fm1YhP7Z1Cyt2Qxy29r5IWZT1yzRl1yOMqykdsHmtSiluVsZr6FaPe6bPl1j0xWFtbKR5akrtDYxnIXIHOMMeOmK2u+G/+EgWSC71a/i0+aPy57CFYfLmXuCzRmQZHHysPbB5rbop31uC02ADAAHQVlXWhm+1Lz7zUr2W0DK408+WsAZcYJIQO3IzhnIz26Vq0Ug6WOdv/AAB4W1G9ivJ9C04XCXH2h5Fs4t0zYOd5K5YEnJ9wDSSeCNNk8zM10PMM5OHXjzZ1mb+HsygD29TzXR0ULT+vkD13MSTw19p1qC/1DVr+8S1nNxbWkqwrFC5VlBBSNXOAxADMevOTVvSNL/syK5Mk3nz3Vy9xNLs27ix+UYyeFUKo56KK0KKNg3MSLw3/AMTyHU7/AFa+1B7Zna2hnWFUgLjBK+XGrH5SR8xPX1walttAFpq1zd2+oXi2907SS2BERgZyoBblN4zjOA+M9ua1qKAOetvDMul2E9tZavqE9oLd4bfT5zC0cQIwqh/LEhx0G5zx1zUfhXwxJpVpYXOqXt5e38Filsq3Ji22owu9EEaqDkqvJ3H5RzXS0ULS7/rr/mJq/wDXp/kFFFFAyK6he4tZIoriW1d1IWaIKXjPqNwK5+oIrnrXwTDBo9xp1xrGpXkUs/2qJ5jCr283mGTzEKRrzvOcNuHGMYyD01FAGJb+Gmtba78rWdQ+33jIZdSYQGYheFUAx+WFAyMBO5PU5pLTwz9g067gs9Xv4ru8uPtFxqAWAzSPhVztMflj5VUcIOmeuTW5RQBj2XhuKy0a+sY769Mt+0jz329UnMjjbvBRQqsABjCjoDyck6drB9ls4bfzZJvKjVPMmbc74GMse5Pc1LRQBmazocertbTC7ubG7tHLQXVqyh0yMMMOrKwI6hlPY9QDUEnhmA+HG0e2vr+yVn817u1n2XDOX3sxfHVmznAxgkAAVtUUAY3iTw7/AMJJp32GTVL6xt2GJVtBD+9GQRkyRsRgjtjrzmnXOiXtxaW8K+JNUhMSlZJYktg9xnu2YSAR0+QL+da9FAHOT+CrQSRtpOoX+kBbNLJ1s2jIkhTO1T5iOQRub5lwfmOSeMR3fga3lvtNuNP1XUdMGl232azgthA8cS4xuAljfDbfl3dccdznp6KP6/r72A2JGjhRHkaVlUAyOBlj6nAAyfYAU6iigArmbrwPa3V/cz/2nqEUF1eRX0tnE0YiaaMoQxOzec+WuQWx7DjHTUUbO4GOPD3k6zJf2Oq31mk8oluLSLymhmcAAk70ZlyAAdjL0z1yaIfD32TV5Lyx1W+toJpTNNYp5TQyOR8x+ZC656kKyjPOMk52KKNgOcXwZarqS3I1HUfIjvTfR2XmIIUmYkseF3MCWY4ZiATxjitfS9Lh0mze2t2kZHnlnJkIJ3SSNIw4A4yxx7Vcoo6WDd3/AK/rU5rSfBFrpF1YSR6nqM8Om7xZ2szxiKBWUqVwqAtwerFm468nNmw0N/D6O2n32pXNnDG3kaTmAoncKjMof2AaTAzjoBjcooA57wno0unR395dW5tZ9QunnFszhzbxkkrHlcjqXcgEgM7AEjmtWw0/7BJeP9surn7VcGfbcS7xDkAbE4+VOM49SauUUf8ADAVdT0621fTLjT79DJb3CFJFDFTg+hHIPoR0qnpGgLpU81zPqF5qd3KixG5vGTeI1yVQBFVQMsxzjJJ5JwMa1FAGVZ6JJY6E2nQ6xqTyFmZb6eRJp13MW4LqVIGcAFTgVE3he1l0m4s7q5uria5ZZJL6R187zEIKOMKFUqQCAFC5HTk52qKA6nPnwjbyWswutRvri+mkjl/tF2jWdGjOY9oVAgC5PGzBydwOTmC+8D2+oaJcafcavqRe7uFnu7sNF5lyVAAR1Mfl7MBRtCAEDnOWz09FAFPTLGbT7TyLjUbnUG3ZEtykSsB/dxGiLj8M1coooAKKKKACiiigAooooAKKKKACiiigAooooAKKKKACiiigAooooAKKKKAMy00ZbbVtWvHm8xdSMZMe3GwKmzGc8569qwvDHgKHwxeo9tFobRwRtHBPHoyxXeOgLzK+GOODhF3e1dhRRsBzGg+E5tL8QXGr3Nxp4muIikkemaebRJ2LBjJKDI/mOMHDcY3P1zxe0HSL/RVe0kv7e405CxtohalJowWLYaTeQ2M44Re1bNFAGbr+kDXtEn0x52hiuCqzMuctHuBdQQQRuUFc54znmsaTwBZG4vvJvb4W+oWX2W4Se6luXLBt0bq8rtt25f5cEHd7c9XRQHkYEuhanqmh3WneINTtrgybDDPZ2RgaJlIZXIeSQMQwU9AOOlJd6JrOp6M1tqWrWTXcdxFcW89tp7RojRuHAdGlYsCV5wy8Ht1roKKPMPI5eDwjdFLt7/VVuLi71K31B3S18tVMQj+RV3Hg+XwSSQDzuxk3fFXh4+JNLhtBPDGIrhZjHdW/nwTAA/JJHuXevOcZHKqe1bdFHS39dP8AJB1v/X9anHaf4C/szRlt7O9t4LuHUDqFtJDYrHBDIU2FPJVvuYLDAYHB+9kbi7xNFqc+iWumySvca5LcJJa3dhp8kcMBVxl2LM6oAhbIZ8sMhQTxXX0Ub7/1YP6/r7zMuNKni8PR6ZoN7/ZbwpHHBN5Im8tEI42twcqCPbOa06KKd2w2Of1nw3cXmvWut6ReW9nqVvA9t5lzZ/aEaNiDwAyMrAjghsYJBB4xMNCurLQ9O03RNVeyFnJGZJpIEma4jU5dTnABfuwHHYVtUUloBz3iHwudf1C3llOmrDChXzJdOEt1GSeTFMzYj7fwHpn0wzUPC11JcXH9j6lHYWt7bJbXcL2vnEooKho23jY21iMsHHC8cHPSUUrK1h31ucvfeErl2uYdK1RLKyv7dLa8iktfNcqq7N0b7gEYpxllcfKpx1y/VfDur3es6bdadqtha22mMWggm095WOYyh3OJlzwTjgY966Win1uTbSxzeo+El1bxENQvRpvkqFAaPTgLsgfwG4Ln5Cc5AUHBxnrku9B1q48YWusxatYRwWsbwpbNpzsxjcoXBfzgN37sYO3AzyDXSUULR3GYV3oeoanq0Emp6havp9rci5t7aCyKSb1+7vkaRgQM5+VVJ45xkHNg8ETx6jCZdSgksYNSfUowLPF15rMWIM+8gr823hASoC5x16+ihabf1t/kgeu/9b/5s5qz8IpF4lk1e7/s0Sea0sYsdOFu7sQQGmk3sZSAxx90ZJJBONtTTPA89lqGnvcalbzWumXE1xa+XZeXcM0m7cJZt5Dg7yWwq7iFJ6YPYUULQHqYNtomqSaxFqWs6lZ3M1rFJHara2LQKm/G4vulct91cAFR1znjFXwx4b1rQnuWvtZsdRe6ZpZ7j+znjmllPCszecw2gDAUKAAABiuoooA5iTwlPq7XbeKL+C8NxYyWAWytDbKsUhBckNJIWb5Rg5wOeOadpXhm/wBPCSy6laS3VpZGysDHp/lRQodpy0Yk+YkomdpQYGABXS0Uf1+f+bD+v6+452Dw3dk6nd6jeWN5qWoWy2rMbAi2Ea7sKYTIWYZds5fnOOKm8NeGYfD0UrKtoJ5gqsLG0FrAiqWKqkYJwMuxJLMSWPOMAblFABRRRQAUUUUAFFFFABRRRQAUUUUAFFFFABRRRQAUUUUAFFFFABRRRQAUUUUAFFFFABRRRQAUUUUAFFFFABRRRQAUUUUAFFFFABRRRQAUUUUAFFFFABRRRQAUUUUAFFFFABRRRQAUUUUAFFFFABRRRQAUUUUAFFFFABRRRQAUUUUAFFFFABRRRQAUUUUAFFFFABRRRQAUUUUAFFFFABRRRQAUUUUAFFFFABRRRQAUUUUAFFFFABRRRQAUUUUAFFFFABRRRQAUUUUAFFFFABRRRQAUUUUAFFFFABRRRQAUUUUAFFFFABRRRQAUUUUAFFFFABRRRQAUUUUAFFFFABRRRQAUUUUAFFFFABRRRQAUUUUAFFFFABRRRQAUUUUAFFFFABRRRQAUUUUAFFFFABRRRQAUUUUAFFFFABRRRQAUUUUAFFFFABRRRQAUUUUAFFFFABRRRQAUUUUAFFFFABRRRQAUUUUAFFFFABRRRQAUUUUAFFFFABRRRQAUUUUAFFFFABRRRQAUUUUAFFFFABRRRQAUUUUAFFFFABRRRQAUUUUAFFFFABRRRQAUUUUAFFFFABRRRQAUUUUAFFFFABRRRQAUUUUAFFFFABRRRQAUUUUAFFFFABRRRQAUUUUAFFFFABRRRQAUUUUAFFFFABRRRQAUUUUAFFFFABRRRQAUUUUAFFFFABRRRQAUUUUAFFFFABRRRQAUUUUAFFFFABRRRQAUUUUAFFFFABRRRQAUUUUAFFFFABRRRQAUUUUAf//Z)"
      ]
    },
    {
      "cell_type": "markdown",
      "metadata": {
        "id": "VJwpqxvAV9bW"
      },
      "source": [
        "#Other helper functions"
      ]
    },
    {
      "cell_type": "code",
      "metadata": {
        "id": "FM1WY_Q_sMkL"
      },
      "source": [
        "history.history.keys()"
      ],
      "execution_count": null,
      "outputs": []
    },
    {
      "cell_type": "code",
      "metadata": {
        "id": "xBBJ9WlpsMiH"
      },
      "source": [
        "accuracy = history.history['accuracy']\n",
        "val_accuracy = history.history['val_accuracy']\n",
        "loss = history.history['loss']\n",
        "val_loss = history.history['val_loss']"
      ],
      "execution_count": null,
      "outputs": []
    },
    {
      "cell_type": "code",
      "metadata": {
        "id": "c8oHEt0OsMf2"
      },
      "source": [
        "epochs = range(len(accuracy))\n",
        "\n",
        "plt.plot(epochs, accuracy, 'bo', label='Training Accuracy')\n",
        "plt.plot(epochs, val_accuracy, 'b', label='Validation Accuracy')\n",
        "plt.title('Training and Validation Accuracy')\n",
        "plt.legend()"
      ],
      "execution_count": null,
      "outputs": []
    },
    {
      "cell_type": "code",
      "metadata": {
        "id": "liiGj4HdsMa3"
      },
      "source": [
        "plt.plot(epochs, loss, 'ro', label='Training loss')\n",
        "plt.plot(epochs, val_loss, 'r', label='Validation loss')\n",
        "plt.title('Training and Validation loss')\n",
        "plt.legend()"
      ],
      "execution_count": null,
      "outputs": []
    },
    {
      "cell_type": "code",
      "metadata": {
        "id": "RKZxo6khsMYv"
      },
      "source": [
        "predicted_classes = CNN.predict_classes(X_test_gray_norm)\n",
        "y_true = y_test"
      ],
      "execution_count": null,
      "outputs": []
    },
    {
      "cell_type": "code",
      "metadata": {
        "id": "3knUnry5sMWd"
      },
      "source": [
        "from sklearn.metrics import confusion_matrix\n",
        "cm = confusion_matrix(y_true, predicted_classes)\n",
        "plt.figure(figsize = (25, 25))\n",
        "sns.heatmap(cm, annot = True)"
      ],
      "execution_count": null,
      "outputs": []
    },
    {
      "cell_type": "code",
      "metadata": {
        "id": "3WLTbXkysVdv"
      },
      "source": [
        "L = 5\n",
        "W = 5\n",
        "\n",
        "fig, axes = plt.subplots(L, W, figsize = (12, 12))\n",
        "axes = axes.ravel()\n",
        "\n",
        "for i in np.arange(0, L*W):\n",
        "    axes[i].imshow(X_test[i])\n",
        "    axes[i].set_title('Prediction = {}\\n True = {}'.format(predicted_classes[i], y_true[i]))\n",
        "    axes[i].axis('off')\n",
        "\n",
        "plt.subplots_adjust(wspace = 1)    "
      ],
      "execution_count": null,
      "outputs": []
    }
  ]
}