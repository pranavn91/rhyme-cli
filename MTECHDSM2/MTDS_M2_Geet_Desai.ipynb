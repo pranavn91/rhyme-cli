{
  "nbformat": 4,
  "nbformat_minor": 0,
  "metadata": {
    "colab": {
      "name": "MTDS_M2_Geet_Desai.ipynb",
      "provenance": [],
      "private_outputs": true,
      "toc_visible": true
    },
    "kernelspec": {
      "name": "python3",
      "display_name": "Python 3"
    },
    "accelerator": "GPU"
  },
  "cells": [
    {
      "cell_type": "markdown",
      "metadata": {
        "id": "YrXnocXVPtkc"
      },
      "source": [
        "NAME:GEET DESAI"
      ]
    },
    {
      "cell_type": "markdown",
      "metadata": {
        "id": "zKmFmyaGunc7"
      },
      "source": [
        "# TASK #2: MOUNT DRIVE AND IMPORT LIBRARIES/DATASETS"
      ]
    },
    {
      "cell_type": "markdown",
      "metadata": {
        "id": "G4OdH814kOII"
      },
      "source": [
        "- In this case study, we want to classify images of traffic signs using deep Convolutional Neural Networks (CNNs).\n",
        "- The dataset consists of 43 different classes of images. \n",
        "- Classes are as listed below: \n",
        "  - 0 = Speed limit (20km/h) \n",
        "  - 1 = Speed limit (30km/h)\n",
        "  - 2 = Speed limit (50km/h) \n",
        "  - 3 = Speed limit (60km/h)\n",
        "  - 4 = Speed limit (70km/h) \n",
        "  - 5 = Speed limit (80km/h)\n",
        "  - 6 = End of speed limit (80km/h)\n",
        "  - 7 = Speed limit (100km/h)\n",
        "  - 8 = Speed limit (120km/h)\n",
        "  - 9 = No passing\n",
        "  - 10 = No passing for vehicles over 3.5 metric tons\n",
        "  - 11 = Right-of-way at the next intersection\n",
        "  - 12 = Priority road\n",
        "  - 13 = Yield\n",
        "  - 14 = Stop\n",
        "  - 15 = No vehicles\n",
        "  - 16 = Vehicles over 3.5 metric tons prohibited\n",
        "  - 17 = No entry\n",
        "  - 18 = General caution\n",
        "  - 19 = Dangerous curve to the left\n",
        "  - 20 = Dangerous curve to the right\n",
        "  - 21 = Double curve\n",
        "  - 22 = Bumpy road\n",
        "  - 23 = Slippery road\n",
        "  - 24 = Road narrows on the right\n",
        "  - 25 = Road work\n",
        "  - 26 = Traffic signals\n",
        "  - 27 = Pedestrians\n",
        "  - 28 = Children crossing \n",
        "  - 29 = Bicycles crossing\n",
        "  - 30 = Beware of ice/snow\n",
        "  - 31 = Wild animals crossing\n",
        "  - 32 = End of all speed and passing limits\n",
        "  - 33 = Turn right ahead\n",
        "  - 34 = Turn left ahead\n",
        "  - 35 = Ahead only\n",
        "  - 36 = Go straight or right\n",
        "  - 37 = Go straight or left\n",
        "  - 38 = Keep right\n",
        "  - 39 = Keep left\n",
        "  - 40 = Roundabout mandatory\n",
        "  - 41 = End of no passing\n",
        "  - 42 = End of no passing by vehicles over 3.5 metric tons\n",
        "\n",
        "- Citation\n",
        "J. Stallkamp, M. Schlipsing, J. Salmen, and C. Igel. The German Traffic Sign Recognition Benchmark: A multi-class classification competition. In Proceedings of the IEEE International Joint Conference on Neural Networks, pages 1453–1460. 2011. \n",
        "@inproceedings{Stallkamp-IJCNN-2011, author = {Johannes Stallkamp and Marc Schlipsing and Jan Salmen and Christian Igel}, booktitle = {IEEE International Joint Conference on Neural Networks}, title = {The {G}erman {T}raffic {S}ign {R}ecognition {B}enchmark: A multi-class classification competition}, year = {2011}, pages = {1453--1460} }"
      ]
    },
    {
      "cell_type": "code",
      "metadata": {
        "id": "AhbU2fAZh0oe"
      },
      "source": [
        "import matplotlib.pyplot as plt\n",
        "import numpy as np\n",
        "import tensorflow as tf\n",
        "import pandas as pd\n",
        "import seaborn as sns\n",
        "import pickle\n",
        "import random"
      ],
      "execution_count": null,
      "outputs": []
    },
    {
      "cell_type": "code",
      "metadata": {
        "id": "GKpz8CSLh5iQ"
      },
      "source": [
        "!wget --load-cookies /tmp/cookies.txt \"https://docs.google.com/uc?export=download&confirm=$(wget --quiet --save-cookies /tmp/cookies.txt --keep-session-cookies --no-check-certificate 'https://docs.google.com/uc?export=download&id=1tQ2HkQdxCUpAo4twbqN6mu7FYD7Ry5tq' -O- | sed -rn 's/.*confirm=([0-9A-Za-z_]+).*/\\1\\n/p')&id=1tQ2HkQdxCUpAo4twbqN6mu7FYD7Ry5tq\" -O train.p && rm -rf /tmp/cookies.txt\n",
        "!wget --no-check-certificate 'https://docs.google.com/uc?export=download&id=1zJxB1YzBYuImaHBSxWGN-ZXPDRYN_CTX' -O valid.p\n",
        "!wget --no-check-certificate 'https://docs.google.com/uc?export=download&id=1jZhZpEZkYFaaPPAwfd1cB8e-FK0aoeC0' -O test.p"
      ],
      "execution_count": null,
      "outputs": []
    },
    {
      "cell_type": "code",
      "metadata": {
        "id": "gUh_5xdjh0or"
      },
      "source": [
        "with open(\"/content/train.p\", mode='rb') as training_data:\n",
        "    train = pickle.load(training_data)\n",
        "with open(\"/content/valid.p\", mode='rb') as validation_data:\n",
        "    valid = pickle.load(validation_data)\n",
        "with open(\"/content/test.p\", mode='rb') as testing_data:\n",
        "    test = pickle.load(testing_data)"
      ],
      "execution_count": null,
      "outputs": []
    },
    {
      "cell_type": "code",
      "metadata": {
        "id": "-uEFeTF3rPl0"
      },
      "source": [
        "X_train, y_train = train['features'], train['labels']\n",
        "X_validation, y_validation = valid['features'], valid['labels']\n",
        "X_test, y_test = test['features'], test['labels']"
      ],
      "execution_count": null,
      "outputs": []
    },
    {
      "cell_type": "code",
      "metadata": {
        "id": "LTLHnPTGrRkc"
      },
      "source": [
        "X_train.shape"
      ],
      "execution_count": null,
      "outputs": []
    },
    {
      "cell_type": "code",
      "metadata": {
        "id": "1jLck0QwrSNz"
      },
      "source": [
        "y_train.shape"
      ],
      "execution_count": null,
      "outputs": []
    },
    {
      "cell_type": "code",
      "metadata": {
        "id": "kat4JHlkU72s"
      },
      "source": [
        "X_validation.shape"
      ],
      "execution_count": null,
      "outputs": []
    },
    {
      "cell_type": "code",
      "metadata": {
        "id": "hNn3RQWuU9f9"
      },
      "source": [
        "y_validation.shape"
      ],
      "execution_count": null,
      "outputs": []
    },
    {
      "cell_type": "code",
      "metadata": {
        "id": "zk9-1qu8VA6A"
      },
      "source": [
        "X_test.shape"
      ],
      "execution_count": null,
      "outputs": []
    },
    {
      "cell_type": "code",
      "metadata": {
        "id": "oqO02g_xVDbf"
      },
      "source": [
        "y_test.shape"
      ],
      "execution_count": null,
      "outputs": []
    },
    {
      "cell_type": "markdown",
      "metadata": {
        "id": "LlszUhNNyrl_"
      },
      "source": [
        "# TASK #3: PERFROM IMAGES VISUALIZATION"
      ]
    },
    {
      "cell_type": "code",
      "metadata": {
        "id": "ronVvCdJsYc5"
      },
      "source": [
        "i = np.random.randint(1, len(X_train))\n",
        "plt.imshow(X_train[i])\n",
        "y_train[i]"
      ],
      "execution_count": null,
      "outputs": []
    },
    {
      "cell_type": "code",
      "metadata": {
        "id": "ZUUvpXsmlwbb"
      },
      "source": [
        "# Let's view more images in a grid format\n",
        "# Define the dimensions of the plot grid \n",
        "W_grid = 5\n",
        "L_grid = 5\n",
        "\n",
        "# fig, axes = plt.subplots(L_grid, W_grid)\n",
        "# subplot return the figure object and axes object\n",
        "# we can use the axes object to plot specific figures at various locations\n",
        "\n",
        "fig, axes = plt.subplots(L_grid, W_grid, figsize = (10,10))\n",
        "\n",
        "axes = axes.ravel() # flaten the 15 x 15 matrix into 225 array\n",
        "\n",
        "n_training = len(X_train) # get the length of the training dataset\n",
        "\n",
        "# Select a random number from 0 to n_training\n",
        "for i in np.arange(0, W_grid * L_grid): # create evenly spaces variables \n",
        "\n",
        "    # Select a random number\n",
        "    index = np.random.randint(0, n_training)\n",
        "    # read and display an image with the selected index    \n",
        "    axes[i].imshow( X_train[index])\n",
        "    axes[i].set_title(y_train[index], fontsize = 15)\n",
        "    axes[i].axis('off')\n",
        "\n",
        "plt.subplots_adjust(hspace=0.4)\n",
        "\n",
        "        "
      ],
      "execution_count": null,
      "outputs": []
    },
    {
      "cell_type": "markdown",
      "metadata": {
        "id": "Y0GmpAjG3GiH"
      },
      "source": [
        "# TASK #4: CONVERT IMAGES TO GRAYSCALE AND PERFORM NORMALIZATION"
      ]
    },
    {
      "cell_type": "code",
      "metadata": {
        "id": "YI1QcjORsq2G"
      },
      "source": [
        "from sklearn.utils import shuffle\n",
        "X_train, y_train = shuffle(X_train, y_train)"
      ],
      "execution_count": null,
      "outputs": []
    },
    {
      "cell_type": "markdown",
      "metadata": {
        "id": "O39M8bHRjJYz"
      },
      "source": [
        "#Since its an RGB image, so it means that you have add r with g with b and then divide it by 3 to get your desired grayscale image. Its done in this way. If you have an color image like the image shown above and you want to convert it into grayscale using average method."
      ]
    },
    {
      "cell_type": "code",
      "metadata": {
        "id": "u2-GkZo0riel"
      },
      "source": [
        "X_train_gray = np.sum(X_train/3, axis = 3, keepdims = True)\n",
        "X_test_gray = np.sum(X_test/3, axis = 3, keepdims = True)\n",
        "X_validation_gray = np.sum(X_validation/3, axis = 3, keepdims = True)"
      ],
      "execution_count": null,
      "outputs": []
    },
    {
      "cell_type": "code",
      "metadata": {
        "id": "a2thgGKwricb"
      },
      "source": [
        "X_train_gray.shape\n"
      ],
      "execution_count": null,
      "outputs": []
    },
    {
      "cell_type": "code",
      "metadata": {
        "id": "4yZu7n28riaV"
      },
      "source": [
        "X_test_gray.shape\n"
      ],
      "execution_count": null,
      "outputs": []
    },
    {
      "cell_type": "code",
      "metadata": {
        "id": "Nar_imirriYX"
      },
      "source": [
        "X_validation_gray.shape"
      ],
      "execution_count": null,
      "outputs": []
    },
    {
      "cell_type": "code",
      "metadata": {
        "id": "-xRVL8FpriWI"
      },
      "source": [
        "X_train_gray_norm = (X_train_gray - 128)/128\n",
        "X_test_gray_norm = (X_test_gray - 128)/128\n",
        "X_validation_gray_norm = (X_validation_gray - 128)/128"
      ],
      "execution_count": null,
      "outputs": []
    },
    {
      "cell_type": "code",
      "metadata": {
        "id": "__hg6A5yrq2c"
      },
      "source": [
        "i = random.randint(1, len(X_train_gray))\n",
        "plt.imshow(X_train_gray[i].squeeze(), cmap = 'gray')\n",
        "plt.figure()\n",
        "plt.imshow(X_train[i])\n",
        "plt.figure()\n",
        "plt.imshow(X_train_gray_norm[i].squeeze(), cmap = 'gray')"
      ],
      "execution_count": null,
      "outputs": []
    },
    {
      "cell_type": "markdown",
      "metadata": {
        "id": "U3j4yBByVols"
      },
      "source": [
        "#Building the model"
      ]
    },
    {
      "cell_type": "markdown",
      "metadata": {
        "id": "rKxOS1MfVq3J"
      },
      "source": [
        "#Use this space for coding"
      ]
    },
    {
      "cell_type": "code",
      "metadata": {
        "id": "zyX8nViQVtr_"
      },
      "source": [
        "from tensorflow.keras.models import Sequential\n",
        "from tensorflow.keras.layers import Dense,Conv2D,MaxPooling2D,Flatten\n",
        "from tensorflow.keras import layers\n",
        "from tensorflow.keras import Model\n",
        "from tensorflow.keras.applications.inception_v3 import InceptionV3\n",
        "from tensorflow.keras.applications.inception_resnet_v2 import InceptionResNetV2\n",
        "from tensorflow.keras.applications import ResNet50,ResNet101,DenseNet121,DenseNet169,DenseNet201\n",
        "from keras.callbacks import ReduceLROnPlateau,ModelCheckpoint"
      ],
      "execution_count": null,
      "outputs": []
    },
    {
      "cell_type": "code",
      "metadata": {
        "id": "4kxyLKwQ50Ck"
      },
      "source": [
        "X_train=X_train/255.0\n",
        "X_validation=X_validation/255.0\n",
        "X_test=X_test/255.0"
      ],
      "execution_count": null,
      "outputs": []
    },
    {
      "cell_type": "code",
      "metadata": {
        "id": "aPILdc27xKy0"
      },
      "source": [
        "from keras.utils import to_categorical\n",
        "y_train=to_categorical(y_train)\n",
        "y_validation=to_categorical(y_validation)\n",
        "y_test=to_categorical(y_test)"
      ],
      "execution_count": null,
      "outputs": []
    },
    {
      "cell_type": "code",
      "metadata": {
        "id": "bBkFONjuVt6D"
      },
      "source": [
        "reduce_lr = ReduceLROnPlateau(monitor='val_accuracy',patience=3,verbose=1,factor=0.1,cooldown=10,min_lr=0.00001)\n",
        "filepath1=\"weights-improvement-for-accuracy-{epoch:02d}-{val_accuracy:.2f}.hdf5\"\n",
        "mcp_save_acc = ModelCheckpoint(filepath1, monitor='val_accuracy', verbose=1, save_best_only=True, mode='max')"
      ],
      "execution_count": null,
      "outputs": []
    },
    {
      "cell_type": "code",
      "metadata": {
        "id": "EGsjy0wcVuGz"
      },
      "source": [
        "pre_trained_model=DenseNet121(include_top=False,input_shape=(32,32,3),weights='imagenet')\n",
        "for layer in pre_trained_model.layers:\n",
        "  layer.trainable=False\n",
        "last_output=pre_trained_model.layers[-1].output\n",
        "from tensorflow.keras.optimizers import RMSprop\n",
        "model=layers.Flatten()(last_output)\n",
        "model=layers.Dense(512,activation=\"relu\")(model)\n",
        "model=layers.Dense(256,activation=\"relu\")(model)\n",
        "model=layers.Dense(43,activation=\"softmax\")(model)"
      ],
      "execution_count": null,
      "outputs": []
    },
    {
      "cell_type": "code",
      "metadata": {
        "id": "6k64m0ehVuQt"
      },
      "source": [
        "model=Model(pre_trained_model.input,model)\n",
        "for layer in model.layers:\n",
        "  layer.trainable=True\n",
        "model.compile(optimizer=RMSprop(learning_rate=0.001),loss='categorical_crossentropy',metrics=['accuracy'])"
      ],
      "execution_count": null,
      "outputs": []
    },
    {
      "cell_type": "code",
      "metadata": {
        "id": "0dhwVKZjyBIF"
      },
      "source": [
        "history=model.fit(x=X_train,y=y_train,epochs=25,validation_data=(X_validation,y_validation),callbacks=[reduce_lr,mcp_save_acc])"
      ],
      "execution_count": null,
      "outputs": []
    },
    {
      "cell_type": "markdown",
      "metadata": {
        "id": "-wRQqOeB5Zh5"
      },
      "source": [
        "# TASK #8: ASSESS TRAINED CNN MODEL PERFORMANCE "
      ]
    },
    {
      "cell_type": "markdown",
      "metadata": {
        "id": "7ZNyctYAV4SK"
      },
      "source": [
        "#Marks will be given on basis of next code cells results"
      ]
    },
    {
      "cell_type": "code",
      "metadata": {
        "id": "JCy5I4a85jFO"
      },
      "source": [
        "model.load_weights(\"/content/weights-improvement-for-accuracy-08-0.98.hdf5\")"
      ],
      "execution_count": null,
      "outputs": []
    },
    {
      "cell_type": "code",
      "metadata": {
        "id": "_RpB2PAd9SE9"
      },
      "source": [
        "score = model.evaluate(X_test, y_test)\n",
        "print('Test Accuracy: {}'.format(score[1]))"
      ],
      "execution_count": null,
      "outputs": []
    },
    {
      "cell_type": "markdown",
      "metadata": {
        "id": "Aeq_zupHWCrL"
      },
      "source": [
        "#Attach a screen shot of your results as proof below this cell"
      ]
    },
    {
      "cell_type": "markdown",
      "metadata": {
        "id": "Nd7eUr8TOp1N"
      },
      "source": [
        "![Capture.PNG](data:image/png;base64,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)"
      ]
    },
    {
      "cell_type": "markdown",
      "metadata": {
        "id": "VJwpqxvAV9bW"
      },
      "source": [
        "#Other helper functions"
      ]
    },
    {
      "cell_type": "code",
      "metadata": {
        "id": "FM1WY_Q_sMkL"
      },
      "source": [
        "history.history.keys()"
      ],
      "execution_count": null,
      "outputs": []
    },
    {
      "cell_type": "code",
      "metadata": {
        "id": "xBBJ9WlpsMiH"
      },
      "source": [
        "accuracy = history.history['accuracy']\n",
        "val_accuracy = history.history['val_accuracy']\n",
        "loss = history.history['loss']\n",
        "val_loss = history.history['val_loss']"
      ],
      "execution_count": null,
      "outputs": []
    },
    {
      "cell_type": "code",
      "metadata": {
        "id": "c8oHEt0OsMf2"
      },
      "source": [
        "epochs = range(len(accuracy))\n",
        "\n",
        "plt.plot(epochs, accuracy, 'bo', label='Training Accuracy')\n",
        "plt.plot(epochs, val_accuracy, 'b', label='Validation Accuracy')\n",
        "plt.title('Training and Validation Accuracy')\n",
        "plt.legend()"
      ],
      "execution_count": null,
      "outputs": []
    },
    {
      "cell_type": "code",
      "metadata": {
        "id": "liiGj4HdsMa3"
      },
      "source": [
        "plt.plot(epochs, loss, 'ro', label='Training loss')\n",
        "plt.plot(epochs, val_loss, 'r', label='Validation loss')\n",
        "plt.title('Training and Validation loss')\n",
        "plt.legend()"
      ],
      "execution_count": null,
      "outputs": []
    },
    {
      "cell_type": "code",
      "metadata": {
        "id": "RKZxo6khsMYv"
      },
      "source": [
        "predicted_classes = model.predict(X_test)\n",
        "predicted_classes=np.argmax(predicted_classes,axis=1)\n",
        "y_true = np.argmax(y_test,axis=1)"
      ],
      "execution_count": null,
      "outputs": []
    },
    {
      "cell_type": "code",
      "metadata": {
        "id": "3knUnry5sMWd"
      },
      "source": [
        "from sklearn.metrics import confusion_matrix\n",
        "cm = confusion_matrix(y_true, predicted_classes)\n",
        "plt.figure(figsize = (25, 25))\n",
        "sns.heatmap(cm, annot = True)"
      ],
      "execution_count": null,
      "outputs": []
    },
    {
      "cell_type": "code",
      "metadata": {
        "id": "3WLTbXkysVdv"
      },
      "source": [
        "L = 5\n",
        "W = 5\n",
        "\n",
        "fig, axes = plt.subplots(L, W, figsize = (12, 12))\n",
        "axes = axes.ravel()\n",
        "\n",
        "for i in np.arange(0, L*W):\n",
        "    axes[i].imshow(X_test[i])\n",
        "    axes[i].set_title('Prediction = {}\\n True = {}'.format(predicted_classes[i], y_true[i]))\n",
        "    axes[i].axis('off')\n",
        "\n",
        "plt.subplots_adjust(wspace = 1)    "
      ],
      "execution_count": null,
      "outputs": []
    },
    {
      "cell_type": "code",
      "metadata": {
        "id": "q5uid5gWPWeO"
      },
      "source": [
        ""
      ],
      "execution_count": null,
      "outputs": []
    }
  ]
}