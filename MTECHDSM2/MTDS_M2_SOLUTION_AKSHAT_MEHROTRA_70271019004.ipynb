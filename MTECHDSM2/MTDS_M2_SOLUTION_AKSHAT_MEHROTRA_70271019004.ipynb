{
  "nbformat": 4,
  "nbformat_minor": 0,
  "metadata": {
    "colab": {
      "name": "MTDS_M2_SOLUTION - AKSHAT MEHROTRA - 70271019004.ipynb",
      "provenance": [],
      "toc_visible": true
    },
    "kernelspec": {
      "name": "python3",
      "display_name": "Python 3"
    },
    "accelerator": "GPU"
  },
  "cells": [
    {
      "cell_type": "markdown",
      "metadata": {
        "id": "zKmFmyaGunc7"
      },
      "source": [
        "# TASK #2: MOUNT DRIVE AND IMPORT LIBRARIES/DATASETS"
      ]
    },
    {
      "cell_type": "markdown",
      "metadata": {
        "id": "G4OdH814kOII"
      },
      "source": [
        "- In this case study, we want to classify images of traffic signs using deep Convolutional Neural Networks (CNNs).\n",
        "- The dataset consists of 43 different classes of images. \n",
        "- Classes are as listed below: \n",
        "  - 0 = Speed limit (20km/h) \n",
        "  - 1 = Speed limit (30km/h)\n",
        "  - 2 = Speed limit (50km/h) \n",
        "  - 3 = Speed limit (60km/h)\n",
        "  - 4 = Speed limit (70km/h) \n",
        "  - 5 = Speed limit (80km/h)\n",
        "  - 6 = End of speed limit (80km/h)\n",
        "  - 7 = Speed limit (100km/h)\n",
        "  - 8 = Speed limit (120km/h)\n",
        "  - 9 = No passing\n",
        "  - 10 = No passing for vehicles over 3.5 metric tons\n",
        "  - 11 = Right-of-way at the next intersection\n",
        "  - 12 = Priority road\n",
        "  - 13 = Yield\n",
        "  - 14 = Stop\n",
        "  - 15 = No vehicles\n",
        "  - 16 = Vehicles over 3.5 metric tons prohibited\n",
        "  - 17 = No entry\n",
        "  - 18 = General caution\n",
        "  - 19 = Dangerous curve to the left\n",
        "  - 20 = Dangerous curve to the right\n",
        "  - 21 = Double curve\n",
        "  - 22 = Bumpy road\n",
        "  - 23 = Slippery road\n",
        "  - 24 = Road narrows on the right\n",
        "  - 25 = Road work\n",
        "  - 26 = Traffic signals\n",
        "  - 27 = Pedestrians\n",
        "  - 28 = Children crossing \n",
        "  - 29 = Bicycles crossing\n",
        "  - 30 = Beware of ice/snow\n",
        "  - 31 = Wild animals crossing\n",
        "  - 32 = End of all speed and passing limits\n",
        "  - 33 = Turn right ahead\n",
        "  - 34 = Turn left ahead\n",
        "  - 35 = Ahead only\n",
        "  - 36 = Go straight or right\n",
        "  - 37 = Go straight or left\n",
        "  - 38 = Keep right\n",
        "  - 39 = Keep left\n",
        "  - 40 = Roundabout mandatory\n",
        "  - 41 = End of no passing\n",
        "  - 42 = End of no passing by vehicles over 3.5 metric tons\n",
        "\n",
        "- Citation\n",
        "J. Stallkamp, M. Schlipsing, J. Salmen, and C. Igel. The German Traffic Sign Recognition Benchmark: A multi-class classification competition. In Proceedings of the IEEE International Joint Conference on Neural Networks, pages 1453–1460. 2011. \n",
        "@inproceedings{Stallkamp-IJCNN-2011, author = {Johannes Stallkamp and Marc Schlipsing and Jan Salmen and Christian Igel}, booktitle = {IEEE International Joint Conference on Neural Networks}, title = {The {G}erman {T}raffic {S}ign {R}ecognition {B}enchmark: A multi-class classification competition}, year = {2011}, pages = {1453--1460} }"
      ]
    },
    {
      "cell_type": "code",
      "metadata": {
        "id": "AhbU2fAZh0oe"
      },
      "source": [
        "import matplotlib.pyplot as plt\n",
        "import numpy as np\n",
        "import tensorflow as tf\n",
        "import pandas as pd\n",
        "import seaborn as sns\n",
        "import pickle\n",
        "import random"
      ],
      "execution_count": null,
      "outputs": []
    },
    {
      "cell_type": "code",
      "metadata": {
        "id": "GKpz8CSLh5iQ"
      },
      "source": [
        "!wget --load-cookies /tmp/cookies.txt \"https://docs.google.com/uc?export=download&confirm=$(wget --quiet --save-cookies /tmp/cookies.txt --keep-session-cookies --no-check-certificate 'https://docs.google.com/uc?export=download&id=1tQ2HkQdxCUpAo4twbqN6mu7FYD7Ry5tq' -O- | sed -rn 's/.*confirm=([0-9A-Za-z_]+).*/\\1\\n/p')&id=1tQ2HkQdxCUpAo4twbqN6mu7FYD7Ry5tq\" -O train.p && rm -rf /tmp/cookies.txt\n",
        "!wget --no-check-certificate 'https://docs.google.com/uc?export=download&id=1zJxB1YzBYuImaHBSxWGN-ZXPDRYN_CTX' -O valid.p\n",
        "!wget --no-check-certificate 'https://docs.google.com/uc?export=download&id=1jZhZpEZkYFaaPPAwfd1cB8e-FK0aoeC0' -O test.p"
      ],
      "execution_count": null,
      "outputs": []
    },
    {
      "cell_type": "code",
      "metadata": {
        "id": "gUh_5xdjh0or"
      },
      "source": [
        "with open(\"/content/train.p\", mode='rb') as training_data:\n",
        "    train = pickle.load(training_data)\n",
        "with open(\"/content/valid.p\", mode='rb') as validation_data:\n",
        "    valid = pickle.load(validation_data)\n",
        "with open(\"/content/test.p\", mode='rb') as testing_data:\n",
        "    test = pickle.load(testing_data)"
      ],
      "execution_count": null,
      "outputs": []
    },
    {
      "cell_type": "code",
      "metadata": {
        "id": "-uEFeTF3rPl0"
      },
      "source": [
        "X_train, y_train = train['features'], train['labels']\n",
        "X_validation, y_validation = valid['features'], valid['labels']\n",
        "X_test, y_test = test['features'], test['labels']"
      ],
      "execution_count": null,
      "outputs": []
    },
    {
      "cell_type": "markdown",
      "metadata": {
        "id": "goUOJT9nvu9Z"
      },
      "source": [
        "TRAINING DATASET SHAPE"
      ]
    },
    {
      "cell_type": "code",
      "metadata": {
        "id": "LTLHnPTGrRkc"
      },
      "source": [
        "X_train.shape, y_train.shape"
      ],
      "execution_count": null,
      "outputs": []
    },
    {
      "cell_type": "markdown",
      "metadata": {
        "id": "b2fryERmv1BI"
      },
      "source": [
        "VALIDATION DATSET SHAPE"
      ]
    },
    {
      "cell_type": "code",
      "metadata": {
        "id": "1jLck0QwrSNz"
      },
      "source": [
        "X_validation.shape, y_validation.shape"
      ],
      "execution_count": null,
      "outputs": []
    },
    {
      "cell_type": "markdown",
      "metadata": {
        "id": "Rv7rxsz5v66S"
      },
      "source": [
        "TESTING DATASET SHAPE"
      ]
    },
    {
      "cell_type": "code",
      "metadata": {
        "id": "kat4JHlkU72s"
      },
      "source": [
        "X_test.shape, y_test.shape"
      ],
      "execution_count": null,
      "outputs": []
    },
    {
      "cell_type": "markdown",
      "metadata": {
        "id": "mt5xWlEuwBmm"
      },
      "source": [
        "PRINTING THE LABELS"
      ]
    },
    {
      "cell_type": "code",
      "metadata": {
        "id": "hNn3RQWuU9f9"
      },
      "source": [
        "y_train\n",
        "\n",
        "#### WE FIND THAT THE LABELS ARE ALREADY IN NUMERICAL FORMAT"
      ],
      "execution_count": null,
      "outputs": []
    },
    {
      "cell_type": "markdown",
      "metadata": {
        "id": "LlszUhNNyrl_"
      },
      "source": [
        "# TASK #3: PERFROM IMAGES VISUALIZATION"
      ]
    },
    {
      "cell_type": "code",
      "metadata": {
        "id": "ronVvCdJsYc5"
      },
      "source": [
        "i = np.random.randint(1, len(X_train))\n",
        "plt.imshow(X_train[i])\n",
        "y_train[i]"
      ],
      "execution_count": null,
      "outputs": []
    },
    {
      "cell_type": "code",
      "metadata": {
        "id": "ZUUvpXsmlwbb"
      },
      "source": [
        "# Let's view more images in a grid format\n",
        "# Define the dimensions of the plot grid \n",
        "W_grid = 5\n",
        "L_grid = 5\n",
        "\n",
        "# fig, axes = plt.subplots(L_grid, W_grid)\n",
        "# subplot return the figure object and axes object\n",
        "# we can use the axes object to plot specific figures at various locations\n",
        "\n",
        "fig, axes = plt.subplots(L_grid, W_grid, figsize = (10,10))\n",
        "\n",
        "axes = axes.ravel() # flaten the 15 x 15 matrix into 225 array\n",
        "\n",
        "n_training = len(X_train) # get the length of the training dataset\n",
        "\n",
        "# Select a random number from 0 to n_training\n",
        "for i in np.arange(0, W_grid * L_grid): # create evenly spaces variables \n",
        "\n",
        "    # Select a random number\n",
        "    index = np.random.randint(0, n_training)\n",
        "    # read and display an image with the selected index    \n",
        "    axes[i].imshow( X_train[index])\n",
        "    axes[i].set_title(y_train[index], fontsize = 15)\n",
        "    axes[i].axis('off')\n",
        "\n",
        "plt.subplots_adjust(hspace=0.4)\n",
        "\n",
        "        "
      ],
      "execution_count": null,
      "outputs": []
    },
    {
      "cell_type": "markdown",
      "metadata": {
        "id": "Y0GmpAjG3GiH"
      },
      "source": [
        "# TASK #4: CONVERT IMAGES TO GRAYSCALE AND PERFORM NORMALIZATION"
      ]
    },
    {
      "cell_type": "code",
      "metadata": {
        "id": "YI1QcjORsq2G"
      },
      "source": [
        "from sklearn.utils import shuffle\n",
        "X_train, y_train = shuffle(X_train, y_train)"
      ],
      "execution_count": null,
      "outputs": []
    },
    {
      "cell_type": "markdown",
      "metadata": {
        "id": "O39M8bHRjJYz"
      },
      "source": [
        "#Since its an RGB image, so it means that you have add r with g with b and then divide it by 3 to get your desired grayscale image. Its done in this way. If you have an color image like the image shown above and you want to convert it into grayscale using average method."
      ]
    },
    {
      "cell_type": "code",
      "metadata": {
        "id": "u2-GkZo0riel"
      },
      "source": [
        "X_train_gray = np.sum(X_train/3, axis = 3, keepdims = True)\n",
        "X_test_gray = np.sum(X_test/3, axis = 3, keepdims = True)\n",
        "X_validation_gray = np.sum(X_validation/3, axis = 3, keepdims = True)"
      ],
      "execution_count": null,
      "outputs": []
    },
    {
      "cell_type": "code",
      "metadata": {
        "id": "a2thgGKwricb"
      },
      "source": [
        "X_train_gray.shape\n"
      ],
      "execution_count": null,
      "outputs": []
    },
    {
      "cell_type": "code",
      "metadata": {
        "id": "4yZu7n28riaV"
      },
      "source": [
        "X_test_gray.shape\n"
      ],
      "execution_count": null,
      "outputs": []
    },
    {
      "cell_type": "code",
      "metadata": {
        "id": "Nar_imirriYX"
      },
      "source": [
        "X_validation_gray.shape"
      ],
      "execution_count": null,
      "outputs": []
    },
    {
      "cell_type": "code",
      "metadata": {
        "id": "-xRVL8FpriWI"
      },
      "source": [
        "X_train_gray_norm = (X_train_gray - 128)/128\n",
        "X_test_gray_norm = (X_test_gray - 128)/128\n",
        "X_validation_gray_norm = (X_validation_gray - 128)/128"
      ],
      "execution_count": null,
      "outputs": []
    },
    {
      "cell_type": "code",
      "metadata": {
        "id": "__hg6A5yrq2c"
      },
      "source": [
        "i = random.randint(1, len(X_train_gray))\n",
        "plt.imshow(X_train_gray[i].squeeze(), cmap = 'gray')\n",
        "plt.figure()\n",
        "plt.imshow(X_train[i])\n",
        "plt.figure()\n",
        "plt.imshow(X_train_gray_norm[i].squeeze(), cmap = 'gray')"
      ],
      "execution_count": null,
      "outputs": []
    },
    {
      "cell_type": "markdown",
      "metadata": {
        "id": "U3j4yBByVols"
      },
      "source": [
        "#Building the model"
      ]
    },
    {
      "cell_type": "markdown",
      "metadata": {
        "id": "rKxOS1MfVq3J"
      },
      "source": [
        "#Use this space for coding"
      ]
    },
    {
      "cell_type": "markdown",
      "metadata": {
        "id": "_0I9JXytxjUE"
      },
      "source": [
        "NEW TRAINING DATASET SHAPE"
      ]
    },
    {
      "cell_type": "code",
      "metadata": {
        "id": "bBkFONjuVt6D"
      },
      "source": [
        "X_train_gray_norm.shape, y_train.shape"
      ],
      "execution_count": null,
      "outputs": []
    },
    {
      "cell_type": "markdown",
      "metadata": {
        "id": "03hfDjNsxuZI"
      },
      "source": [
        "NEW TESTING DATASET SHAPE"
      ]
    },
    {
      "cell_type": "code",
      "metadata": {
        "id": "EGsjy0wcVuGz"
      },
      "source": [
        "X_test_gray_norm.shape, y_test.shape"
      ],
      "execution_count": null,
      "outputs": []
    },
    {
      "cell_type": "markdown",
      "metadata": {
        "id": "E0PNIOAsx_OG"
      },
      "source": [
        "NEW VALIDATION DATASET SHAPE"
      ]
    },
    {
      "cell_type": "code",
      "metadata": {
        "id": "6k64m0ehVuQt"
      },
      "source": [
        "X_validation_gray_norm.shape, y_validation.shape"
      ],
      "execution_count": null,
      "outputs": []
    },
    {
      "cell_type": "markdown",
      "metadata": {
        "id": "K-EZksqDyHhg"
      },
      "source": [
        "IMPORTING LIBRARIES TO BUILD A VGG-16 like NETWORK (First 7 blocks of VGG-16)"
      ]
    },
    {
      "cell_type": "code",
      "metadata": {
        "id": "CweZwhhRyLs-"
      },
      "source": [
        "from tensorflow.keras.layers import Conv2D, MaxPooling2D, BatchNormalization, Input, Flatten, Dense\n",
        "from tensorflow.keras.models import Sequential"
      ],
      "execution_count": 21,
      "outputs": []
    },
    {
      "cell_type": "code",
      "metadata": {
        "id": "e9mf8DrEyM6S"
      },
      "source": [
        "CNN = Sequential()\n",
        "CNN.add(Input((32, 32, 1)))\n",
        "\n",
        "CNN.add(Conv2D(16, (3,3), strides=1, padding='same', kernel_initializer='he_normal', activation='relu'))\n",
        "CNN.add(BatchNormalization(axis=3))\n",
        "CNN.add(Conv2D(16, (3,3), strides=1, padding='same', kernel_initializer='he_normal', activation='relu'))\n",
        "CNN.add(BatchNormalization(axis=3))\n",
        "CNN.add(MaxPooling2D((2,2), strides=2))\n",
        "\n",
        "CNN.add(Conv2D(32, (3,3), strides=1, padding='same', kernel_initializer='he_normal', activation='relu'))\n",
        "CNN.add(BatchNormalization(axis=3))\n",
        "CNN.add(Conv2D(32, (3,3), strides=1, padding='same', kernel_initializer='he_normal', activation='relu'))\n",
        "CNN.add(BatchNormalization(axis=3))\n",
        "CNN.add(MaxPooling2D((2,2), strides=2))\n",
        "\n",
        "CNN.add(Conv2D(64, (3,3), strides=1, padding='same', kernel_initializer='he_normal', activation='relu'))\n",
        "CNN.add(BatchNormalization(axis=3))\n",
        "CNN.add(Conv2D(64, (3,3), strides=1, padding='same', kernel_initializer='he_normal', activation='relu'))\n",
        "CNN.add(BatchNormalization(axis=3))\n",
        "CNN.add(MaxPooling2D((2,2), strides=2))\n",
        "\n",
        "CNN.add(Flatten())\n",
        "CNN.add(Dense(512, activation='relu', kernel_initializer='he_normal'))\n",
        "CNN.add(Dense(128, activation='relu', kernel_initializer='he_normal'))\n",
        "CNN.add(Dense(43, activation='softmax'))"
      ],
      "execution_count": 22,
      "outputs": []
    },
    {
      "cell_type": "code",
      "metadata": {
        "id": "_Cpq7bHFyNQM",
        "outputId": "65e97464-45b6-41f7-fad3-52c547371cb5",
        "colab": {
          "base_uri": "https://localhost:8080/",
          "height": 802
        }
      },
      "source": [
        "CNN.summary()"
      ],
      "execution_count": 23,
      "outputs": [
        {
          "output_type": "stream",
          "text": [
            "Model: \"sequential\"\n",
            "_________________________________________________________________\n",
            "Layer (type)                 Output Shape              Param #   \n",
            "=================================================================\n",
            "conv2d (Conv2D)              (None, 32, 32, 16)        160       \n",
            "_________________________________________________________________\n",
            "batch_normalization (BatchNo (None, 32, 32, 16)        64        \n",
            "_________________________________________________________________\n",
            "conv2d_1 (Conv2D)            (None, 32, 32, 16)        2320      \n",
            "_________________________________________________________________\n",
            "batch_normalization_1 (Batch (None, 32, 32, 16)        64        \n",
            "_________________________________________________________________\n",
            "max_pooling2d (MaxPooling2D) (None, 16, 16, 16)        0         \n",
            "_________________________________________________________________\n",
            "conv2d_2 (Conv2D)            (None, 16, 16, 32)        4640      \n",
            "_________________________________________________________________\n",
            "batch_normalization_2 (Batch (None, 16, 16, 32)        128       \n",
            "_________________________________________________________________\n",
            "conv2d_3 (Conv2D)            (None, 16, 16, 32)        9248      \n",
            "_________________________________________________________________\n",
            "batch_normalization_3 (Batch (None, 16, 16, 32)        128       \n",
            "_________________________________________________________________\n",
            "max_pooling2d_1 (MaxPooling2 (None, 8, 8, 32)          0         \n",
            "_________________________________________________________________\n",
            "conv2d_4 (Conv2D)            (None, 8, 8, 64)          18496     \n",
            "_________________________________________________________________\n",
            "batch_normalization_4 (Batch (None, 8, 8, 64)          256       \n",
            "_________________________________________________________________\n",
            "conv2d_5 (Conv2D)            (None, 8, 8, 64)          36928     \n",
            "_________________________________________________________________\n",
            "batch_normalization_5 (Batch (None, 8, 8, 64)          256       \n",
            "_________________________________________________________________\n",
            "max_pooling2d_2 (MaxPooling2 (None, 4, 4, 64)          0         \n",
            "_________________________________________________________________\n",
            "flatten (Flatten)            (None, 1024)              0         \n",
            "_________________________________________________________________\n",
            "dense (Dense)                (None, 512)               524800    \n",
            "_________________________________________________________________\n",
            "dense_1 (Dense)              (None, 128)               65664     \n",
            "_________________________________________________________________\n",
            "dense_2 (Dense)              (None, 43)                5547      \n",
            "=================================================================\n",
            "Total params: 668,699\n",
            "Trainable params: 668,251\n",
            "Non-trainable params: 448\n",
            "_________________________________________________________________\n"
          ],
          "name": "stdout"
        }
      ]
    },
    {
      "cell_type": "code",
      "metadata": {
        "id": "oR7d9YfhyMcq"
      },
      "source": [
        "CNN.compile(loss='sparse_categorical_crossentropy', optimizer='adam', metrics=['accuracy'])"
      ],
      "execution_count": 24,
      "outputs": []
    },
    {
      "cell_type": "code",
      "metadata": {
        "id": "KVr82RXT0PMU",
        "outputId": "570ae843-0661-4094-fd38-df96da0ce97d",
        "colab": {
          "base_uri": "https://localhost:8080/",
          "height": 1000
        }
      },
      "source": [
        "history = CNN.fit(X_train_gray_norm, y_train, validation_data=(X_validation_gray_norm, y_validation), epochs=30, batch_size=64)"
      ],
      "execution_count": 25,
      "outputs": [
        {
          "output_type": "stream",
          "text": [
            "Epoch 1/30\n",
            "544/544 [==============================] - 7s 13ms/step - loss: 0.7706 - accuracy: 0.7801 - val_loss: 0.6250 - val_accuracy: 0.8327\n",
            "Epoch 2/30\n",
            "544/544 [==============================] - 6s 11ms/step - loss: 0.0776 - accuracy: 0.9757 - val_loss: 0.5179 - val_accuracy: 0.8676\n",
            "Epoch 3/30\n",
            "544/544 [==============================] - 6s 11ms/step - loss: 0.0321 - accuracy: 0.9895 - val_loss: 0.4934 - val_accuracy: 0.8753\n",
            "Epoch 4/30\n",
            "544/544 [==============================] - 6s 11ms/step - loss: 0.0341 - accuracy: 0.9895 - val_loss: 0.5445 - val_accuracy: 0.8912\n",
            "Epoch 5/30\n",
            "544/544 [==============================] - 6s 11ms/step - loss: 0.0293 - accuracy: 0.9908 - val_loss: 0.2944 - val_accuracy: 0.9297\n",
            "Epoch 6/30\n",
            "544/544 [==============================] - 6s 11ms/step - loss: 0.0252 - accuracy: 0.9924 - val_loss: 0.3855 - val_accuracy: 0.9170\n",
            "Epoch 7/30\n",
            "544/544 [==============================] - 6s 11ms/step - loss: 0.0253 - accuracy: 0.9920 - val_loss: 0.2694 - val_accuracy: 0.9456\n",
            "Epoch 8/30\n",
            "544/544 [==============================] - 6s 11ms/step - loss: 0.0146 - accuracy: 0.9955 - val_loss: 0.3398 - val_accuracy: 0.9245\n",
            "Epoch 9/30\n",
            "544/544 [==============================] - 6s 11ms/step - loss: 0.0202 - accuracy: 0.9939 - val_loss: 0.4077 - val_accuracy: 0.9290\n",
            "Epoch 10/30\n",
            "544/544 [==============================] - 6s 11ms/step - loss: 0.0220 - accuracy: 0.9937 - val_loss: 0.3306 - val_accuracy: 0.9388\n",
            "Epoch 11/30\n",
            "544/544 [==============================] - 6s 11ms/step - loss: 0.0140 - accuracy: 0.9959 - val_loss: 0.2881 - val_accuracy: 0.9465\n",
            "Epoch 12/30\n",
            "544/544 [==============================] - 6s 11ms/step - loss: 0.0223 - accuracy: 0.9941 - val_loss: 0.3410 - val_accuracy: 0.9376\n",
            "Epoch 13/30\n",
            "544/544 [==============================] - 6s 11ms/step - loss: 0.0098 - accuracy: 0.9973 - val_loss: 0.3183 - val_accuracy: 0.9467\n",
            "Epoch 14/30\n",
            "544/544 [==============================] - 6s 11ms/step - loss: 0.0127 - accuracy: 0.9963 - val_loss: 0.3092 - val_accuracy: 0.9426\n",
            "Epoch 15/30\n",
            "544/544 [==============================] - 6s 11ms/step - loss: 0.0070 - accuracy: 0.9978 - val_loss: 0.2666 - val_accuracy: 0.9610\n",
            "Epoch 16/30\n",
            "544/544 [==============================] - 6s 11ms/step - loss: 0.0137 - accuracy: 0.9963 - val_loss: 0.3759 - val_accuracy: 0.9376\n",
            "Epoch 17/30\n",
            "544/544 [==============================] - 6s 11ms/step - loss: 0.0123 - accuracy: 0.9966 - val_loss: 0.2816 - val_accuracy: 0.9601\n",
            "Epoch 18/30\n",
            "544/544 [==============================] - 6s 11ms/step - loss: 0.0075 - accuracy: 0.9977 - val_loss: 0.3279 - val_accuracy: 0.9483\n",
            "Epoch 19/30\n",
            "544/544 [==============================] - 6s 11ms/step - loss: 0.0126 - accuracy: 0.9966 - val_loss: 0.4046 - val_accuracy: 0.9435\n",
            "Epoch 20/30\n",
            "544/544 [==============================] - 6s 11ms/step - loss: 0.0164 - accuracy: 0.9956 - val_loss: 0.4937 - val_accuracy: 0.9431\n",
            "Epoch 21/30\n",
            "544/544 [==============================] - 6s 11ms/step - loss: 0.0117 - accuracy: 0.9970 - val_loss: 0.1400 - val_accuracy: 0.9717\n",
            "Epoch 22/30\n",
            "544/544 [==============================] - 6s 11ms/step - loss: 0.0055 - accuracy: 0.9984 - val_loss: 0.1966 - val_accuracy: 0.9662\n",
            "Epoch 23/30\n",
            "544/544 [==============================] - 6s 11ms/step - loss: 0.0091 - accuracy: 0.9979 - val_loss: 0.3184 - val_accuracy: 0.9490\n",
            "Epoch 24/30\n",
            "544/544 [==============================] - 6s 11ms/step - loss: 0.0101 - accuracy: 0.9977 - val_loss: 0.2680 - val_accuracy: 0.9551\n",
            "Epoch 25/30\n",
            "544/544 [==============================] - 6s 11ms/step - loss: 0.0089 - accuracy: 0.9977 - val_loss: 0.2830 - val_accuracy: 0.9533\n",
            "Epoch 26/30\n",
            "544/544 [==============================] - 6s 11ms/step - loss: 0.0091 - accuracy: 0.9978 - val_loss: 0.2333 - val_accuracy: 0.9605\n",
            "Epoch 27/30\n",
            "544/544 [==============================] - 6s 11ms/step - loss: 0.0094 - accuracy: 0.9981 - val_loss: 0.3817 - val_accuracy: 0.9531\n",
            "Epoch 28/30\n",
            "544/544 [==============================] - 6s 11ms/step - loss: 0.0082 - accuracy: 0.9979 - val_loss: 0.2559 - val_accuracy: 0.9590\n",
            "Epoch 29/30\n",
            "544/544 [==============================] - 6s 11ms/step - loss: 0.0064 - accuracy: 0.9985 - val_loss: 0.3069 - val_accuracy: 0.9583\n",
            "Epoch 30/30\n",
            "544/544 [==============================] - 7s 12ms/step - loss: 0.0092 - accuracy: 0.9977 - val_loss: 0.3369 - val_accuracy: 0.9569\n"
          ],
          "name": "stdout"
        }
      ]
    },
    {
      "cell_type": "code",
      "metadata": {
        "id": "GcQKt9sa0Q0v"
      },
      "source": [
        "import matplotlib.pyplot as plt"
      ],
      "execution_count": 26,
      "outputs": []
    },
    {
      "cell_type": "code",
      "metadata": {
        "id": "7ADVU_vV0Rwu",
        "outputId": "343662d7-6be0-4400-b2ec-edac7be137ec",
        "colab": {
          "base_uri": "https://localhost:8080/",
          "height": 266
        }
      },
      "source": [
        "plt.plot(history.history['loss'])\n",
        "plt.plot(history.history['val_loss'])\n",
        "plt.legend(['Training Loss', 'Validation Loss'], loc='best')\n",
        "plt.show()"
      ],
      "execution_count": 27,
      "outputs": [
        {
          "output_type": "display_data",
          "data": {
            "image/png": "[encoded data removed]",
            "text/plain": [
              "<Figure size 432x288 with 1 Axes>"
            ]
          },
          "metadata": {
            "tags": [],
            "needs_background": "light"
          }
        }
      ]
    },
    {
      "cell_type": "code",
      "metadata": {
        "id": "19t-bTR00R5i",
        "outputId": "1685cb95-6d9b-4e1a-d7ab-edc5fbc811e8",
        "colab": {
          "base_uri": "https://localhost:8080/",
          "height": 264
        }
      },
      "source": [
        "plt.plot(history.history['accuracy'])\n",
        "plt.plot(history.history['val_accuracy'])\n",
        "plt.legend(['Training Accuracy', 'Validation Accuracy'], loc='best')\n",
        "plt.show()"
      ],
      "execution_count": 28,
      "outputs": [
        {
          "output_type": "display_data",
          "data": {
            "image/png": "[encoded data removed]",
            "text/plain": [
              "<Figure size 432x288 with 1 Axes>"
            ]
          },
          "metadata": {
            "tags": [],
            "needs_background": "light"
          }
        }
      ]
    },
    {
      "cell_type": "code",
      "metadata": {
        "id": "kUXqBece0Q-w",
        "outputId": "f599b5ef-cb3b-4924-dbf6-09948e86a5b6",
        "colab": {
          "base_uri": "https://localhost:8080/",
          "height": 105
        }
      },
      "source": [
        "predictions = CNN.predict_classes(X_test_gray_norm)\n",
        "predictions"
      ],
      "execution_count": 29,
      "outputs": [
        {
          "output_type": "stream",
          "text": [
            "WARNING:tensorflow:From <ipython-input-29-31aca03e237d>:1: Sequential.predict_classes (from tensorflow.python.keras.engine.sequential) is deprecated and will be removed after 2021-01-01.\n",
            "Instructions for updating:\n",
            "Please use instead:* `np.argmax(model.predict(x), axis=-1)`,   if your model does multi-class classification   (e.g. if it uses a `softmax` last-layer activation).* `(model.predict(x) > 0.5).astype(\"int32\")`,   if your model does binary classification   (e.g. if it uses a `sigmoid` last-layer activation).\n"
          ],
          "name": "stdout"
        },
        {
          "output_type": "execute_result",
          "data": {
            "text/plain": [
              "array([16,  1, 38, ..., 32,  7, 10])"
            ]
          },
          "metadata": {
            "tags": []
          },
          "execution_count": 29
        }
      ]
    },
    {
      "cell_type": "code",
      "metadata": {
        "id": "j01In_La0Qsb",
        "outputId": "24b8c121-bb9b-4e3f-b01e-7b310f5888e7",
        "colab": {
          "base_uri": "https://localhost:8080/",
          "height": 1000
        }
      },
      "source": [
        "from sklearn.metrics import confusion_matrix\n",
        "import seaborn as sns\n",
        "\n",
        "plt.figure(figsize=(25, 25))\n",
        "cm = confusion_matrix(y_test, predictions)\n",
        "hm = sns.heatmap(cm, annot=True, square=True, linewidths=1, cmap='Blues')\n",
        "plt.show(hm)"
      ],
      "execution_count": 30,
      "outputs": [
        {
          "output_type": "display_data",
          "data": {
            "image/png": "[encoded data removed]",
            "text/plain": [
              "<Figure size 1800x1800 with 2 Axes>"
            ]
          },
          "metadata": {
            "tags": [],
            "needs_background": "light"
          }
        }
      ]
    },
    {
      "cell_type": "markdown",
      "metadata": {
        "id": "v_RZMldC6jFN"
      },
      "source": [
        "EVALUATING THE MODEL'S PERFORMANCE ON THE TESTING DATASET"
      ]
    },
    {
      "cell_type": "code",
      "metadata": {
        "id": "h5TY8GbF6iAl",
        "outputId": "9e2781c9-9e75-430c-fede-ffdcbb4fedc3",
        "colab": {
          "base_uri": "https://localhost:8080/",
          "height": 51
        }
      },
      "source": [
        "print('Testing Accuracy is : {}'.format(CNN.evaluate(X_test_gray_norm, y_test)[1]))"
      ],
      "execution_count": 31,
      "outputs": [
        {
          "output_type": "stream",
          "text": [
            "395/395 [==============================] - 2s 4ms/step - loss: 0.4455 - accuracy: 0.9442\n",
            "Testing Accuracy is : 0.9441805481910706\n"
          ],
          "name": "stdout"
        }
      ]
    },
    {
      "cell_type": "markdown",
      "metadata": {
        "id": "-wRQqOeB5Zh5"
      },
      "source": [
        "# TASK #8: ASSESS TRAINED CNN MODEL PERFORMANCE "
      ]
    },
    {
      "cell_type": "markdown",
      "metadata": {
        "id": "7ZNyctYAV4SK"
      },
      "source": [
        "#Marks will be given on basis of next code cells results"
      ]
    },
    {
      "cell_type": "code",
      "metadata": {
        "id": "_RpB2PAd9SE9"
      },
      "source": [
        "score = CNN.evaluate(X_test_gray_norm, y_test)\n",
        "print('Test Accuracy: {}'.format(score[1]))"
      ],
      "execution_count": null,
      "outputs": []
    },
    {
      "cell_type": "markdown",
      "metadata": {
        "id": "Aeq_zupHWCrL"
      },
      "source": [
        "#Attach a screen shot of your results as proof below this cell"
      ]
    },
    {
      "cell_type": "markdown",
      "metadata": {
        "id": "NYla7O7K-PL6"
      },
      "source": [
        "![Test M2.PNG](data:image/png;base64,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)"
      ]
    },
    {
      "cell_type": "markdown",
      "metadata": {
        "id": "VJwpqxvAV9bW"
      },
      "source": [
        "#Other helper functions"
      ]
    },
    {
      "cell_type": "code",
      "metadata": {
        "id": "FM1WY_Q_sMkL"
      },
      "source": [
        "history.history.keys()"
      ],
      "execution_count": null,
      "outputs": []
    },
    {
      "cell_type": "code",
      "metadata": {
        "id": "xBBJ9WlpsMiH"
      },
      "source": [
        "accuracy = history.history['accuracy']\n",
        "val_accuracy = history.history['val_accuracy']\n",
        "loss = history.history['loss']\n",
        "val_loss = history.history['val_loss']"
      ],
      "execution_count": null,
      "outputs": []
    },
    {
      "cell_type": "code",
      "metadata": {
        "id": "c8oHEt0OsMf2"
      },
      "source": [
        "epochs = range(len(accuracy))\n",
        "\n",
        "plt.plot(epochs, accuracy, 'bo', label='Training Accuracy')\n",
        "plt.plot(epochs, val_accuracy, 'b', label='Validation Accuracy')\n",
        "plt.title('Training and Validation Accuracy')\n",
        "plt.legend()"
      ],
      "execution_count": null,
      "outputs": []
    },
    {
      "cell_type": "code",
      "metadata": {
        "id": "liiGj4HdsMa3"
      },
      "source": [
        "plt.plot(epochs, loss, 'ro', label='Training loss')\n",
        "plt.plot(epochs, val_loss, 'r', label='Validation loss')\n",
        "plt.title('Training and Validation loss')\n",
        "plt.legend()"
      ],
      "execution_count": null,
      "outputs": []
    },
    {
      "cell_type": "code",
      "metadata": {
        "id": "RKZxo6khsMYv"
      },
      "source": [
        "predicted_classes = CNN.predict_classes(X_test_gray_norm)\n",
        "y_true = y_test"
      ],
      "execution_count": null,
      "outputs": []
    },
    {
      "cell_type": "code",
      "metadata": {
        "id": "3knUnry5sMWd"
      },
      "source": [
        "from sklearn.metrics import confusion_matrix\n",
        "cm = confusion_matrix(y_true, predicted_classes)\n",
        "plt.figure(figsize = (25, 25))\n",
        "sns.heatmap(cm, annot = True)"
      ],
      "execution_count": null,
      "outputs": []
    },
    {
      "cell_type": "code",
      "metadata": {
        "id": "3WLTbXkysVdv"
      },
      "source": [
        "L = 5\n",
        "W = 5\n",
        "\n",
        "fig, axes = plt.subplots(L, W, figsize = (12, 12))\n",
        "axes = axes.ravel()\n",
        "\n",
        "for i in np.arange(0, L*W):\n",
        "    axes[i].imshow(X_test[i])\n",
        "    axes[i].set_title('Prediction = {}\\n True = {}'.format(predicted_classes[i], y_true[i]))\n",
        "    axes[i].axis('off')\n",
        "\n",
        "plt.subplots_adjust(wspace = 1)    "
      ],
      "execution_count": null,
      "outputs": []
    },
    {
      "cell_type": "code",
      "metadata": {
        "id": "E7LvIIiU7pLb"
      },
      "source": [
        ""
      ],
      "execution_count": 39,
      "outputs": []
    }
  ]
}