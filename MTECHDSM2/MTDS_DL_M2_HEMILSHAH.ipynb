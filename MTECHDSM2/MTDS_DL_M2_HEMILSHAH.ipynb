{
  "nbformat": 4,
  "nbformat_minor": 0,
  "metadata": {
    "colab": {
      "name": "MTDS-DL-M2-HEMILSHAH.ipynb",
      "provenance": [],
      "private_outputs": true,
      "collapsed_sections": []
    },
    "kernelspec": {
      "name": "python3",
      "display_name": "Python 3"
    },
    "accelerator": "GPU"
  },
  "cells": [
    {
      "cell_type": "markdown",
      "metadata": {
        "id": "Mm3KYRTx-0l9"
      },
      "source": [
        "#Submitted by: HEMIL SHAH\n",
        "\n",
        "ROLL NO: D011"
      ]
    },
    {
      "cell_type": "markdown",
      "metadata": {
        "id": "AuyzRpuA_S-6"
      },
      "source": [
        "#Models Used\n",
        "\n",
        "\n",
        "\n",
        "*   Base Model without Data Augmentation\n",
        "*   Data Augmentation\n",
        "\n"
      ]
    },
    {
      "cell_type": "markdown",
      "metadata": {
        "id": "zKmFmyaGunc7"
      },
      "source": [
        "# TASK #2: MOUNT DRIVE AND IMPORT LIBRARIES/DATASETS"
      ]
    },
    {
      "cell_type": "markdown",
      "metadata": {
        "id": "G4OdH814kOII"
      },
      "source": [
        "- In this case study, we want to classify images of traffic signs using deep Convolutional Neural Networks (CNNs).\n",
        "- The dataset consists of 43 different classes of images. \n",
        "- Classes are as listed below: \n",
        "  - 0 = Speed limit (20km/h) \n",
        "  - 1 = Speed limit (30km/h)\n",
        "  - 2 = Speed limit (50km/h) \n",
        "  - 3 = Speed limit (60km/h)\n",
        "  - 4 = Speed limit (70km/h) \n",
        "  - 5 = Speed limit (80km/h)\n",
        "  - 6 = End of speed limit (80km/h)\n",
        "  - 7 = Speed limit (100km/h)\n",
        "  - 8 = Speed limit (120km/h)\n",
        "  - 9 = No passing\n",
        "  - 10 = No passing for vehicles over 3.5 metric tons\n",
        "  - 11 = Right-of-way at the next intersection\n",
        "  - 12 = Priority road\n",
        "  - 13 = Yield\n",
        "  - 14 = Stop\n",
        "  - 15 = No vehicles\n",
        "  - 16 = Vehicles over 3.5 metric tons prohibited\n",
        "  - 17 = No entry\n",
        "  - 18 = General caution\n",
        "  - 19 = Dangerous curve to the left\n",
        "  - 20 = Dangerous curve to the right\n",
        "  - 21 = Double curve\n",
        "  - 22 = Bumpy road\n",
        "  - 23 = Slippery road\n",
        "  - 24 = Road narrows on the right\n",
        "  - 25 = Road work\n",
        "  - 26 = Traffic signals\n",
        "  - 27 = Pedestrians\n",
        "  - 28 = Children crossing \n",
        "  - 29 = Bicycles crossing\n",
        "  - 30 = Beware of ice/snow\n",
        "  - 31 = Wild animals crossing\n",
        "  - 32 = End of all speed and passing limits\n",
        "  - 33 = Turn right ahead\n",
        "  - 34 = Turn left ahead\n",
        "  - 35 = Ahead only\n",
        "  - 36 = Go straight or right\n",
        "  - 37 = Go straight or left\n",
        "  - 38 = Keep right\n",
        "  - 39 = Keep left\n",
        "  - 40 = Roundabout mandatory\n",
        "  - 41 = End of no passing\n",
        "  - 42 = End of no passing by vehicles over 3.5 metric tons\n",
        "\n",
        "- Citation\n",
        "J. Stallkamp, M. Schlipsing, J. Salmen, and C. Igel. The German Traffic Sign Recognition Benchmark: A multi-class classification competition. In Proceedings of the IEEE International Joint Conference on Neural Networks, pages 1453–1460. 2011. \n",
        "@inproceedings{Stallkamp-IJCNN-2011, author = {Johannes Stallkamp and Marc Schlipsing and Jan Salmen and Christian Igel}, booktitle = {IEEE International Joint Conference on Neural Networks}, title = {The {G}erman {T}raffic {S}ign {R}ecognition {B}enchmark: A multi-class classification competition}, year = {2011}, pages = {1453--1460} }"
      ]
    },
    {
      "cell_type": "code",
      "metadata": {
        "id": "AhbU2fAZh0oe"
      },
      "source": [
        "import matplotlib.pyplot as plt\n",
        "import numpy as np\n",
        "import tensorflow as tf\n",
        "import pandas as pd\n",
        "import seaborn as sns\n",
        "import pickle\n",
        "import random"
      ],
      "execution_count": null,
      "outputs": []
    },
    {
      "cell_type": "code",
      "metadata": {
        "id": "GKpz8CSLh5iQ"
      },
      "source": [
        "!wget --load-cookies /tmp/cookies.txt \"https://docs.google.com/uc?export=download&confirm=$(wget --quiet --save-cookies /tmp/cookies.txt --keep-session-cookies --no-check-certificate 'https://docs.google.com/uc?export=download&id=1tQ2HkQdxCUpAo4twbqN6mu7FYD7Ry5tq' -O- | sed -rn 's/.*confirm=([0-9A-Za-z_]+).*/\\1\\n/p')&id=1tQ2HkQdxCUpAo4twbqN6mu7FYD7Ry5tq\" -O train.p && rm -rf /tmp/cookies.txt\n",
        "!wget --no-check-certificate 'https://docs.google.com/uc?export=download&id=1zJxB1YzBYuImaHBSxWGN-ZXPDRYN_CTX' -O valid.p\n",
        "!wget --no-check-certificate 'https://docs.google.com/uc?export=download&id=1jZhZpEZkYFaaPPAwfd1cB8e-FK0aoeC0' -O test.p"
      ],
      "execution_count": null,
      "outputs": []
    },
    {
      "cell_type": "code",
      "metadata": {
        "id": "gUh_5xdjh0or"
      },
      "source": [
        "with open(\"/content/train.p\", mode='rb') as training_data:\n",
        "    train = pickle.load(training_data)\n",
        "with open(\"/content/valid.p\", mode='rb') as validation_data:\n",
        "    valid = pickle.load(validation_data)\n",
        "with open(\"/content/test.p\", mode='rb') as testing_data:\n",
        "    test = pickle.load(testing_data)"
      ],
      "execution_count": null,
      "outputs": []
    },
    {
      "cell_type": "code",
      "metadata": {
        "id": "-uEFeTF3rPl0"
      },
      "source": [
        "X_train, y_train = train['features'], train['labels']\n",
        "X_validation, y_validation = valid['features'], valid['labels']\n",
        "X_test, y_test = test['features'], test['labels']"
      ],
      "execution_count": null,
      "outputs": []
    },
    {
      "cell_type": "code",
      "metadata": {
        "id": "LTLHnPTGrRkc"
      },
      "source": [
        "X_train.shape"
      ],
      "execution_count": null,
      "outputs": []
    },
    {
      "cell_type": "code",
      "metadata": {
        "id": "1jLck0QwrSNz"
      },
      "source": [
        "y_train.shape"
      ],
      "execution_count": null,
      "outputs": []
    },
    {
      "cell_type": "code",
      "metadata": {
        "id": "kat4JHlkU72s"
      },
      "source": [
        "X_validation.shape"
      ],
      "execution_count": null,
      "outputs": []
    },
    {
      "cell_type": "code",
      "metadata": {
        "id": "hNn3RQWuU9f9"
      },
      "source": [
        "y_validation.shape"
      ],
      "execution_count": null,
      "outputs": []
    },
    {
      "cell_type": "code",
      "metadata": {
        "id": "zk9-1qu8VA6A"
      },
      "source": [
        "X_test.shape"
      ],
      "execution_count": null,
      "outputs": []
    },
    {
      "cell_type": "code",
      "metadata": {
        "id": "oqO02g_xVDbf"
      },
      "source": [
        "y_test.shape"
      ],
      "execution_count": null,
      "outputs": []
    },
    {
      "cell_type": "markdown",
      "metadata": {
        "id": "LlszUhNNyrl_"
      },
      "source": [
        "# TASK #3: PERFROM IMAGES VISUALIZATION"
      ]
    },
    {
      "cell_type": "code",
      "metadata": {
        "id": "ronVvCdJsYc5"
      },
      "source": [
        "i = np.random.randint(1, len(X_train))\n",
        "plt.imshow(X_train[i])\n",
        "y_train[i]"
      ],
      "execution_count": null,
      "outputs": []
    },
    {
      "cell_type": "code",
      "metadata": {
        "id": "ZUUvpXsmlwbb"
      },
      "source": [
        "# Let's view more images in a grid format\n",
        "# Define the dimensions of the plot grid \n",
        "W_grid = 5\n",
        "L_grid = 5\n",
        "\n",
        "# fig, axes = plt.subplots(L_grid, W_grid)\n",
        "# subplot return the figure object and axes object\n",
        "# we can use the axes object to plot specific figures at various locations\n",
        "\n",
        "fig, axes = plt.subplots(L_grid, W_grid, figsize = (10,10))\n",
        "\n",
        "axes = axes.ravel() # flaten the 15 x 15 matrix into 225 array\n",
        "\n",
        "n_training = len(X_train) # get the length of the training dataset\n",
        "\n",
        "# Select a random number from 0 to n_training\n",
        "for i in np.arange(0, W_grid * L_grid): # create evenly spaces variables \n",
        "\n",
        "    # Select a random number\n",
        "    index = np.random.randint(0, n_training)\n",
        "    # read and display an image with the selected index    \n",
        "    axes[i].imshow( X_train[index])\n",
        "    axes[i].set_title(y_train[index], fontsize = 15)\n",
        "    axes[i].axis('off')\n",
        "\n",
        "plt.subplots_adjust(hspace=0.4)\n",
        "\n",
        "        "
      ],
      "execution_count": null,
      "outputs": []
    },
    {
      "cell_type": "markdown",
      "metadata": {
        "id": "Y0GmpAjG3GiH"
      },
      "source": [
        "# TASK #4: CONVERT IMAGES TO GRAYSCALE AND PERFORM NORMALIZATION"
      ]
    },
    {
      "cell_type": "code",
      "metadata": {
        "id": "YI1QcjORsq2G"
      },
      "source": [
        "from sklearn.utils import shuffle\n",
        "X_train, y_train = shuffle(X_train, y_train)"
      ],
      "execution_count": null,
      "outputs": []
    },
    {
      "cell_type": "markdown",
      "metadata": {
        "id": "O39M8bHRjJYz"
      },
      "source": [
        "#Since its an RGB image, so it means that you have add r with g with b and then divide it by 3 to get your desired grayscale image. Its done in this way. If you have an color image like the image shown above and you want to convert it into grayscale using average method."
      ]
    },
    {
      "cell_type": "code",
      "metadata": {
        "id": "u2-GkZo0riel"
      },
      "source": [
        "X_train_gray = np.sum(X_train/3, axis = 3, keepdims = True)\n",
        "X_test_gray = np.sum(X_test/3, axis = 3, keepdims = True)\n",
        "X_validation_gray = np.sum(X_validation/3, axis = 3, keepdims = True)"
      ],
      "execution_count": null,
      "outputs": []
    },
    {
      "cell_type": "code",
      "metadata": {
        "id": "a2thgGKwricb"
      },
      "source": [
        "X_train_gray.shape"
      ],
      "execution_count": null,
      "outputs": []
    },
    {
      "cell_type": "code",
      "metadata": {
        "id": "4yZu7n28riaV"
      },
      "source": [
        "X_test_gray.shape\n"
      ],
      "execution_count": null,
      "outputs": []
    },
    {
      "cell_type": "code",
      "metadata": {
        "id": "Nar_imirriYX"
      },
      "source": [
        "X_validation_gray.shape"
      ],
      "execution_count": null,
      "outputs": []
    },
    {
      "cell_type": "code",
      "metadata": {
        "id": "-xRVL8FpriWI"
      },
      "source": [
        "X_train_gray_norm = (X_train_gray - 128)/128\n",
        "X_test_gray_norm = (X_test_gray - 128)/128\n",
        "X_validation_gray_norm = (X_validation_gray - 128)/128"
      ],
      "execution_count": null,
      "outputs": []
    },
    {
      "cell_type": "code",
      "metadata": {
        "id": "__hg6A5yrq2c"
      },
      "source": [
        "i = random.randint(1, len(X_train_gray))\n",
        "plt.imshow(X_train_gray[i].squeeze(), cmap = 'gray')\n",
        "plt.figure()\n",
        "plt.imshow(X_train[i])\n",
        "plt.figure()\n",
        "plt.imshow(X_train_gray_norm[i].squeeze(), cmap = 'gray')"
      ],
      "execution_count": null,
      "outputs": []
    },
    {
      "cell_type": "code",
      "metadata": {
        "id": "Hvc5XqeVtZPA"
      },
      "source": [
        "X_train_gray_norm.shape,y_train.shape"
      ],
      "execution_count": null,
      "outputs": []
    },
    {
      "cell_type": "code",
      "metadata": {
        "id": "V_wT8C7TtgMN"
      },
      "source": [
        "X_test_gray_norm.shape,y_test.shape"
      ],
      "execution_count": null,
      "outputs": []
    },
    {
      "cell_type": "code",
      "metadata": {
        "id": "rGM8ERBdtkHu"
      },
      "source": [
        "X_validation_gray_norm.shape,y_validation.shape"
      ],
      "execution_count": null,
      "outputs": []
    },
    {
      "cell_type": "markdown",
      "metadata": {
        "id": "U3j4yBByVols"
      },
      "source": [
        "#Building the model"
      ]
    },
    {
      "cell_type": "code",
      "metadata": {
        "id": "RW2KAJndu7YK"
      },
      "source": [
        "#Using one hote encoding for the train and validation labels\n",
        "from keras.utils import to_categorical\n",
        "y_train = to_categorical(y_train, 43)\n",
        "y_val = to_categorical(y_validation, 43)\n",
        "y_test = to_categorical(y_test, 43)"
      ],
      "execution_count": null,
      "outputs": []
    },
    {
      "cell_type": "code",
      "metadata": {
        "id": "WmvSG60lvLE7"
      },
      "source": [
        "y_train.shape,y_val.shape,y_test.shape"
      ],
      "execution_count": null,
      "outputs": []
    },
    {
      "cell_type": "markdown",
      "metadata": {
        "id": "rKxOS1MfVq3J"
      },
      "source": [
        "#Base Model without Data Augmentation"
      ]
    },
    {
      "cell_type": "code",
      "metadata": {
        "id": "zyX8nViQVtr_"
      },
      "source": [
        "#Definition of the DNN model\n",
        "\n",
        "from keras.models import Sequential\n",
        "from keras.layers import Conv2D, MaxPool2D, Dense, Flatten, Dropout\n",
        "\n",
        "model = Sequential()\n",
        "model.add(Conv2D(filters=32, kernel_size=(5,5), activation='relu', input_shape=X_train_gray_norm.shape[1:]))\n",
        "model.add(Conv2D(filters=64, kernel_size=(3, 3), activation='relu'))\n",
        "model.add(MaxPool2D(pool_size=(2, 2)))\n",
        "model.add(Dropout(rate=0.25))\n",
        "model.add(Conv2D(filters=64, kernel_size=(3, 3), activation='relu'))\n",
        "model.add(MaxPool2D(pool_size=(2, 2)))\n",
        "model.add(Dropout(rate=0.25))\n",
        "model.add(Flatten())\n",
        "model.add(Dense(256, activation='relu'))\n",
        "model.add(Dropout(rate=0.5))\n",
        "model.add(Dense(43, activation='softmax'))\n",
        "\n",
        "#Compilation of the model\n",
        "model.compile(\n",
        "    loss='categorical_crossentropy', \n",
        "    optimizer='adam', \n",
        "    metrics=['accuracy']\n",
        ")"
      ],
      "execution_count": null,
      "outputs": []
    },
    {
      "cell_type": "code",
      "metadata": {
        "id": "bBkFONjuVt6D"
      },
      "source": [
        "model.summary()"
      ],
      "execution_count": null,
      "outputs": []
    },
    {
      "cell_type": "code",
      "metadata": {
        "id": "EGsjy0wcVuGz"
      },
      "source": [
        "#using ten epochs for the training and saving the accuracy for each epoch\n",
        "epochs = 30\n",
        "history = model.fit(X_train_gray_norm, y_train, batch_size=32, epochs=epochs,\n",
        "validation_data=(X_validation_gray_norm, y_val))"
      ],
      "execution_count": null,
      "outputs": []
    },
    {
      "cell_type": "markdown",
      "metadata": {
        "id": "-wRQqOeB5Zh5"
      },
      "source": [
        "# TASK #8: ASSESS TRAINED CNN MODEL PERFORMANCE "
      ]
    },
    {
      "cell_type": "code",
      "metadata": {
        "id": "_RpB2PAd9SE9"
      },
      "source": [
        "score = model.evaluate(X_test_gray_norm, y_test)\n",
        "print('Test Accuracy: {}'.format(score[1]))"
      ],
      "execution_count": null,
      "outputs": []
    },
    {
      "cell_type": "markdown",
      "metadata": {
        "id": "J8hTC__84gx9"
      },
      "source": [
        "#Base Model with Data Augmentation"
      ]
    },
    {
      "cell_type": "code",
      "metadata": {
        "id": "gUBoeFon4SfE"
      },
      "source": [
        "from keras.preprocessing.image import ImageDataGenerator\n",
        " \n",
        "datagen = ImageDataGenerator(width_shift_range=0.1,\n",
        "                            height_shift_range=0.1,\n",
        "                            zoom_range=0.3,\n",
        "                            shear_range=0.1,\n",
        "                            rotation_range=9.)\n",
        " \n",
        "datagen.fit(X_train)\n",
        "batches = datagen.flow(X_train_gray_norm, y_train, batch_size = 32)\n",
        "X_batch, y_batch = next(batches)\n",
        " \n",
        "fig, axs = plt.subplots(1, 15, figsize=(20, 5))\n",
        "fig.tight_layout()\n",
        " \n",
        "for i in range(15):\n",
        "    axs[i].imshow(X_batch[i].reshape(32, 32))\n",
        "    axs[i].axis(\"off\")\n",
        " \n",
        "print(X_batch.shape)"
      ],
      "execution_count": null,
      "outputs": []
    },
    {
      "cell_type": "code",
      "metadata": {
        "id": "7gzsmfz7434G"
      },
      "source": [
        "from keras.models import Sequential\n",
        "from keras.layers import Conv2D, MaxPool2D, Dense, Flatten, Dropout,MaxPooling2D\n",
        "from keras.optimizers import Adam\n",
        "\n",
        "def modified_model():\n",
        "  model = Sequential()\n",
        "  model.add(Conv2D(filters=32, kernel_size=(5,5), activation='relu', input_shape=X_train_gray_norm.shape[1:]))\n",
        "  model.add(Conv2D(filters=64, kernel_size=(3, 3), activation='relu'))\n",
        "  model.add(MaxPool2D(pool_size=(2, 2)))\n",
        "  model.add(Dropout(rate=0.25))\n",
        "  model.add(Conv2D(filters=64, kernel_size=(3, 3), activation='relu'))\n",
        "  model.add(MaxPool2D(pool_size=(2, 2)))\n",
        "  model.add(Dropout(rate=0.25))\n",
        "  model.add(Flatten())\n",
        "  model.add(Dense(256, activation='relu'))\n",
        "  model.add(Dropout(rate=0.5))\n",
        "  model.add(Dense(43, activation='softmax'))\n",
        "\n",
        "  #Compilation of the model\n",
        "  model.compile(\n",
        "    loss='categorical_crossentropy', \n",
        "    optimizer='adam', \n",
        "    metrics=['accuracy']\n",
        "  )\n",
        "  return model"
      ],
      "execution_count": null,
      "outputs": []
    },
    {
      "cell_type": "code",
      "metadata": {
        "id": "Ui0AfH0I7Dmw"
      },
      "source": [
        "model = modified_model()\n",
        "print(model.summary())\n",
        " \n",
        "history_new = model.fit_generator(datagen.flow(X_train_gray_norm, y_train, batch_size=32),\n",
        "                            epochs=20,\n",
        "                            validation_data=(X_validation_gray_norm, y_val))"
      ],
      "execution_count": null,
      "outputs": []
    },
    {
      "cell_type": "markdown",
      "metadata": {
        "id": "7ZNyctYAV4SK"
      },
      "source": [
        "#Marks will be given on basis of next code cells results"
      ]
    },
    {
      "cell_type": "code",
      "metadata": {
        "id": "imXmM4Ht5cmS"
      },
      "source": [
        "score = model.evaluate(X_test_gray_norm, y_test)\n",
        "print('Test Accuracy: {}'.format(score[1]))"
      ],
      "execution_count": null,
      "outputs": []
    },
    {
      "cell_type": "markdown",
      "metadata": {
        "id": "Aeq_zupHWCrL"
      },
      "source": [
        "#Attach a screen shot of your results as proof below this cell"
      ]
    },
    {
      "cell_type": "markdown",
      "metadata": {
        "id": "jYOBK6p2CRPV"
      },
      "source": [
        "![Screenshot 2020-09-29 at 2.14.53 PM.png](data:image/png;base64,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)"
      ]
    },
    {
      "cell_type": "markdown",
      "metadata": {
        "id": "oJ7KLoycC0Cm"
      },
      "source": [
        "#Helper Function"
      ]
    },
    {
      "cell_type": "code",
      "metadata": {
        "id": "J0Jmwj7g8ENw"
      },
      "source": [
        "accuracy = history_new.history['accuracy']\n",
        "val_accuracy = history_new.history['val_accuracy']\n",
        "loss = history_new.history['loss']\n",
        "val_loss = history_new.history['val_loss']\n",
        "\n",
        "epochs = range(len(accuracy))\n",
        "\n",
        "plt.plot(epochs, accuracy, 'bo', label='Training Accuracy')\n",
        "plt.plot(epochs, val_accuracy, 'b', label='Validation Accuracy')\n",
        "plt.title('Training and Validation Accuracy')\n",
        "plt.legend()"
      ],
      "execution_count": null,
      "outputs": []
    },
    {
      "cell_type": "code",
      "metadata": {
        "id": "MgEBguOFCsLF"
      },
      "source": [
        "plt.plot(epochs, loss, 'ro', label='Training loss')\n",
        "plt.plot(epochs, val_loss, 'r', label='Validation loss')\n",
        "plt.title('Training and Validation loss')\n",
        "plt.legend()"
      ],
      "execution_count": null,
      "outputs": []
    },
    {
      "cell_type": "markdown",
      "metadata": {
        "id": "MbExdAupDC7v"
      },
      "source": [
        "#Base Model With Data Augmentation gives the best result"
      ]
    }
  ]
}