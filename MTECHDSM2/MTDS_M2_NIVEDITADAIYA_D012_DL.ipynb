{
  "nbformat": 4,
  "nbformat_minor": 0,
  "metadata": {
    "colab": {
      "name": "MTDS_M2_NIVEDITADAIYA_D012_DL.ipynb",
      "provenance": [],
      "private_outputs": true,
      "collapsed_sections": [
        "U3j4yBByVols",
        "-wRQqOeB5Zh5",
        "7ZNyctYAV4SK",
        "Aeq_zupHWCrL",
        "VJwpqxvAV9bW"
      ]
    },
    "kernelspec": {
      "name": "python3",
      "display_name": "Python 3"
    },
    "accelerator": "GPU"
  },
  "cells": [
    {
      "cell_type": "markdown",
      "metadata": {
        "id": "zKmFmyaGunc7"
      },
      "source": [
        "# TASK #2: MOUNT DRIVE AND IMPORT LIBRARIES/DATASETS"
      ]
    },
    {
      "cell_type": "markdown",
      "metadata": {
        "id": "G4OdH814kOII"
      },
      "source": [
        "- In this case study, we want to classify images of traffic signs using deep Convolutional Neural Networks (CNNs).\n",
        "- The dataset consists of 43 different classes of images. \n",
        "- Classes are as listed below: \n",
        "  - 0 = Speed limit (20km/h) \n",
        "  - 1 = Speed limit (30km/h)\n",
        "  - 2 = Speed limit (50km/h) \n",
        "  - 3 = Speed limit (60km/h)\n",
        "  - 4 = Speed limit (70km/h) \n",
        "  - 5 = Speed limit (80km/h)\n",
        "  - 6 = End of speed limit (80km/h)\n",
        "  - 7 = Speed limit (100km/h)\n",
        "  - 8 = Speed limit (120km/h)\n",
        "  - 9 = No passing\n",
        "  - 10 = No passing for vehicles over 3.5 metric tons\n",
        "  - 11 = Right-of-way at the next intersection\n",
        "  - 12 = Priority road\n",
        "  - 13 = Yield\n",
        "  - 14 = Stop\n",
        "  - 15 = No vehicles\n",
        "  - 16 = Vehicles over 3.5 metric tons prohibited\n",
        "  - 17 = No entry\n",
        "  - 18 = General caution\n",
        "  - 19 = Dangerous curve to the left\n",
        "  - 20 = Dangerous curve to the right\n",
        "  - 21 = Double curve\n",
        "  - 22 = Bumpy road\n",
        "  - 23 = Slippery road\n",
        "  - 24 = Road narrows on the right\n",
        "  - 25 = Road work\n",
        "  - 26 = Traffic signals\n",
        "  - 27 = Pedestrians\n",
        "  - 28 = Children crossing \n",
        "  - 29 = Bicycles crossing\n",
        "  - 30 = Beware of ice/snow\n",
        "  - 31 = Wild animals crossing\n",
        "  - 32 = End of all speed and passing limits\n",
        "  - 33 = Turn right ahead\n",
        "  - 34 = Turn left ahead\n",
        "  - 35 = Ahead only\n",
        "  - 36 = Go straight or right\n",
        "  - 37 = Go straight or left\n",
        "  - 38 = Keep right\n",
        "  - 39 = Keep left\n",
        "  - 40 = Roundabout mandatory\n",
        "  - 41 = End of no passing\n",
        "  - 42 = End of no passing by vehicles over 3.5 metric tons\n",
        "\n",
        "- Citation\n",
        "J. Stallkamp, M. Schlipsing, J. Salmen, and C. Igel. The German Traffic Sign Recognition Benchmark: A multi-class classification competition. In Proceedings of the IEEE International Joint Conference on Neural Networks, pages 1453–1460. 2011. \n",
        "@inproceedings{Stallkamp-IJCNN-2011, author = {Johannes Stallkamp and Marc Schlipsing and Jan Salmen and Christian Igel}, booktitle = {IEEE International Joint Conference on Neural Networks}, title = {The {G}erman {T}raffic {S}ign {R}ecognition {B}enchmark: A multi-class classification competition}, year = {2011}, pages = {1453--1460} }"
      ]
    },
    {
      "cell_type": "code",
      "metadata": {
        "id": "AhbU2fAZh0oe"
      },
      "source": [
        "import matplotlib.pyplot as plt\n",
        "import numpy as np\n",
        "import tensorflow as tf\n",
        "import pandas as pd\n",
        "import seaborn as sns\n",
        "import pickle\n",
        "import random"
      ],
      "execution_count": null,
      "outputs": []
    },
    {
      "cell_type": "code",
      "metadata": {
        "id": "GKpz8CSLh5iQ"
      },
      "source": [
        "!wget --load-cookies /tmp/cookies.txt \"https://docs.google.com/uc?export=download&confirm=$(wget --quiet --save-cookies /tmp/cookies.txt --keep-session-cookies --no-check-certificate 'https://docs.google.com/uc?export=download&id=1tQ2HkQdxCUpAo4twbqN6mu7FYD7Ry5tq' -O- | sed -rn 's/.*confirm=([0-9A-Za-z_]+).*/\\1\\n/p')&id=1tQ2HkQdxCUpAo4twbqN6mu7FYD7Ry5tq\" -O train.p && rm -rf /tmp/cookies.txt\n",
        "!wget --no-check-certificate 'https://docs.google.com/uc?export=download&id=1zJxB1YzBYuImaHBSxWGN-ZXPDRYN_CTX' -O valid.p\n",
        "!wget --no-check-certificate 'https://docs.google.com/uc?export=download&id=1jZhZpEZkYFaaPPAwfd1cB8e-FK0aoeC0' -O test.p"
      ],
      "execution_count": null,
      "outputs": []
    },
    {
      "cell_type": "code",
      "metadata": {
        "id": "gUh_5xdjh0or"
      },
      "source": [
        "with open(\"/content/train.p\", mode='rb') as training_data:\n",
        "    train = pickle.load(training_data)\n",
        "with open(\"/content/valid.p\", mode='rb') as validation_data:\n",
        "    valid = pickle.load(validation_data)\n",
        "with open(\"/content/test.p\", mode='rb') as testing_data:\n",
        "    test = pickle.load(testing_data)"
      ],
      "execution_count": null,
      "outputs": []
    },
    {
      "cell_type": "code",
      "metadata": {
        "id": "-uEFeTF3rPl0"
      },
      "source": [
        "X_train, y_train = train['features'], train['labels']\n",
        "X_validation, y_validation = valid['features'], valid['labels']\n",
        "X_test, y_test = test['features'], test['labels']"
      ],
      "execution_count": null,
      "outputs": []
    },
    {
      "cell_type": "code",
      "metadata": {
        "id": "LTLHnPTGrRkc"
      },
      "source": [
        "X_train.shape"
      ],
      "execution_count": null,
      "outputs": []
    },
    {
      "cell_type": "code",
      "metadata": {
        "id": "1jLck0QwrSNz"
      },
      "source": [
        "y_train.shape"
      ],
      "execution_count": null,
      "outputs": []
    },
    {
      "cell_type": "code",
      "metadata": {
        "id": "kat4JHlkU72s"
      },
      "source": [
        "X_validation.shape"
      ],
      "execution_count": null,
      "outputs": []
    },
    {
      "cell_type": "code",
      "metadata": {
        "id": "hNn3RQWuU9f9"
      },
      "source": [
        "y_validation.shape"
      ],
      "execution_count": null,
      "outputs": []
    },
    {
      "cell_type": "code",
      "metadata": {
        "id": "zk9-1qu8VA6A"
      },
      "source": [
        "X_test.shape"
      ],
      "execution_count": null,
      "outputs": []
    },
    {
      "cell_type": "code",
      "metadata": {
        "id": "oqO02g_xVDbf"
      },
      "source": [
        "y_test.shape"
      ],
      "execution_count": null,
      "outputs": []
    },
    {
      "cell_type": "code",
      "metadata": {
        "id": "LmQJCoNE2O6Z"
      },
      "source": [
        "## No of unique classes\n",
        "n_classes=len(np.unique(y_train))\n"
      ],
      "execution_count": null,
      "outputs": []
    },
    {
      "cell_type": "code",
      "metadata": {
        "id": "G5-xal632gE0"
      },
      "source": [
        "n_classes"
      ],
      "execution_count": null,
      "outputs": []
    },
    {
      "cell_type": "markdown",
      "metadata": {
        "id": "LlszUhNNyrl_"
      },
      "source": [
        "# TASK #3: PERFROM IMAGES VISUALIZATION"
      ]
    },
    {
      "cell_type": "code",
      "metadata": {
        "id": "ronVvCdJsYc5"
      },
      "source": [
        "i = np.random.randint(1, len(X_train))\n",
        "plt.imshow(X_train[i])\n",
        "y_train[i]"
      ],
      "execution_count": null,
      "outputs": []
    },
    {
      "cell_type": "code",
      "metadata": {
        "id": "ZUUvpXsmlwbb"
      },
      "source": [
        "# Let's view more images in a grid format\n",
        "# Define the dimensions of the plot grid \n",
        "W_grid = 5\n",
        "L_grid = 5\n",
        "\n",
        "# fig, axes = plt.subplots(L_grid, W_grid)\n",
        "# subplot return the figure object and axes object\n",
        "# we can use the axes object to plot specific figures at various locations\n",
        "\n",
        "fig, axes = plt.subplots(L_grid, W_grid, figsize = (10,10))\n",
        "\n",
        "axes = axes.ravel() # flaten the 15 x 15 matrix into 225 array\n",
        "\n",
        "n_training = len(X_train) # get the length of the training dataset\n",
        "\n",
        "# Select a random number from 0 to n_training\n",
        "for i in np.arange(0, W_grid * L_grid): # create evenly spaces variables \n",
        "\n",
        "    # Select a random number\n",
        "    index = np.random.randint(0, n_training)\n",
        "    # read and display an image with the selected index    \n",
        "    axes[i].imshow( X_train[index])\n",
        "    axes[i].set_title(y_train[index], fontsize = 15)\n",
        "    axes[i].axis('off')\n",
        "\n",
        "plt.subplots_adjust(hspace=0.4)\n",
        "\n",
        "        "
      ],
      "execution_count": null,
      "outputs": []
    },
    {
      "cell_type": "code",
      "metadata": {
        "id": "TxDfIXnh3Jbx"
      },
      "source": [
        "def histogram_plot(dataset, label):\n",
        "    \"\"\"\n",
        "    Plots a histogram of the input data.\n",
        "        Parameters:\n",
        "            dataset: Input data to be plotted as a histogram.\n",
        "            lanel: A string to be used as a label for the histogram.\n",
        "    \"\"\"\n",
        "    hist, bins = np.histogram(dataset, bins=n_classes)\n",
        "    width = 0.7 * (bins[1] - bins[0])\n",
        "    center = (bins[:-1] + bins[1:]) / 2\n",
        "    plt.bar(center, hist, align='center', width=width)\n",
        "    plt.xlabel(label)\n",
        "    plt.ylabel(\"Image count\")\n",
        "    plt.show()"
      ],
      "execution_count": null,
      "outputs": []
    },
    {
      "cell_type": "code",
      "metadata": {
        "id": "-kd3rVpf3LC7"
      },
      "source": [
        "histogram_plot(y_train, \"Training examples\")\n",
        "histogram_plot(y_test, \"Testing examples\")\n",
        "histogram_plot(y_validation, \"Validation examples\")"
      ],
      "execution_count": null,
      "outputs": []
    },
    {
      "cell_type": "markdown",
      "metadata": {
        "id": "Y0GmpAjG3GiH"
      },
      "source": [
        "# TASK #4: CONVERT IMAGES TO GRAYSCALE AND PERFORM NORMALIZATION"
      ]
    },
    {
      "cell_type": "markdown",
      "metadata": {
        "id": "1wMmAWa_3Zvr"
      },
      "source": [
        "## Shuffling- Shuffling is done to increase randomness for training dataset\n"
      ]
    },
    {
      "cell_type": "code",
      "metadata": {
        "id": "YI1QcjORsq2G"
      },
      "source": [
        "from sklearn.utils import shuffle\n",
        "X_train, y_train = shuffle(X_train, y_train)"
      ],
      "execution_count": null,
      "outputs": []
    },
    {
      "cell_type": "code",
      "metadata": {
        "id": "KcQYgRKQSCOl"
      },
      "source": [
        "import cv2"
      ],
      "execution_count": null,
      "outputs": []
    },
    {
      "cell_type": "markdown",
      "metadata": {
        "id": "O39M8bHRjJYz"
      },
      "source": [
        "#Since its an RGB image, so it means that you have add r with g with b and then divide it by 3 to get your desired grayscale image. Its done in this way. If you have an color image like the image shown above and you want to convert it into grayscale using average method."
      ]
    },
    {
      "cell_type": "code",
      "metadata": {
        "id": "fLDt3mQJRzSR"
      },
      "source": [
        "def gray_scale(image):\n",
        "    \"\"\"\n",
        "    Convert images to gray scale.\n",
        "        Parameters:\n",
        "            image: An np.array compatible with plt.imshow.\n",
        "    \"\"\"\n",
        "    return cv2.cvtColor(image, cv2.COLOR_RGB2GRAY)"
      ],
      "execution_count": null,
      "outputs": []
    },
    {
      "cell_type": "code",
      "metadata": {
        "id": "oftJoA2aRzhA"
      },
      "source": [
        "gray_images = list(map(gray_scale, X_train))\n",
        "list_images=(gray_images, y_train, \"Gray Scale image\", \"gray\")"
      ],
      "execution_count": null,
      "outputs": []
    },
    {
      "cell_type": "code",
      "metadata": {
        "id": "TNGIqSNiSgiX"
      },
      "source": [
        "import skimage.morphology as morp"
      ],
      "execution_count": null,
      "outputs": []
    },
    {
      "cell_type": "code",
      "metadata": {
        "id": "YgIayDNbSofQ"
      },
      "source": [
        "from skimage.filters import rank"
      ],
      "execution_count": null,
      "outputs": []
    },
    {
      "cell_type": "code",
      "metadata": {
        "id": "wtT-9LvZRzmL"
      },
      "source": [
        "def local_histo_equalize(image):\n",
        "    \"\"\"\n",
        "    Apply local histogram equalization to grayscale images.\n",
        "        Parameters:\n",
        "            image: A grayscale image.\n",
        "    \"\"\"\n",
        "    kernel = morp.disk(30)\n",
        "    img_local = rank.equalize(image, selem=kernel)\n",
        "    return img_local"
      ],
      "execution_count": null,
      "outputs": []
    },
    {
      "cell_type": "code",
      "metadata": {
        "id": "MOXWr-wjRzpw"
      },
      "source": [
        "equalized_images = list(map(local_histo_equalize, gray_images))\n",
        "list_images=(equalized_images, y_train, \"Equalized Image\", \"gray\")"
      ],
      "execution_count": null,
      "outputs": []
    },
    {
      "cell_type": "code",
      "metadata": {
        "id": "XJnzZ4vqRzju"
      },
      "source": [
        "def image_normalize(image):\n",
        "    \"\"\"\n",
        "    Normalize images to [0, 1] scale.\n",
        "        Parameters:\n",
        "            image: An np.array compatible with plt.imshow.\n",
        "    \"\"\"\n",
        "    image = np.divide(image, 255)\n",
        "    return image"
      ],
      "execution_count": null,
      "outputs": []
    },
    {
      "cell_type": "code",
      "metadata": {
        "id": "JjAea0fhS0hh"
      },
      "source": [
        "n_training = X_train.shape\n",
        "normalized_images = np.zeros((n_training[0], n_training[1], n_training[2]))\n",
        "for i, img in enumerate(equalized_images):\n",
        "    normalized_images[i] = image_normalize(img)\n",
        "list_images=(normalized_images, y_train, \"Normalized Image\", \"gray\")\n",
        "normalized_images = normalized_images[..., None]"
      ],
      "execution_count": null,
      "outputs": []
    },
    {
      "cell_type": "code",
      "metadata": {
        "id": "H3l-lAbRS5SM"
      },
      "source": [
        "def preprocess(data):\n",
        "    \"\"\"\n",
        "    Applying the preprocessing steps to the input data.\n",
        "        Parameters:\n",
        "            data: An np.array compatible with plt.imshow.\n",
        "    \"\"\"\n",
        "    gray_images = list(map(gray_scale, data))\n",
        "    equalized_images = list(map(local_histo_equalize, gray_images))\n",
        "    n_training = data.shape\n",
        "    normalized_images = np.zeros((n_training[0], n_training[1], n_training[2]))\n",
        "    for i, img in enumerate(equalized_images):\n",
        "        normalized_images[i] = image_normalize(img)\n",
        "    normalized_images = normalized_images[..., None]\n",
        "    return normalized_images"
      ],
      "execution_count": null,
      "outputs": []
    },
    {
      "cell_type": "markdown",
      "metadata": {
        "id": "iutnGOGq36DX"
      },
      "source": [
        "## Normalization of all the dataset"
      ]
    },
    {
      "cell_type": "markdown",
      "metadata": {
        "id": "U3j4yBByVols"
      },
      "source": [
        "#Building the model"
      ]
    },
    {
      "cell_type": "markdown",
      "metadata": {
        "id": "rKxOS1MfVq3J"
      },
      "source": [
        "#Use this space for coding"
      ]
    },
    {
      "cell_type": "code",
      "metadata": {
        "id": "06DHgACJUdwr"
      },
      "source": [
        "import tensorflow.compat.v1 as tf\n",
        "tf.disable_v2_behavior()\n",
        "from keras.layers import  Flatten\n",
        "flatten_layer = Flatten()  # instantiate the layer\n",
        " "
      ],
      "execution_count": null,
      "outputs": []
    },
    {
      "cell_type": "code",
      "metadata": {
        "id": "oZPp47yTLzOI"
      },
      "source": [
        "class VGGnet:  \n",
        "\n",
        "    def __init__(self, n_out=43, mu=0, sigma=0.1, learning_rate=0.001):\n",
        "        # Hyperparameters\n",
        "        self.mu = mu\n",
        "        self.sigma = sigma\n",
        "\n",
        "        # Layer 1 (Convolutional): Input = 32x32x1. Output = 32x32x32.\n",
        "        self.conv1_W = tf.Variable(tf.truncated_normal(shape=(3, 3, 1, 32), mean = self.mu, stddev = self.sigma))\n",
        "        self.conv1_b = tf.Variable(tf.zeros(32))\n",
        "        self.conv1   = tf.nn.conv2d(x, self.conv1_W, strides=[1, 1, 1, 1], padding='SAME') + self.conv1_b\n",
        "\n",
        "        # ReLu Activation.\n",
        "        self.conv1 = tf.nn.relu(self.conv1)\n",
        "\n",
        "        # Layer 2 (Convolutional): Input = 32x32x32. Output = 32x32x32.\n",
        "        self.conv2_W = tf.Variable(tf.truncated_normal(shape=(3, 3, 32, 32), mean = self.mu, stddev = self.sigma))\n",
        "        self.conv2_b = tf.Variable(tf.zeros(32))\n",
        "        self.conv2   = tf.nn.conv2d(self.conv1, self.conv2_W, strides=[1, 1, 1, 1], padding='SAME') + self.conv2_b\n",
        "\n",
        "        # ReLu Activation.\n",
        "        self.conv2 = tf.nn.relu(self.conv2)\n",
        "        # Layer 3 (Pooling): Input = 32x32x32. Output = 16x16x32.\n",
        "        self.conv2 = tf.nn.max_pool(self.conv2, ksize=[1, 2, 2, 1], strides=[1, 2, 2, 1], padding='VALID')\n",
        "        self.conv2 = tf.nn.dropout(self.conv2, keep_prob_conv)\n",
        "\n",
        "        # Layer 4 (Convolutional): Input = 16x16x32. Output = 16x16x64.\n",
        "        self.conv3_W = tf.Variable(tf.truncated_normal(shape=(3, 3, 32, 64), mean = self.mu, stddev = self.sigma))\n",
        "        self.conv3_b = tf.Variable(tf.zeros(64))\n",
        "        self.conv3   = tf.nn.conv2d(self.conv2, self.conv3_W, strides=[1, 1, 1, 1], padding='SAME') + self.conv3_b\n",
        "\n",
        "        # ReLu Activation.\n",
        "        self.conv3 = tf.nn.relu(self.conv3)\n",
        "\n",
        "        # Layer 5 (Convolutional): Input = 16x16x64. Output = 16x16x64.\n",
        "        self.conv4_W = tf.Variable(tf.truncated_normal(shape=(3, 3, 64, 64), mean = self.mu, stddev = self.sigma))\n",
        "        self.conv4_b = tf.Variable(tf.zeros(64))\n",
        "        self.conv4   = tf.nn.conv2d(self.conv3, self.conv4_W, strides=[1, 1, 1, 1], padding='SAME') + self.conv4_b\n",
        "\n",
        "        # ReLu Activation.\n",
        "        self.conv4 = tf.nn.relu(self.conv4)\n",
        "\n",
        "        # Layer 6 (Pooling): Input = 16x16x64. Output = 8x8x64.\n",
        "        self.conv4 = tf.nn.max_pool(self.conv4, ksize=[1, 2, 2, 1], strides=[1, 2, 2, 1], padding='VALID')\n",
        "        self.conv4 = tf.nn.dropout(self.conv4, keep_prob_conv) # dropout\n",
        "\n",
        "        # Layer 7 (Convolutional): Input = 8x8x64. Output = 8x8x128.\n",
        "        self.conv5_W = tf.Variable(tf.truncated_normal(shape=(3, 3, 64, 128), mean = self.mu, stddev = self.sigma))\n",
        "        self.conv5_b = tf.Variable(tf.zeros(128))\n",
        "        self.conv5   = tf.nn.conv2d(self.conv4, self.conv5_W, strides=[1, 1, 1, 1], padding='SAME') + self.conv5_b\n",
        "        # ReLu Activation.\n",
        "        self.conv5 = tf.nn.relu(self.conv5)\n",
        "\n",
        "        # Layer 8 (Convolutional): Input = 8x8x128. Output = 8x8x128.\n",
        "        self.conv6_W = tf.Variable(tf.truncated_normal(shape=(3, 3, 128, 128), mean = self.mu, stddev = self.sigma))\n",
        "        self.conv6_b = tf.Variable(tf.zeros(128))\n",
        "        self.conv6   = tf.nn.conv2d(self.conv5, self.conv6_W, strides=[1, 1, 1, 1], padding='SAME') + self.conv6_b\n",
        "\n",
        "        # ReLu Activation.\n",
        "        self.conv6 = tf.nn.relu(self.conv6)\n",
        "\n",
        "        # Layer 9 (Pooling): Input = 8x8x128. Output = 4x4x128.\n",
        "        self.conv6 = tf.nn.max_pool(self.conv6, ksize=[1, 2, 2, 1], strides=[1, 2, 2, 1], padding='VALID')\n",
        "        self.conv6 = tf.nn.dropout(self.conv6, keep_prob_conv) # dropout\n",
        "\n",
        "        # Flatten. Input = 4x4x128. Output = 2048.\n",
        "        self.fc0   = flatten_layer(self.conv6)\n",
        "\n",
        "        # Layer 10 (Fully Connected): Input = 2048. Output = 128.\n",
        "        self.fc1_W = tf.Variable(tf.truncated_normal(shape=(2048, 128), mean = self.mu, stddev = self.sigma))\n",
        "        self.fc1_b = tf.Variable(tf.zeros(128))\n",
        "        self.fc1   = tf.matmul(self.fc0, self.fc1_W) + self.fc1_b\n",
        "\n",
        "        # ReLu Activation.\n",
        "        self.fc1    = tf.nn.relu(self.fc1)\n",
        "        self.fc1    = tf.nn.dropout(self.fc1, keep_prob) # dropout\n",
        "\n",
        "        # Layer 11 (Fully Connected): Input = 128. Output = 128.\n",
        "        self.fc2_W  = tf.Variable(tf.truncated_normal(shape=(128, 128), mean = self.mu, stddev = self.sigma))\n",
        "        self.fc2_b  = tf.Variable(tf.zeros(128))\n",
        "        self.fc2    = tf.matmul(self.fc1, self.fc2_W) + self.fc2_b\n",
        "\n",
        "        # ReLu Activation.\n",
        "        self.fc2    = tf.nn.relu(self.fc2)\n",
        "        self.fc2    = tf.nn.dropout(self.fc2, keep_prob) # dropout\n",
        "\n",
        "        # Layer 12 (Fully Connected): Input = 128. Output = n_out.\n",
        "        self.fc3_W  = tf.Variable(tf.truncated_normal(shape=(128, n_out), mean = self.mu, stddev = self.sigma))\n",
        "        self.fc3_b  = tf.Variable(tf.zeros(n_out))\n",
        "        self.logits = tf.matmul(self.fc2, self.fc3_W) + self.fc3_b\n",
        "\n",
        "        # Training operation\n",
        "        self.one_hot_y = tf.one_hot(y, n_out)\n",
        "        self.cross_entropy = tf.nn.softmax_cross_entropy_with_logits_v2(logits=self.logits, labels=self.one_hot_y)\n",
        "        self.loss_operation = tf.reduce_mean(self.cross_entropy)\n",
        "        self.optimizer = tf.train.AdamOptimizer(learning_rate = learning_rate)\n",
        "        self.training_operation = self.optimizer.minimize(self.loss_operation)\n",
        "\n",
        "        # Accuracy operation\n",
        "        self.correct_prediction = tf.equal(tf.argmax(self.logits, 1), tf.argmax(self.one_hot_y, 1))\n",
        "        self.accuracy_operation = tf.reduce_mean(tf.cast(self.correct_prediction, tf.float32))\n",
        "\n",
        "        # Saving all variables\n",
        "        self.saver = tf.train.Saver()\n",
        "        \n",
        "    def y_predict(self, X_data, BATCH_SIZE=64):\n",
        "        num_examples = len(X_data)\n",
        "        y_pred = np.zeros(num_examples, dtype=np.int32)\n",
        "        sess = tf.get_default_session()\n",
        "        for offset in range(0, num_examples, BATCH_SIZE):\n",
        "          batch_x = X_data[offset:offset+BATCH_SIZE]\n",
        "          y_pred[offset:offset+BATCH_SIZE] = sess.run(tf.argmax(self.logits, 1), \n",
        "          feed_dict={x:batch_x, keep_prob:1, keep_prob_conv:1})\n",
        "        return y_pred\n",
        "    \n",
        "    def evaluate(self, X_data, y_data, BATCH_SIZE=64):\n",
        "        num_examples = len(X_data)\n",
        "        total_accuracy = 0\n",
        "        sess = tf.get_default_session()\n",
        "        for offset in range(0, num_examples, BATCH_SIZE):\n",
        "            batch_x, batch_y = X_data[offset:offset+BATCH_SIZE], y_data[offset:offset+BATCH_SIZE]\n",
        "            accuracy = sess.run(self.accuracy_operation, \n",
        "                                feed_dict={x: batch_x, y: batch_y, keep_prob: 1.0, keep_prob_conv: 1.0 })\n",
        "            total_accuracy += (accuracy * len(batch_x))\n",
        "        return total_accuracy / num_examples"
      ],
      "execution_count": null,
      "outputs": []
    },
    {
      "cell_type": "code",
      "metadata": {
        "id": "7tcaErnPTdy5"
      },
      "source": [
        "x = tf.placeholder(tf.float32, (None, 32, 32, 1))\n",
        "y = tf.placeholder(tf.int32, (None))"
      ],
      "execution_count": null,
      "outputs": []
    },
    {
      "cell_type": "code",
      "metadata": {
        "id": "F-A60YCTTjqO"
      },
      "source": [
        "keep_prob = tf.placeholder(tf.float32)       # For fully-connected layers\n",
        "keep_prob_conv = tf.placeholder(tf.float32)  # For convolutional layers"
      ],
      "execution_count": null,
      "outputs": []
    },
    {
      "cell_type": "code",
      "metadata": {
        "id": "tUcCAfqoTmir"
      },
      "source": [
        "X_valid_preprocessed = preprocess(X_validation)"
      ],
      "execution_count": null,
      "outputs": []
    },
    {
      "cell_type": "code",
      "metadata": {
        "id": "fSLdBzzdTrpA"
      },
      "source": [
        "EPOCHS = 20\n",
        "BATCH_SIZE = 64\n",
        "DIR = 'Saved_Models'"
      ],
      "execution_count": null,
      "outputs": []
    },
    {
      "cell_type": "code",
      "metadata": {
        "id": "IZxGpO6xbEDW"
      },
      "source": [
        "import os"
      ],
      "execution_count": null,
      "outputs": []
    },
    {
      "cell_type": "code",
      "metadata": {
        "id": "HITSl3HKTvNW"
      },
      "source": [
        "VGGNet_Model = VGGnet(n_out = n_classes)\n",
        "model_name = \"VGGNet\"\n",
        "\n",
        "# Validation set preprocessing\n",
        "X_valid_preprocessed = preprocess(X_validation)\n",
        "one_hot_y_valid = tf.one_hot(y_validation, 43)\n",
        "\n",
        "with tf.Session() as sess:\n",
        "    sess.run(tf.global_variables_initializer())\n",
        "    num_examples = len(y_train)\n",
        "    print(\"Training...\")\n",
        "    print()\n",
        "    for i in range(EPOCHS):\n",
        "        normalized_images, y_train = shuffle(normalized_images, y_train)\n",
        "        for offset in range(0, num_examples, BATCH_SIZE):\n",
        "            end = offset + BATCH_SIZE\n",
        "            batch_x, batch_y = normalized_images[offset:end], y_train[offset:end]\n",
        "            sess.run(VGGNet_Model.training_operation, \n",
        "            feed_dict={x: batch_x, y: batch_y, keep_prob : 0.5, keep_prob_conv: 0.7})\n",
        "\n",
        "        validation_accuracy = VGGNet_Model.evaluate(X_valid_preprocessed, y_validation)\n",
        "        print(\"EPOCH {} : Validation Accuracy = {:.3f}%\".format(i+1, (validation_accuracy*100)))\n",
        "    VGGNet_Model.saver.save(sess, os.path.join(DIR, model_name))\n",
        "    print(\"Model saved\")"
      ],
      "execution_count": null,
      "outputs": []
    },
    {
      "cell_type": "code",
      "metadata": {
        "id": "98iGHwEsWZIa"
      },
      "source": [
        "X_test_preprocessed = preprocess(X_test)"
      ],
      "execution_count": null,
      "outputs": []
    },
    {
      "cell_type": "markdown",
      "metadata": {
        "id": "-wRQqOeB5Zh5"
      },
      "source": [
        "# TASK #8: ASSESS TRAINED CNN MODEL PERFORMANCE "
      ]
    },
    {
      "cell_type": "markdown",
      "metadata": {
        "id": "7ZNyctYAV4SK"
      },
      "source": [
        "#Marks will be given on basis of next code cells results"
      ]
    },
    {
      "cell_type": "code",
      "metadata": {
        "id": "_RpB2PAd9SE9"
      },
      "source": [
        "with tf.Session() as sess:\n",
        "    VGGNet_Model.saver.restore(sess, os.path.join(DIR, \"VGGNet\"))\n",
        "    y_pred = VGGNet_Model.y_predict(X_test_preprocessed)\n",
        "    test_accuracy = sum(y_test == y_pred)/len(y_test)\n",
        "    print(\"Test Accuracy = {:.1f}%\".format(test_accuracy*100))"
      ],
      "execution_count": null,
      "outputs": []
    },
    {
      "cell_type": "markdown",
      "metadata": {
        "id": "Aeq_zupHWCrL"
      },
      "source": [
        "![Result.png](data:image/png;base64,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)#Attach a screen shot of your results as proof below this cell"
      ]
    },
    {
      "cell_type": "code",
      "metadata": {
        "id": "mv-AXgndq7wA"
      },
      "source": [
        "from sklearn.metrics import confusion_matrix\n",
        "\n",
        "cm = confusion_matrix(y_test, y_pred)\n",
        "cm = cm.astype('float') / cm.sum(axis=1)[:, np.newaxis]\n",
        "cm = np.log(.0001 + cm)\n",
        "plt.imshow(cm, interpolation='nearest', cmap=plt.cm.Blues)\n",
        "plt.title('Log of normalized Confusion Matrix')\n",
        "plt.ylabel('True label')\n",
        "plt.xlabel('Predicted label')\n",
        "plt.show()"
      ],
      "execution_count": null,
      "outputs": []
    }
  ]
}