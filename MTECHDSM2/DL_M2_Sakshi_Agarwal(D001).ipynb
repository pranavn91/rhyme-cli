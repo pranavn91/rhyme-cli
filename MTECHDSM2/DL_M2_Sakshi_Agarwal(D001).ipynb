{
  "nbformat": 4,
  "nbformat_minor": 0,
  "metadata": {
    "colab": {
      "name": "DL-M2-Sakshi_Agarwal(D001).ipynb",
      "provenance": [],
      "collapsed_sections": [
        "U3j4yBByVols",
        "-wRQqOeB5Zh5"
      ]
    },
    "kernelspec": {
      "name": "python3",
      "display_name": "Python 3"
    },
    "accelerator": "GPU"
  },
  "cells": [
    {
      "cell_type": "markdown",
      "metadata": {
        "id": "zKmFmyaGunc7"
      },
      "source": [
        "# TASK #2: MOUNT DRIVE AND IMPORT LIBRARIES/DATASETS"
      ]
    },
    {
      "cell_type": "markdown",
      "metadata": {
        "id": "G4OdH814kOII"
      },
      "source": [
        "- In this case study, we want to classify images of traffic signs using deep Convolutional Neural Networks (CNNs).\n",
        "- The dataset consists of 43 different classes of images. \n",
        "- Classes are as listed below: \n",
        "  - 0 = Speed limit (20km/h) \n",
        "  - 1 = Speed limit (30km/h)\n",
        "  - 2 = Speed limit (50km/h) \n",
        "  - 3 = Speed limit (60km/h)\n",
        "  - 4 = Speed limit (70km/h) \n",
        "  - 5 = Speed limit (80km/h)\n",
        "  - 6 = End of speed limit (80km/h)\n",
        "  - 7 = Speed limit (100km/h)\n",
        "  - 8 = Speed limit (120km/h)\n",
        "  - 9 = No passing\n",
        "  - 10 = No passing for vehicles over 3.5 metric tons\n",
        "  - 11 = Right-of-way at the next intersection\n",
        "  - 12 = Priority road\n",
        "  - 13 = Yield\n",
        "  - 14 = Stop\n",
        "  - 15 = No vehicles\n",
        "  - 16 = Vehicles over 3.5 metric tons prohibited\n",
        "  - 17 = No entry\n",
        "  - 18 = General caution\n",
        "  - 19 = Dangerous curve to the left\n",
        "  - 20 = Dangerous curve to the right\n",
        "  - 21 = Double curve\n",
        "  - 22 = Bumpy road\n",
        "  - 23 = Slippery road\n",
        "  - 24 = Road narrows on the right\n",
        "  - 25 = Road work\n",
        "  - 26 = Traffic signals\n",
        "  - 27 = Pedestrians\n",
        "  - 28 = Children crossing \n",
        "  - 29 = Bicycles crossing\n",
        "  - 30 = Beware of ice/snow\n",
        "  - 31 = Wild animals crossing\n",
        "  - 32 = End of all speed and passing limits\n",
        "  - 33 = Turn right ahead\n",
        "  - 34 = Turn left ahead\n",
        "  - 35 = Ahead only\n",
        "  - 36 = Go straight or right\n",
        "  - 37 = Go straight or left\n",
        "  - 38 = Keep right\n",
        "  - 39 = Keep left\n",
        "  - 40 = Roundabout mandatory\n",
        "  - 41 = End of no passing\n",
        "  - 42 = End of no passing by vehicles over 3.5 metric tons\n",
        "\n",
        "- Citation\n",
        "J. Stallkamp, M. Schlipsing, J. Salmen, and C. Igel. The German Traffic Sign Recognition Benchmark: A multi-class classification competition. In Proceedings of the IEEE International Joint Conference on Neural Networks, pages 1453–1460. 2011. \n",
        "@inproceedings{Stallkamp-IJCNN-2011, author = {Johannes Stallkamp and Marc Schlipsing and Jan Salmen and Christian Igel}, booktitle = {IEEE International Joint Conference on Neural Networks}, title = {The {G}erman {T}raffic {S}ign {R}ecognition {B}enchmark: A multi-class classification competition}, year = {2011}, pages = {1453--1460} }"
      ]
    },
    {
      "cell_type": "code",
      "metadata": {
        "id": "AhbU2fAZh0oe"
      },
      "source": [
        "import matplotlib.pyplot as plt\n",
        "import numpy as np\n",
        "import tensorflow as tf\n",
        "import pandas as pd\n",
        "import seaborn as sns\n",
        "import pickle\n",
        "import random"
      ],
      "execution_count": null,
      "outputs": []
    },
    {
      "cell_type": "code",
      "metadata": {
        "id": "GKpz8CSLh5iQ"
      },
      "source": [
        "!wget --load-cookies /tmp/cookies.txt \"https://docs.google.com/uc?export=download&confirm=$(wget --quiet --save-cookies /tmp/cookies.txt --keep-session-cookies --no-check-certificate 'https://docs.google.com/uc?export=download&id=1tQ2HkQdxCUpAo4twbqN6mu7FYD7Ry5tq' -O- | sed -rn 's/.*confirm=([0-9A-Za-z_]+).*/\\1\\n/p')&id=1tQ2HkQdxCUpAo4twbqN6mu7FYD7Ry5tq\" -O train.p && rm -rf /tmp/cookies.txt\n",
        "!wget --no-check-certificate 'https://docs.google.com/uc?export=download&id=1zJxB1YzBYuImaHBSxWGN-ZXPDRYN_CTX' -O valid.p\n",
        "!wget --no-check-certificate 'https://docs.google.com/uc?export=download&id=1jZhZpEZkYFaaPPAwfd1cB8e-FK0aoeC0' -O test.p"
      ],
      "execution_count": null,
      "outputs": []
    },
    {
      "cell_type": "code",
      "metadata": {
        "id": "gUh_5xdjh0or"
      },
      "source": [
        "with open(\"/content/train.p\", mode='rb') as training_data:\n",
        "    train = pickle.load(training_data)\n",
        "with open(\"/content/valid.p\", mode='rb') as validation_data:\n",
        "    valid = pickle.load(validation_data)\n",
        "with open(\"/content/test.p\", mode='rb') as testing_data:\n",
        "    test = pickle.load(testing_data)"
      ],
      "execution_count": null,
      "outputs": []
    },
    {
      "cell_type": "code",
      "metadata": {
        "id": "-uEFeTF3rPl0"
      },
      "source": [
        "X_train, y_train = train['features'], train['labels']\n",
        "X_validation, y_validation = valid['features'], valid['labels']\n",
        "X_test, y_test = test['features'], test['labels']"
      ],
      "execution_count": null,
      "outputs": []
    },
    {
      "cell_type": "code",
      "metadata": {
        "id": "LTLHnPTGrRkc"
      },
      "source": [
        "X_train.shape"
      ],
      "execution_count": null,
      "outputs": []
    },
    {
      "cell_type": "code",
      "metadata": {
        "id": "1jLck0QwrSNz"
      },
      "source": [
        "y_train.shape"
      ],
      "execution_count": null,
      "outputs": []
    },
    {
      "cell_type": "code",
      "metadata": {
        "id": "kat4JHlkU72s"
      },
      "source": [
        "X_validation.shape"
      ],
      "execution_count": null,
      "outputs": []
    },
    {
      "cell_type": "code",
      "metadata": {
        "id": "hNn3RQWuU9f9"
      },
      "source": [
        "y_validation.shape"
      ],
      "execution_count": null,
      "outputs": []
    },
    {
      "cell_type": "code",
      "metadata": {
        "id": "zk9-1qu8VA6A"
      },
      "source": [
        "X_test.shape"
      ],
      "execution_count": null,
      "outputs": []
    },
    {
      "cell_type": "code",
      "metadata": {
        "id": "oqO02g_xVDbf"
      },
      "source": [
        "y_test.shape"
      ],
      "execution_count": null,
      "outputs": []
    },
    {
      "cell_type": "markdown",
      "metadata": {
        "id": "LlszUhNNyrl_"
      },
      "source": [
        "# TASK #3: PERFROM IMAGES VISUALIZATION"
      ]
    },
    {
      "cell_type": "code",
      "metadata": {
        "id": "ronVvCdJsYc5"
      },
      "source": [
        "i = np.random.randint(1, len(X_train))\n",
        "plt.imshow(X_train[i])\n",
        "y_train[i]"
      ],
      "execution_count": null,
      "outputs": []
    },
    {
      "cell_type": "code",
      "metadata": {
        "id": "ZUUvpXsmlwbb"
      },
      "source": [
        "# Let's view more images in a grid format\n",
        "# Define the dimensions of the plot grid \n",
        "W_grid = 5\n",
        "L_grid = 5\n",
        "\n",
        "# fig, axes = plt.subplots(L_grid, W_grid)\n",
        "# subplot return the figure object and axes object\n",
        "# we can use the axes object to plot specific figures at various locations\n",
        "\n",
        "fig, axes = plt.subplots(L_grid, W_grid, figsize = (10,10))\n",
        "\n",
        "axes = axes.ravel() # flaten the 15 x 15 matrix into 225 array\n",
        "\n",
        "n_training = len(X_train) # get the length of the training dataset\n",
        "\n",
        "# Select a random number from 0 to n_training\n",
        "for i in np.arange(0, W_grid * L_grid): # create evenly spaces variables \n",
        "\n",
        "    # Select a random number\n",
        "    index = np.random.randint(0, n_training)\n",
        "    # read and display an image with the selected index    \n",
        "    axes[i].imshow( X_train[index])\n",
        "    axes[i].set_title(y_train[index], fontsize = 15)\n",
        "    axes[i].axis('off')\n",
        "\n",
        "plt.subplots_adjust(hspace=0.4)\n",
        "\n",
        "        "
      ],
      "execution_count": null,
      "outputs": []
    },
    {
      "cell_type": "markdown",
      "metadata": {
        "id": "Y0GmpAjG3GiH"
      },
      "source": [
        "# TASK #4: CONVERT IMAGES TO GRAYSCALE AND PERFORM NORMALIZATION"
      ]
    },
    {
      "cell_type": "code",
      "metadata": {
        "id": "YI1QcjORsq2G"
      },
      "source": [
        "from sklearn.utils import shuffle\n",
        "X_train, y_train = shuffle(X_train, y_train)"
      ],
      "execution_count": null,
      "outputs": []
    },
    {
      "cell_type": "markdown",
      "metadata": {
        "id": "O39M8bHRjJYz"
      },
      "source": [
        "#Since its an RGB image, so it means that you have add r with g with b and then divide it by 3 to get your desired grayscale image. Its done in this way. If you have an color image like the image shown above and you want to convert it into grayscale using average method."
      ]
    },
    {
      "cell_type": "code",
      "metadata": {
        "id": "u2-GkZo0riel"
      },
      "source": [
        "X_train_gray = np.sum(X_train/3, axis = 3, keepdims = True)\n",
        "X_test_gray = np.sum(X_test/3, axis = 3, keepdims = True)\n",
        "X_validation_gray = np.sum(X_validation/3, axis = 3, keepdims = True)"
      ],
      "execution_count": null,
      "outputs": []
    },
    {
      "cell_type": "code",
      "metadata": {
        "id": "a2thgGKwricb"
      },
      "source": [
        "X_train_gray.shape\n"
      ],
      "execution_count": null,
      "outputs": []
    },
    {
      "cell_type": "code",
      "metadata": {
        "id": "4yZu7n28riaV"
      },
      "source": [
        "X_test_gray.shape\n"
      ],
      "execution_count": null,
      "outputs": []
    },
    {
      "cell_type": "code",
      "metadata": {
        "id": "Nar_imirriYX"
      },
      "source": [
        "X_validation_gray.shape"
      ],
      "execution_count": null,
      "outputs": []
    },
    {
      "cell_type": "code",
      "metadata": {
        "id": "-xRVL8FpriWI"
      },
      "source": [
        "X_train_gray_norm = (X_train_gray - 128)/128\n",
        "X_test_gray_norm = (X_test_gray - 128)/128\n",
        "X_validation_gray_norm = (X_validation_gray - 128)/128"
      ],
      "execution_count": null,
      "outputs": []
    },
    {
      "cell_type": "code",
      "metadata": {
        "id": "__hg6A5yrq2c"
      },
      "source": [
        "i = random.randint(1, len(X_train_gray))\n",
        "plt.imshow(X_train_gray[i].squeeze(), cmap = 'gray')\n",
        "plt.figure()\n",
        "plt.imshow(X_train[i])\n",
        "plt.figure()\n",
        "plt.imshow(X_train_gray_norm[i].squeeze(), cmap = 'gray')"
      ],
      "execution_count": null,
      "outputs": []
    },
    {
      "cell_type": "code",
      "metadata": {
        "id": "-unnazBBvrK-"
      },
      "source": [
        "X_train_gray_norm.shape"
      ],
      "execution_count": null,
      "outputs": []
    },
    {
      "cell_type": "code",
      "metadata": {
        "id": "gw8_pDLavrQc"
      },
      "source": [
        "X_test_gray_norm.shape"
      ],
      "execution_count": null,
      "outputs": []
    },
    {
      "cell_type": "code",
      "metadata": {
        "id": "pVof1odRwCfW"
      },
      "source": [
        "X_validation_gray_norm.shape"
      ],
      "execution_count": null,
      "outputs": []
    },
    {
      "cell_type": "markdown",
      "metadata": {
        "id": "U3j4yBByVols"
      },
      "source": [
        "#Building the model"
      ]
    },
    {
      "cell_type": "markdown",
      "metadata": {
        "id": "rKxOS1MfVq3J"
      },
      "source": [
        "#Use this space for coding"
      ]
    },
    {
      "cell_type": "code",
      "metadata": {
        "id": "zyX8nViQVtr_"
      },
      "source": [
        "from keras.models import Model,Sequential\n",
        "from keras.layers import Dense, MaxPooling2D,Conv2D,Flatten,BatchNormalization,Dropout\n",
        "from keras.optimizers import Adam,RMSprop\n",
        "from keras.utils import to_categorical\n",
        "from keras.callbacks import ModelCheckpoint"
      ],
      "execution_count": null,
      "outputs": []
    },
    {
      "cell_type": "code",
      "metadata": {
        "id": "vJcjXzQ1zx8j"
      },
      "source": [
        "y_train = to_categorical(y_train, 43)\n",
        "y_test = to_categorical(y_test, 43)\n",
        "y_validation = to_categorical(y_validation, 43)"
      ],
      "execution_count": null,
      "outputs": []
    },
    {
      "cell_type": "markdown",
      "metadata": {
        "id": "NoK4pNfm0t6G"
      },
      "source": [
        "### Using a very simple model 1"
      ]
    },
    {
      "cell_type": "code",
      "metadata": {
        "id": "bBkFONjuVt6D"
      },
      "source": [
        "model=Sequential([Conv2D(32,(3,3),activation='relu',input_shape=(32,32,1),padding='same'),\n",
        "                  MaxPooling2D(),\n",
        "                  Conv2D(32,(3,3),activation='relu',padding='same'),\n",
        "                  MaxPooling2D(),\n",
        "                  Conv2D(32,(3,3),activation='relu',padding='same'),\n",
        "                  MaxPooling2D(),\n",
        "                  Flatten(),\n",
        "                  Dense(1000,activation='relu'),\n",
        "                  Dense(512,activation='relu'),\n",
        "                  Dense(43,activation='softmax')\n",
        "])\n",
        "\n",
        "model.compile(optimizer='adam',loss='categorical_crossentropy',metrics=['accuracy'])\n",
        "model.summary()"
      ],
      "execution_count": null,
      "outputs": []
    },
    {
      "cell_type": "code",
      "metadata": {
        "id": "yjA_gsw04DFr"
      },
      "source": [
        "filepath1=\"weights-for-best-accuracy-model1-{epoch:02d}-{val_accuracy:.2f}.hdf5\"\n",
        "save_acc = ModelCheckpoint(filepath1, monitor='val_accuracy', verbose=1, save_best_only=True, mode='max')"
      ],
      "execution_count": null,
      "outputs": []
    },
    {
      "cell_type": "code",
      "metadata": {
        "id": "kvgHVYQ-4raJ"
      },
      "source": [
        "history=model.fit(X_train_gray_norm,y_train,epochs=15,verbose=1,validation_data=(X_validation_gray_norm,y_validation),callbacks=[save_acc])"
      ],
      "execution_count": null,
      "outputs": []
    },
    {
      "cell_type": "markdown",
      "metadata": {
        "id": "HHMvBv9X0s01"
      },
      "source": [
        "### Using model 2 - a deep model"
      ]
    },
    {
      "cell_type": "code",
      "metadata": {
        "id": "tyjJaGMx0XXY"
      },
      "source": [
        "model2 = Sequential()\n",
        "\n",
        "model2.add(Conv2D(filters = 32, kernel_size = (3, 3), activation='relu',\n",
        "                 input_shape = (32,32, 1)))\n",
        "model2.add(BatchNormalization())\n",
        "model2.add(Conv2D(filters = 64, kernel_size = (3, 3), activation='relu'))\n",
        "model2.add(BatchNormalization())\n",
        "model2.add(Conv2D(filters = 64, kernel_size = (3, 3), activation='relu'))\n",
        "model2.add(BatchNormalization())\n",
        "model2.add(MaxPooling2D(strides=(2,2)))\n",
        "model2.add(Dropout(0.25))\n",
        "\n",
        "model2.add(Conv2D(filters = 128, kernel_size = (3, 3), activation='relu'))\n",
        "model2.add(BatchNormalization())\n",
        "model2.add(Conv2D(filters = 128, kernel_size = (3, 3), activation='relu'))\n",
        "model2.add(BatchNormalization())\n",
        "model2.add(MaxPooling2D(strides=(2,2)))\n",
        "model2.add(Dropout(0.25))\n",
        "\n",
        "model2.add(Flatten())\n",
        "model2.add(Dense(1024, activation='relu'))\n",
        "model2.add(Dropout(0.25))\n",
        "model2.add(Dense(512, activation='relu'))\n",
        "model2.add(Dropout(0.5))\n",
        "model2.add(Dense(43, activation='softmax'))\n",
        "\n",
        "model2.compile(optimizer='adam',loss='categorical_crossentropy',metrics=['accuracy'])"
      ],
      "execution_count": null,
      "outputs": []
    },
    {
      "cell_type": "code",
      "metadata": {
        "id": "dSYsYQdw2aKV"
      },
      "source": [
        "filepath1=\"weights-for-best-accuracy-model2-{epoch:02d}-{val_accuracy:.2f}.hdf5\"\n",
        "save_acc = ModelCheckpoint(filepath1, monitor='val_accuracy', verbose=1, save_best_only=True, mode='max')"
      ],
      "execution_count": null,
      "outputs": []
    },
    {
      "cell_type": "code",
      "metadata": {
        "id": "3tlSnjnpGsyH"
      },
      "source": [
        "history5=model2.fit(X_train_gray_norm,y_train,epochs=20,verbose=1,validation_data=(X_validation_gray_norm,y_validation),callbacks=[save_acc])"
      ],
      "execution_count": null,
      "outputs": []
    },
    {
      "cell_type": "markdown",
      "metadata": {
        "id": "XCNV98oZ5Cio"
      },
      "source": [
        "### Using Transfer learning - VGG16"
      ]
    },
    {
      "cell_type": "code",
      "metadata": {
        "id": "ZSVMepzW56Hz"
      },
      "source": [
        "from keras.applications import VGG16\n",
        "\n",
        "vgg16_base_model = VGG16(weights='imagenet', include_top=False, input_shape=(32,32,3))\n",
        "\n",
        "for layer in vgg16_base_model.layers:\n",
        "  layer.trainable = False\n",
        "\n",
        "x = vgg16_base_model.output\n",
        "x = Flatten()(x)\n",
        "x = Dense(512, activation='relu')(x)\n",
        "x = Dense(128, activation='relu')(x)\n",
        "output = Dense(43, activation='softmax')(x)\n",
        " \n",
        "vgg16_model = Model(inputs=vgg16_base_model.input, outputs=output)\n",
        "for layer in vgg16_model.layers:\n",
        "  layer.trainable = True\n",
        "\n",
        "Metrics = ['accuracy']\n",
        "  \n",
        "vgg16_model.compile(loss='categorical_crossentropy', \n",
        "                  optimizer='adam', \n",
        "                  metrics=Metrics)"
      ],
      "execution_count": null,
      "outputs": []
    },
    {
      "cell_type": "code",
      "metadata": {
        "id": "6Li2BylU9hPh"
      },
      "source": [
        "filepath1=\"weights-for-best-accuracy-modelvgg-{epoch:02d}-{val_accuracy:.2f}.hdf5\"\n",
        "save_acc = ModelCheckpoint(filepath1, monitor='val_accuracy', verbose=1, save_best_only=True, mode='max')"
      ],
      "execution_count": null,
      "outputs": []
    },
    {
      "cell_type": "code",
      "metadata": {
        "id": "EKhYRudK7QoQ"
      },
      "source": [
        "history3=vgg16_model.fit(X_train,y_train,\n",
        "       epochs = 15,\n",
        "       validation_data=(X_validation,y_validation),\n",
        "       callbacks=[save_acc])\n"
      ],
      "execution_count": null,
      "outputs": []
    },
    {
      "cell_type": "markdown",
      "metadata": {
        "id": "SBO5GrNF9yMc"
      },
      "source": [
        "### Using Transfer learning - Resnet50"
      ]
    },
    {
      "cell_type": "code",
      "metadata": {
        "id": "EcAzNp65A2wD"
      },
      "source": [
        "from keras.applications import ResNet50\n",
        "\n",
        "Resnet_base_model=ResNet50(include_top=False,input_shape=(32,32,3),\n",
        "                           weights='imagenet')\n",
        "\n",
        "for layer in Resnet_base_model.layers:\n",
        "    layer.trainable = False\n",
        "\n",
        "x = Resnet_base_model.output\n",
        "x = Flatten()(x)\n",
        "x = Dense(512,activation=\"relu\")(x)\n",
        "x = Dense(256, activation='relu')(x)\n",
        "x = Dense(128, activation='relu')(x)\n",
        "output = Dense(43,activation=\"softmax\")(x)\n",
        " \n",
        "resnet_model = Model(inputs=Resnet_base_model.input, outputs=output)\n",
        "\n",
        "for layer in resnet_model.layers:\n",
        "  layer.trainable = True\n",
        "\n",
        "resnet_model.compile(optimizer=RMSprop(learning_rate=0.001),loss='categorical_crossentropy',metrics=['accuracy'])\n"
      ],
      "execution_count": null,
      "outputs": []
    },
    {
      "cell_type": "code",
      "metadata": {
        "id": "TPj9Qwz__O7j"
      },
      "source": [
        "filepath1=\"weights-for-best-accuracy-modelresnet-{epoch:02d}-{val_accuracy:.2f}.hdf5\"\n",
        "save_accuracy = ModelCheckpoint(filepath1, monitor='val_accuracy', verbose=1, save_best_only=True, mode='max')"
      ],
      "execution_count": null,
      "outputs": []
    },
    {
      "cell_type": "code",
      "metadata": {
        "id": "F5eRZWZE-ND1"
      },
      "source": [
        "history4=resnet_model.fit(X_train,y_train,epochs=10,validation_data=(X_validation,y_validation),callbacks=[save_accuracy])"
      ],
      "execution_count": null,
      "outputs": []
    },
    {
      "cell_type": "markdown",
      "metadata": {
        "id": "-wRQqOeB5Zh5"
      },
      "source": [
        "# TASK #8: ASSESS TRAINED CNN MODEL PERFORMANCE "
      ]
    },
    {
      "cell_type": "markdown",
      "metadata": {
        "id": "7ZNyctYAV4SK"
      },
      "source": [
        "#Marks will be given on basis of next code cells results"
      ]
    },
    {
      "cell_type": "markdown",
      "metadata": {
        "id": "VEq4Y8iV0ex-"
      },
      "source": [
        "### Using simple model 1"
      ]
    },
    {
      "cell_type": "code",
      "metadata": {
        "id": "dtZ_7pMQ43WU"
      },
      "source": [
        "model.load_weights('/content/weights-for-best-accuracy-model1-15-0.94.hdf5')\n"
      ],
      "execution_count": null,
      "outputs": []
    },
    {
      "cell_type": "code",
      "metadata": {
        "id": "IV5ccgKX43Yz"
      },
      "source": [
        "val_score=model.evaluate(X_validation_gray_norm,y_validation)\n",
        "print('Validation Accuracy: {}'.format(val_score[1]))"
      ],
      "execution_count": null,
      "outputs": []
    },
    {
      "cell_type": "code",
      "metadata": {
        "id": "_RpB2PAd9SE9"
      },
      "source": [
        "score = model.evaluate(X_test_gray_norm, y_test)\n",
        "print('Test Accuracy: {}'.format(score[1]))"
      ],
      "execution_count": null,
      "outputs": []
    },
    {
      "cell_type": "markdown",
      "metadata": {
        "id": "WWSKvHmw0in-"
      },
      "source": [
        "### Using model 2 - A very deep model"
      ]
    },
    {
      "cell_type": "code",
      "metadata": {
        "id": "AMZHs2se2wKK"
      },
      "source": [
        "model2.load_weights('/content/weights-for-best-accuracy-model2-19-0.99.hdf5')\n"
      ],
      "execution_count": null,
      "outputs": []
    },
    {
      "cell_type": "code",
      "metadata": {
        "id": "BYqZLmxb21Xy"
      },
      "source": [
        "val_score=model2.evaluate(X_validation_gray_norm,y_validation)\n",
        "print('Validation Accuracy: {}'.format(val_score[1]))"
      ],
      "execution_count": null,
      "outputs": []
    },
    {
      "cell_type": "code",
      "metadata": {
        "id": "_vS3UXjE0cqG"
      },
      "source": [
        "score = model2.evaluate(X_test_gray_norm, y_test)\n",
        "print('Test Accuracy: {}'.format(score[1]))"
      ],
      "execution_count": null,
      "outputs": []
    },
    {
      "cell_type": "markdown",
      "metadata": {
        "id": "8Mu9tgC-8TIv"
      },
      "source": [
        "### Using VGG16"
      ]
    },
    {
      "cell_type": "code",
      "metadata": {
        "id": "JB6_9fIK8Nqv"
      },
      "source": [
        "vgg16_model.load_weights('/content/weights-for-best-accuracy-modelvgg-14-0.97.hdf5')"
      ],
      "execution_count": null,
      "outputs": []
    },
    {
      "cell_type": "code",
      "metadata": {
        "id": "QJEMqvWu8N2S"
      },
      "source": [
        "val_score=vgg16_model.evaluate(X_validation,y_validation)\n",
        "print('Validation Accuracy: {}'.format(val_score[1]))"
      ],
      "execution_count": null,
      "outputs": []
    },
    {
      "cell_type": "code",
      "metadata": {
        "id": "lbp-OJmi8OsK"
      },
      "source": [
        "score = vgg16_model.evaluate(X_test, y_test)\n",
        "print('Test Accuracy: {}'.format(score[1]))"
      ],
      "execution_count": null,
      "outputs": []
    },
    {
      "cell_type": "markdown",
      "metadata": {
        "id": "3Jxro5m99Wdh"
      },
      "source": [
        "### Using Resnet50"
      ]
    },
    {
      "cell_type": "code",
      "metadata": {
        "id": "KK7H00dU9Wsm"
      },
      "source": [
        "resnet_model.load_weights('/content/weights-for-best-accuracy-modelresnet-04-0.95.hdf5')"
      ],
      "execution_count": null,
      "outputs": []
    },
    {
      "cell_type": "code",
      "metadata": {
        "id": "GSTzs1F49Wwb"
      },
      "source": [
        "val_score=resnet_model.evaluate(X_validation,y_validation)\n",
        "print('Validation Accuracy: {}'.format(val_score[1]))"
      ],
      "execution_count": null,
      "outputs": []
    },
    {
      "cell_type": "code",
      "metadata": {
        "id": "vYsWrQ0U9W0f"
      },
      "source": [
        "score = resnet_model.evaluate(X_test, y_test)\n",
        "print('Test Accuracy: {}'.format(score[1]))"
      ],
      "execution_count": null,
      "outputs": []
    },
    {
      "cell_type": "markdown",
      "metadata": {
        "id": "Aeq_zupHWCrL"
      },
      "source": [
        "#Attach a screen shot of your results as proof below this cell"
      ]
    },
    {
      "cell_type": "markdown",
      "metadata": {
        "id": "E3cb7G2JCeJa"
      },
      "source": [
        "Using model 2 , I got the best accuracy on test dataset i.e. 97.66% after saving the best model weights and loaded it and then used to test"
      ]
    },
    {
      "cell_type": "markdown",
      "metadata": {
        "id": "-jFJLpW1L6p_"
      },
      "source": [
        "![image.png](data:image/png;base64,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)"
      ]
    },
    {
      "cell_type": "code",
      "metadata": {
        "id": "mv-AXgndq7wA"
      },
      "source": [
        ""
      ],
      "execution_count": null,
      "outputs": []
    },
    {
      "cell_type": "markdown",
      "metadata": {
        "id": "VJwpqxvAV9bW"
      },
      "source": [
        "#Other helper functions"
      ]
    },
    {
      "cell_type": "code",
      "metadata": {
        "id": "FM1WY_Q_sMkL"
      },
      "source": [
        "history5.history.keys()"
      ],
      "execution_count": null,
      "outputs": []
    },
    {
      "cell_type": "code",
      "metadata": {
        "id": "xBBJ9WlpsMiH"
      },
      "source": [
        "accuracy = history5.history['accuracy']\n",
        "val_accuracy = history5.history['val_accuracy']\n",
        "loss = history5.history['loss']\n",
        "val_loss = history5.history['val_loss']"
      ],
      "execution_count": null,
      "outputs": []
    },
    {
      "cell_type": "code",
      "metadata": {
        "id": "c8oHEt0OsMf2"
      },
      "source": [
        "epochs = range(len(accuracy))\n",
        "\n",
        "plt.plot(epochs, accuracy, 'bo', label='Training Accuracy')\n",
        "plt.plot(epochs, val_accuracy, 'b', label='Validation Accuracy')\n",
        "plt.title('Training and Validation Accuracy')\n",
        "plt.legend()"
      ],
      "execution_count": null,
      "outputs": []
    },
    {
      "cell_type": "code",
      "metadata": {
        "id": "liiGj4HdsMa3"
      },
      "source": [
        "plt.plot(epochs, loss, 'ro', label='Training loss')\n",
        "plt.plot(epochs, val_loss, 'r', label='Validation loss')\n",
        "plt.title('Training and Validation loss')\n",
        "plt.legend()"
      ],
      "execution_count": null,
      "outputs": []
    },
    {
      "cell_type": "code",
      "metadata": {
        "id": "RKZxo6khsMYv"
      },
      "source": [
        "predicted_classes = model2.predict_classes(X_test_gray_norm)\n",
        "y_true = y_test"
      ],
      "execution_count": null,
      "outputs": []
    },
    {
      "cell_type": "code",
      "metadata": {
        "id": "3knUnry5sMWd"
      },
      "source": [
        "from sklearn.metrics import confusion_matrix\n",
        "cm = confusion_matrix(y_true, predicted_classes)\n",
        "plt.figure(figsize = (25, 25))\n",
        "sns.heatmap(cm, annot = True)"
      ],
      "execution_count": null,
      "outputs": []
    },
    {
      "cell_type": "code",
      "metadata": {
        "id": "3WLTbXkysVdv"
      },
      "source": [
        "L = 5\n",
        "W = 5\n",
        "\n",
        "fig, axes = plt.subplots(L, W, figsize = (12, 12))\n",
        "axes = axes.ravel()\n",
        "\n",
        "for i in np.arange(0, L*W):\n",
        "    axes[i].imshow(X_test[i])\n",
        "    axes[i].set_title('Prediction = {}\\n True = {}'.format(predicted_classes[i], y_true[i]))\n",
        "    axes[i].axis('off')\n",
        "\n",
        "plt.subplots_adjust(wspace = 1)    "
      ],
      "execution_count": null,
      "outputs": []
    }
  ]
}